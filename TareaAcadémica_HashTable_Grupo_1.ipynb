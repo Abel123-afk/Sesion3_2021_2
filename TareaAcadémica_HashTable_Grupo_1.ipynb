{
  "nbformat": 4,
  "nbformat_minor": 0,
  "metadata": {
    "colab": {
      "name": "TareaAcadémica_HashTable_Grupo_1.ipynb",
      "provenance": [],
      "authorship_tag": "ABX9TyMcqlyFsHFRtzbNDWh8hQOD",
      "include_colab_link": true
    },
    "kernelspec": {
      "name": "python3",
      "display_name": "Python 3"
    },
    "language_info": {
      "name": "python"
    }
  },
  "cells": [
    {
      "cell_type": "markdown",
      "metadata": {
        "id": "view-in-github",
        "colab_type": "text"
      },
      "source": [
        "<a href=\"https://colab.research.google.com/github/Abel123-afk/Sesion3_2021_2/blob/Sesionmain/TareaAcad%C3%A9mica_HashTable_Grupo_1.ipynb\" target=\"_parent\"><img src=\"https://colab.research.google.com/assets/colab-badge.svg\" alt=\"Open In Colab\"/></a>"
      ]
    },
    {
      "cell_type": "code",
      "metadata": {
        "colab": {
          "base_uri": "https://localhost:8080/"
        },
        "id": "I_w8udULGVQH",
        "outputId": "bc269716-5cad-42ee-edcf-a24688d7aada"
      },
      "source": [
        "%%writefile HashEntidad.hpp\n",
        "template<class Llave,class Valor>\n",
        "class HashEntidad {\n",
        "private:\t\n",
        "\tLlave key;\n",
        "\tValor value;\n",
        "public:\n",
        "\tHashEntidad(Llave key, Valor value) {\n",
        "\t\tthis->key = key;\n",
        "\t\tthis->value = value;\n",
        "\t}\n",
        "\tLlave getKey() { return key; }\n",
        "\tValor getValue() { return value; }\n",
        "};"
      ],
      "execution_count": 26,
      "outputs": [
        {
          "output_type": "stream",
          "name": "stdout",
          "text": [
            "Overwriting HashEntidad.hpp\n"
          ]
        }
      ]
    },
    {
      "cell_type": "markdown",
      "metadata": {
        "id": "yGUl9jeGJ-CS"
      },
      "source": [
        "* Modificar a Templates"
      ]
    },
    {
      "cell_type": "code",
      "metadata": {
        "colab": {
          "base_uri": "https://localhost:8080/"
        },
        "id": "TIvxC-6gKKSy",
        "outputId": "61ca6f76-2f7e-4c9c-eb5b-9d3e411d677a"
      },
      "source": [
        "%%writefile hashTable.cpp\n",
        "#include <iostream>\n",
        "#include\"HashEntidad.hpp\"\n",
        "using namespace std;\n",
        "\n",
        "template<class Llave,class Valor>\n",
        "class HashTabla {\n",
        "private:\n",
        "\tHashEntidad<Llave,Valor> ** tabla;\n",
        "\tsize_t size; //La cantidad de elementos\n",
        "\tsize_t Tsize; //Tamaño de la tabla\n",
        "public:\n",
        "\tHashTabla( size_t Tsize= 128) {\n",
        "\t\tthis->Tsize = Tsize;\n",
        "\t\ttabla = new HashEntidad<Llave,Valor>*[Tsize];\n",
        "\t\tfor (size_t i = 0; i < Tsize; ++i) {\n",
        "\t\t\ttabla[i] = nullptr;\n",
        "\t\t}\n",
        "\t\tsize = 0;\n",
        "\t}\n",
        "\t~HashTabla()\n",
        "\t{\n",
        "\t\tfor (size_t i = 0; i < Tsize; ++i) {\n",
        "\t\t\tif (tabla[i] != nullptr) {\n",
        "\t\t\t\tdelete tabla[i];\n",
        "\t\t\t}\n",
        "\t\t}\n",
        "\t\tdelete[] tabla;\n",
        "\t}\n",
        "\t//Direccionamiento según Prueba Lineal\n",
        "\tvoid insertar(Llave key, Valor value) {\n",
        "\t\t//Hash prima\n",
        "\t\tint base, step, hash;\n",
        "\t\t//validar si la tabla está llena\n",
        "\t\tif (size == Tsize)return;\n",
        "\t\t//Función Hash1\n",
        "\t\tbase = key%Tsize;\n",
        "\t\thash = base;\n",
        "\t\t//constante para Hash2\n",
        "\t\tstep = 0;\n",
        "\t\twhile (tabla[hash]!=nullptr)\n",
        "\t\t{\n",
        "\t\t\t//Función Hash2\n",
        "\t\t\thash = (base + step) % Tsize;\n",
        "\t\t\tstep++;\n",
        "\t\t}\n",
        "\t\t//almacenarlo en la tabla\n",
        "\t\ttabla[hash] = new HashEntidad<Llave,Valor>(key,value);\n",
        "\t\tsize++;\n",
        "\t}\n",
        "\tsize_t tamannio() {\n",
        "\t\treturn this->Tsize;\n",
        "\t}\n",
        "\tsize_t sizeactual() {\n",
        "\t\treturn this->size;\n",
        "\t}\n",
        "\tint buscar(Llave key) {\n",
        "\t\tint step = 0;\n",
        "\t\tint i, base;\n",
        "\t\ti = base = key%Tsize; //hash1 es = a hash2 cuando step=0;\n",
        "\t\twhile (true)\n",
        "\t\t{\n",
        "\t\t\tif (tabla[i] == nullptr)return -1;\n",
        "\t\t\telse if(tabla[i]->getKey()==key) {\n",
        "\t\t\t\treturn i;\n",
        "\t\t\t}\n",
        "\t\t\telse step++;\n",
        "\n",
        "\t\t\ti = (base + step) % Tsize;\n",
        "\t\t}\n",
        "\t}\n",
        "};\n",
        "\n",
        "void imprimirTablaHash(HashTabla<int,int> *ht,int*keys) {\n",
        "\tcout << \"SIZE TABLA: \" << ht->tamannio()<<endl;\n",
        "\tcout << \"SIZE ACTUAL: \" << ht->sizeactual() << endl;\n",
        "\tfor (int i = 0; i < ht->tamannio(); ++i) {\n",
        "\t\tcout << ht->buscar(keys[i])<< \" : \" <<keys[i] << endl;\n",
        "\t}\n",
        "}\n",
        "\n",
        "int main() {\n",
        "\tHashTabla<int,int> *ht = new HashTabla<int,int>(9);\n",
        "\tint keys[] = {6,34,67,92,8,5,3,2,15};\n",
        "\tht->insertar(6, 60);\n",
        "\tht->insertar(34, 340);\n",
        "\tht->insertar(67, 160);\n",
        "\tht->insertar(92, 360);\n",
        "\tht->insertar(8, 120);\n",
        "\tht->insertar(5, 452);\n",
        "\tht->insertar(3, 422);\n",
        "\tht->insertar(2, 952);\n",
        "\tht->insertar(15, 752);\n",
        "\n",
        "\timprimirTablaHash(ht, keys);\n",
        "\n",
        "\treturn 0;\n",
        "}"
      ],
      "execution_count": 2,
      "outputs": [
        {
          "output_type": "stream",
          "name": "stdout",
          "text": [
            "Writing hashTable.cpp\n"
          ]
        }
      ]
    },
    {
      "cell_type": "code",
      "metadata": {
        "colab": {
          "base_uri": "https://localhost:8080/"
        },
        "id": "Hn9Lue90TpgE",
        "outputId": "f9e3b8f7-fbea-4c63-bc2f-52412f1defa0"
      },
      "source": [
        "!g++ hashTable.cpp && ./a.out"
      ],
      "execution_count": 3,
      "outputs": [
        {
          "output_type": "stream",
          "name": "stdout",
          "text": [
            "SIZE TABLA: 9\n",
            "SIZE ACTUAL: 9\n",
            "6 : 6\n",
            "7 : 34\n",
            "4 : 67\n",
            "2 : 92\n",
            "8 : 8\n",
            "5 : 5\n",
            "3 : 3\n",
            "0 : 2\n",
            "1 : 15\n"
          ]
        }
      ]
    },
    {
      "cell_type": "markdown",
      "metadata": {
        "id": "m6phj6SzKM6g"
      },
      "source": [
        "* Implementar crecimiento de bucket por la criba de eratostenes"
      ]
    },
    {
      "cell_type": "code",
      "metadata": {
        "id": "fhGLlCtoKN5m",
        "colab": {
          "base_uri": "https://localhost:8080/"
        },
        "outputId": "e75bdab6-f5b3-4e12-e840-7f91f0361a29"
      },
      "source": [
        "%%writefile hashTable_Criba.cpp\n",
        "#include <iostream>\n",
        "#include\"HashEntidad.hpp\"\n",
        "using namespace std;\n",
        "\n",
        "template<class Llave,class Valor>\n",
        "class HashTabla {\n",
        "private:\n",
        "\tHashEntidad<Llave,Valor> ** tabla;\n",
        "\tsize_t size; //La cantidad de elementos\n",
        "\tsize_t Tsize; //Tamaño de la tabla\n",
        "  size_t Criba(size_t n)//13\n",
        "{\n",
        "   while (true)\n",
        "   {\n",
        "      n++;//14\n",
        "      int m = n/2;//7 -> 14 * 1\n",
        "      bool esPrimo = 1;\n",
        "      for (int i = 2; i <= m; i++)\n",
        "      {\n",
        "         if(n % i == 0)\n",
        "         {\n",
        "            esPrimo = 0;\n",
        "            break;\n",
        "         }\n",
        "      }\n",
        "      if(esPrimo == 1)\n",
        "      return n;\n",
        "   }\n",
        "}\n",
        "public:\n",
        "\tHashTabla( size_t Tsize= 128) {\n",
        "\t\tthis->Tsize = Criba(Tsize);\n",
        "\t\ttabla = new HashEntidad<Llave,Valor>*[this->Tsize];\n",
        "\t\tfor (size_t i = 0; i < this->Tsize; ++i) {\n",
        "\t\t\ttabla[i] = nullptr;\n",
        "\t\t}\n",
        "\t\tsize = 0;\n",
        "\t}\n",
        "\t~HashTabla()\n",
        "\t{\n",
        "\t\tfor (size_t i = 0; i < Tsize; ++i) {\n",
        "\t\t\tif (tabla[i] != nullptr) {\n",
        "\t\t\t\tdelete tabla[i];\n",
        "\t\t\t}\n",
        "\t\t}\n",
        "\t\tdelete[] tabla;\n",
        "\t}\n",
        "\t//Direccionamiento según Prueba Lineal\n",
        "\tvoid insertar(Llave key, Valor value) {\n",
        "\t\t//Hash prima\n",
        "\t\tint base, step, hash;\n",
        "\t\t//validar si la tabla está llena\n",
        "\t\tif (size == Tsize)return;\n",
        "\t\t//Función Hash1\n",
        "\t\tbase = key%Tsize;\n",
        "\t\thash = base;\n",
        "\t\t//constante para Hash2\n",
        "\t\tstep = 0;\n",
        "\t\twhile (tabla[hash]!=nullptr)\n",
        "\t\t{\n",
        "\t\t\t//Función Hash2\n",
        "\t\t\thash = (base + step) % Tsize;\n",
        "\t\t\tstep++;\n",
        "\t\t}\n",
        "\t\t//almacenarlo en la tabla\n",
        "\t\ttabla[hash] = new HashEntidad<Llave,Valor>(key,value);\n",
        "\t\tsize++;\n",
        "\t}\n",
        "\tsize_t tamannio() {\n",
        "\t\treturn this->Tsize;\n",
        "\t}\n",
        "\tsize_t sizeactual() {\n",
        "\t\treturn this->size;\n",
        "\t}\n",
        "\tint buscar(Llave key) {\n",
        "\t\tint step = 0;\n",
        "\t\tint i, base;\n",
        "\t\ti = base = key%Tsize; //hash1 es = a hash2 cuando step=0;\n",
        "\t\twhile (true)\n",
        "\t\t{\n",
        "\t\t\tif (tabla[i] == nullptr)return -1;\n",
        "\t\t\telse if(tabla[i]->getKey()==key) {\n",
        "\t\t\t\treturn i;\n",
        "\t\t\t}\n",
        "\t\t\telse step++;\n",
        "\n",
        "\t\t\ti = (base + step) % Tsize;\n",
        "\t\t}\n",
        "\t}\n",
        "\n",
        "};\n",
        "\n",
        "void imprimirTablaHash(HashTabla<int,int> *ht,int*keys) {\n",
        "\tcout << \"SIZE TABLA: \" << ht->tamannio()<<endl;\n",
        "\tcout << \"SIZE ACTUAL: \" << ht->sizeactual() << endl;\n",
        "\tfor (int i = 0; i < ht->sizeactual(); ++i) {\n",
        "\t\tcout << ht->buscar(keys[i])<< \" : \" <<keys[i] << endl;\n",
        "\t}\n",
        "}\n",
        "//Implementar crecimiento de bucket por la criba de eratostenes\n",
        "\n",
        "\n",
        "\n",
        "int main() {\n",
        "\tHashTabla<int,int> *ht = new HashTabla<int,int>(9);\n",
        "\tint keys[] = {6,34,67,92,8,5,3,2,15};\n",
        "\tht->insertar(6, 60);\n",
        "\tht->insertar(34, 340);\n",
        "\tht->insertar(67, 160);\n",
        "\tht->insertar(92, 360);\n",
        "\tht->insertar(8, 120);\n",
        "\tht->insertar(5, 452);\n",
        "\tht->insertar(3, 422);\n",
        "\tht->insertar(2, 952);\n",
        "\tht->insertar(15, 752);\n",
        "\timprimirTablaHash(ht, keys);\n",
        "\n",
        "\treturn 0;\n",
        "}"
      ],
      "execution_count": 4,
      "outputs": [
        {
          "output_type": "stream",
          "name": "stdout",
          "text": [
            "Writing hashTable_Criba.cpp\n"
          ]
        }
      ]
    },
    {
      "cell_type": "code",
      "metadata": {
        "colab": {
          "base_uri": "https://localhost:8080/"
        },
        "id": "11nJiWIFvkWk",
        "outputId": "a3c69b13-3c28-4e25-bcf8-6c34182208c7"
      },
      "source": [
        "!g++ hashTable_Criba.cpp && ./a.out"
      ],
      "execution_count": 5,
      "outputs": [
        {
          "output_type": "stream",
          "name": "stdout",
          "text": [
            "SIZE TABLA: 11\n",
            "SIZE ACTUAL: 9\n",
            "6 : 6\n",
            "1 : 34\n",
            "2 : 67\n",
            "4 : 92\n",
            "8 : 8\n",
            "5 : 5\n",
            "3 : 3\n",
            "7 : 2\n",
            "9 : 15\n"
          ]
        }
      ]
    },
    {
      "cell_type": "markdown",
      "metadata": {
        "id": "6Kd9M0efKOgN"
      },
      "source": [
        "* Inserte objetos en lugar de números"
      ]
    },
    {
      "cell_type": "code",
      "metadata": {
        "colab": {
          "base_uri": "https://localhost:8080/"
        },
        "id": "TZel5SP2YaOO",
        "outputId": "34c9238c-1cd7-47e0-b6d6-370addcf4869"
      },
      "source": [
        "%%writefile Estudiante.hpp\n",
        "#pragma once\n",
        "#include<string>\n",
        "#include<iostream>\n",
        "using namespace std;\n",
        "string facultades[4] = {\"Ingenieria\",\"Derecho\",\"Administracion\",\"Economia\"};\n",
        "string nombres[4] = {\"Dominik\",\"Branco\",\"Willy\",\"Abel\"};\n",
        "class Estudiante\n",
        "{\n",
        "private:\n",
        "\tstring nombre;\n",
        "\tshort edad;\n",
        "\tstring facultad;\n",
        "public:\n",
        "\tEstudiante()\n",
        "\t{\n",
        "\t\tedad = rand() % 18 + 17;\n",
        "\t\tfacultad = facultades[rand() % 4];\n",
        "\t\tnombre = nombres[rand() % 4];\n",
        "\t}\n",
        "\t~Estudiante()\n",
        "\t{\n",
        "\n",
        "\t}\n",
        "\tvoid show()\n",
        "\t{\n",
        "\t\tcout << \"Nombre: \" << nombre << \" , Edad: \" << edad << \", Carrera: \" << facultad << endl;\n",
        "\t}\n",
        "\tvoid setNombre(string name)\n",
        "\t{\n",
        "\t\tnombre = name;\n",
        "\t}\n",
        "\n",
        "};"
      ],
      "execution_count": 25,
      "outputs": [
        {
          "output_type": "stream",
          "name": "stdout",
          "text": [
            "Overwriting Estudiante.hpp\n"
          ]
        }
      ]
    },
    {
      "cell_type": "code",
      "metadata": {
        "id": "gLtEckotKVw0",
        "colab": {
          "base_uri": "https://localhost:8080/"
        },
        "outputId": "9c75f54e-8fa8-4154-9282-e5d79e2000c3"
      },
      "source": [
        "%%writefile hashTable_objetos.cpp\n",
        "#include <iostream>\n",
        "#include<functional>\n",
        "#include\"Estudiante.hpp\"\n",
        "#include\"HashEntidad.hpp\"\n",
        "using namespace std;\n",
        "\n",
        "template<class Llave, class Valor>\n",
        "class HashTabla {\n",
        "private:\n",
        "\tfunction<int(Llave,int)>funcion_hash;\n",
        "\tHashEntidad<Llave, Valor>** tabla;\n",
        "\tsize_t size; //La cantidad de elementos\n",
        "\tsize_t Tsize; //Tamaño de la tabla\n",
        "\tsize_t Criba(size_t n)//13\n",
        "\t{\n",
        "\t\twhile (true)\n",
        "\t\t{\n",
        "\t\t\tn++;//14\n",
        "\t\t\tint m = n / 2;//7 -> 14 * 1\n",
        "\t\t\tbool esPrimo = 1;\n",
        "\t\t\tfor (int i = 2; i <= m; i++)\n",
        "\t\t\t{\n",
        "\t\t\t\tif (n % i == 0)\n",
        "\t\t\t\t{\n",
        "\t\t\t\t\tesPrimo = 0;\n",
        "\t\t\t\t\tbreak;\n",
        "\t\t\t\t}\n",
        "\t\t\t}\n",
        "\t\t\tif (esPrimo == 1)\n",
        "\t\t\t\treturn n;\n",
        "\t\t}\n",
        "\t}\n",
        "public:\n",
        "\tHashTabla(size_t Tsize, function<int(Llave,size_t)>f) {\n",
        "\t\tthis->Tsize = Criba(Tsize);\n",
        "\t\ttabla = new HashEntidad<Llave, Valor> * [this->Tsize];\n",
        "\t\tfor (size_t i = 0; i < this->Tsize; ++i) {\n",
        "\t\t\ttabla[i] = nullptr;\n",
        "\t\t}\n",
        "\t\tsize = 0;\n",
        "\t\tthis->funcion_hash = f;\n",
        "\t}\n",
        "\t~HashTabla()\n",
        "\t{\n",
        "\t\tfor (size_t i = 0; i < Tsize; ++i) {\n",
        "\t\t\tif (tabla[i] != nullptr) {\n",
        "\t\t\t\tdelete tabla[i];\n",
        "\t\t\t}\n",
        "\t\t}\n",
        "\t\tdelete[] tabla;\n",
        "\t}\n",
        "\t//Direccionamiento según Prueba Lineal\n",
        "\tvoid insertar(Llave key, Valor value) {\n",
        "\t\t//Hash prima\n",
        "\t\tint base, step, hash;\n",
        "\t\t//validar si la tabla está llena\n",
        "\t\tif (size == Tsize)return;\n",
        "\t\t//Función Hash1\n",
        "\t\tbase = this->funcion_hash(key, Tsize);\n",
        "\t\thash = base;\n",
        "\t\t//constante para Hash2\n",
        "\t\tstep = 0;\n",
        "\t\twhile (tabla[hash] != nullptr)\n",
        "\t\t{\n",
        "\t\t\t//Función Hash2\n",
        "\t\t\thash = (base + step) % Tsize;\n",
        "\t\t\tstep++;\n",
        "\t\t}\n",
        "\t\t//almacenarlo en la tabla\n",
        "\t\ttabla[hash] = new HashEntidad<Llave, Valor>(key, value);\n",
        "\t\tsize++;\n",
        "\t}\n",
        "\tsize_t tamannio() {\n",
        "\t\treturn this->Tsize;\n",
        "\t}\n",
        "\tsize_t sizeactual() {\n",
        "\t\treturn this->size;\n",
        "\t}\n",
        "\tint buscar(Llave k) {\n",
        "\t\tint step = 0;\n",
        "\t\tint i, base;\n",
        "\t\ti = base = k % Tsize; //hash1 es = a hash2 cuando step=0;\n",
        "\t\twhile (true)\n",
        "\t\t{\n",
        "\t\t\tif (tabla[i] == nullptr)\n",
        "\t\t\t\treturn -1;\n",
        "\t\t\telse if (tabla[i]->getKey() == k) {\n",
        "\t\t\t\treturn i;\n",
        "\t\t\t}\n",
        "\t\t\telse step++;\n",
        "\n",
        "\t\t\ti = (base + step) % Tsize;\n",
        "\t\t}\n",
        "\t}\n",
        "\t//{\n",
        "\tint buscarXlambda(function<bool(Llave,Llave)>criterio, Llave key)\n",
        "\t{\n",
        "\t\tint step = 0;\n",
        "\t\tint i, base, cont;\n",
        "\t\ti = base =funcion_hash(key,Tsize);\n",
        "\t\tbool it = true;\n",
        "\t\tcont = 0;\n",
        "\t\twhile (it)\n",
        "\t\t{\n",
        "\t\t\tif (tabla[i] == nullptr)\n",
        "\t\t\t\treturn -1;\n",
        "\t\t\telse if (criterio(tabla[i]->getKey(), key)) {\n",
        "\t\t\t\tit = false;\n",
        "\t\t\t\treturn i;\n",
        "\t\t\t}\n",
        "\t\t\telse step++;\n",
        "\t\t\ti = (base + step) % Tsize;\n",
        "\t\t\tcont++;\n",
        "\t\t\tif (cont-1 == size)\n",
        "\t\t\t\tit = false;\n",
        "\t\t}\n",
        "\t}\n",
        "\tValor obtener(int index)\n",
        "\t{\n",
        "\t\treturn tabla[index]->getValue();\n",
        "\t}\n",
        "};\n",
        "\n",
        "void imprimirTablaHash(HashTabla<string, Estudiante>* ht, string* keys,int nkeys) {\n",
        "\tcout << \"SIZE TABLA: \" << ht->tamannio() << endl;\n",
        "\tcout << \"SIZE ACTUAL: \" << ht->sizeactual() << endl;\n",
        "\tfor (int i = 0; i < nkeys; ++i) {\n",
        "\t\tint index = ht->buscarXlambda([](string a, string b)->bool {return a == b; }, keys[i]);\n",
        "\t\tcout << index << \" : \" << keys[i] << \" , Valor: \"; ht->obtener(index).show();\n",
        "\t\tcout << \"\\n\";\n",
        "\t}\n",
        "}\n",
        "\n",
        "int main() {\n",
        "\tauto funcion_hash = [](string s, int n)->int {\n",
        "\t\tint suma = 0;\n",
        "\t\tfor (size_t i = 0; i < s.length(); i++)\n",
        "\t\t{\n",
        "\t\t\tsuma +=s[i];\n",
        "\t\t}\n",
        "\t\treturn suma % n;\n",
        "\t};\n",
        "\tHashTabla<string, Estudiante>* ht = new HashTabla<string, Estudiante>(9, funcion_hash);\n",
        "\tstring keys[9] = {\"catolica\",\"sanmarcos\",\"villareal\",\"aduni\", \"uni\" ,\"cayetano\" ,\"ricardopalma\" ,\"cantuta\" };\n",
        "\tht->insertar(\"upc\", Estudiante());\n",
        "\tht->insertar(\"catolica\", Estudiante());\n",
        "\tht->insertar(\"sanmarcos\", Estudiante());\n",
        "\tht->insertar(\"villareal\", Estudiante());\n",
        "\tht->insertar(\"aduni\", Estudiante());\n",
        "\tht->insertar(\"uni\", Estudiante());\n",
        "\tht->insertar(\"cayetano\", Estudiante());\n",
        "\tht->insertar(\"ricardopalma\", Estudiante());\n",
        "\tht->insertar(\"cantuta\", Estudiante());\n",
        "\n",
        "\timprimirTablaHash(ht, keys,8);\n",
        "\n",
        "\treturn 0;\n",
        "}"
      ],
      "execution_count": 11,
      "outputs": [
        {
          "output_type": "stream",
          "name": "stdout",
          "text": [
            "Overwriting hashTable_objetos.cpp\n"
          ]
        }
      ]
    },
    {
      "cell_type": "code",
      "metadata": {
        "colab": {
          "base_uri": "https://localhost:8080/"
        },
        "id": "wXj2L374YDAq",
        "outputId": "ee03026c-3af4-44ce-bf93-d1e30b2d8e7b"
      },
      "source": [
        "!g++ hashTable_objetos.cpp && ./a.out"
      ],
      "execution_count": 12,
      "outputs": [
        {
          "output_type": "stream",
          "name": "stdout",
          "text": [
            "SIZE TABLA: 11\n",
            "SIZE ACTUAL: 9\n",
            "7 : catolica , Valor: Nombre: Branco , Edad: 27, Carrera: Ingenieria\n",
            "\n",
            "10 : sanmarcos , Valor: Nombre: Abel , Edad: 31, Carrera: Economia\n",
            "\n",
            "0 : villareal , Valor: Nombre: Abel , Edad: 33, Carrera: Ingenieria\n",
            "\n",
            "1 : aduni , Valor: Nombre: Willy , Edad: 25, Carrera: Administracion\n",
            "\n",
            "2 : uni , Valor: Nombre: Willy , Edad: 22, Carrera: Administracion\n",
            "\n",
            "5 : cayetano , Valor: Nombre: Abel , Edad: 18, Carrera: Ingenieria\n",
            "\n",
            "3 : ricardopalma , Valor: Nombre: Dominik , Edad: 26, Carrera: Economia\n",
            "\n",
            "4 : cantuta , Valor: Nombre: Branco , Edad: 28, Carrera: Administracion\n",
            "\n"
          ]
        }
      ]
    },
    {
      "cell_type": "markdown",
      "metadata": {
        "id": "nv7gQSw3KZIJ"
      },
      "source": [
        "* Implementar 1 funcion hash por integrante considerando menor complejidad algortimica"
      ]
    },
    {
      "cell_type": "code",
      "metadata": {
        "id": "AxConAMyKfPy"
      },
      "source": [
        ""
      ],
      "execution_count": null,
      "outputs": []
    },
    {
      "cell_type": "markdown",
      "metadata": {
        "id": "l6ZzNPK9Kfsr"
      },
      "source": [
        "* Implementar busquedas por lambdas como criterio de comparación"
      ]
    },
    {
      "cell_type": "code",
      "metadata": {
        "id": "MsdLDgriKkkX",
        "colab": {
          "base_uri": "https://localhost:8080/"
        },
        "outputId": "154a9a39-2d18-458a-b531-869d269787e0"
      },
      "source": [
        "%%writefile lambdas.cpp\n",
        "#include <iostream>\n",
        "#include<functional>\n",
        "#include<string>\n",
        "#include\"Estudiante.hpp\"\n",
        "#include\"HashEntidad.hpp\"\n",
        "using namespace std;\n",
        "template<class Llave, class Valor>\n",
        "class HashTabla {\n",
        "private:\n",
        "\tfunction<int(Llave,int)>funcion_hash;\n",
        "\tHashEntidad<Llave, Valor>** tabla;\n",
        "\tsize_t size; //La cantidad de elementos\n",
        "\tsize_t Tsize; //Tamaño de la tabla\n",
        "\tsize_t Criba(size_t n)//13\n",
        "\t{\n",
        "\t\twhile (true)\n",
        "\t\t{\n",
        "\t\t\tn++;//14\n",
        "\t\t\tint m = n / 2;//7 -> 14 * 1\n",
        "\t\t\tbool esPrimo = 1;\n",
        "\t\t\tfor (int i = 2; i <= m; i++)\n",
        "\t\t\t{\n",
        "\t\t\t\tif (n % i == 0)\n",
        "\t\t\t\t{\n",
        "\t\t\t\t\tesPrimo = 0;\n",
        "\t\t\t\t\tbreak;\n",
        "\t\t\t\t}\n",
        "\t\t\t}\n",
        "\t\t\tif (esPrimo == 1)\n",
        "\t\t\t\treturn n;\n",
        "\t\t}\n",
        "\t}\n",
        "public:\n",
        "\tHashTabla(size_t Tsize, function<int(Llave,size_t)>f) {\n",
        "\t\tthis->Tsize = Criba(Tsize);\n",
        "\t\ttabla = new HashEntidad<Llave, Valor> * [this->Tsize];\n",
        "\t\tfor (size_t i = 0; i < this->Tsize; ++i) {\n",
        "\t\t\ttabla[i] = nullptr;\n",
        "\t\t}\n",
        "\t\tsize = 0;\n",
        "\t\tthis->funcion_hash = f;\n",
        "\t}\n",
        "\t~HashTabla()\n",
        "\t{\n",
        "\t\tfor (size_t i = 0; i < Tsize; ++i) {\n",
        "\t\t\tif (tabla[i] != nullptr) {\n",
        "\t\t\t\tdelete tabla[i];\n",
        "\t\t\t}\n",
        "\t\t}\n",
        "\t\tdelete[] tabla;\n",
        "\t}\n",
        "\t//Direccionamiento según Prueba Lineal\n",
        "\tvoid insertar(Llave key, Valor value) {\n",
        "\t\t//Hash prima\n",
        "\t\tint base, step, hash;\n",
        "\t\t//validar si la tabla está llena\n",
        "\t\tif (size == Tsize)return;\n",
        "\t\t//Función Hash1\n",
        "\t\tbase = this->funcion_hash(key, Tsize);\n",
        "\t\thash = base;\n",
        "\t\t//constante para Hash2\n",
        "\t\tstep = 0;\n",
        "\t\twhile (tabla[hash] != nullptr)\n",
        "\t\t{\n",
        "\t\t\t//Función Hash2\n",
        "\t\t\thash = (base + step) % Tsize;\n",
        "\t\t\tstep++;\n",
        "\t\t}\n",
        "\t\t//almacenarlo en la tabla\n",
        "\t\ttabla[hash] = new HashEntidad<Llave, Valor>(key, value);\n",
        "\t\tsize++;\n",
        "\t}\n",
        "\tsize_t tamannio() {\n",
        "\t\treturn this->Tsize;\n",
        "\t}\n",
        "\tsize_t sizeactual() {\n",
        "\t\treturn this->size;\n",
        "\t}\n",
        "\tint buscar(Llave k) {\n",
        "\t\tint step = 0;\n",
        "\t\tint i, base;\n",
        "\t\ti = base = k % Tsize; //hash1 es = a hash2 cuando step=0;\n",
        "\t\twhile (true)\n",
        "\t\t{\n",
        "\t\t\tif (tabla[i] == nullptr)\n",
        "\t\t\t\treturn -1;\n",
        "\t\t\telse if (tabla[i]->getKey() == k) {\n",
        "\t\t\t\treturn i;\n",
        "\t\t\t}\n",
        "\t\t\telse step++;\n",
        "\n",
        "\t\t\ti = (base + step) % Tsize;\n",
        "\t\t}\n",
        "\t}\n",
        "\t//{\n",
        "\tint buscarXlambda(function<bool(Llave,Llave)>criterio, Llave key)\n",
        "\t{\n",
        "\t\tint step = 0;\n",
        "\t\tint i, base, cont, index;\n",
        "\t\ti = base =this->funcion_hash(key,Tsize);\n",
        "\t\tcout << \"i: \" << i<<endl;\n",
        "\t\tcont = 0;\n",
        "\t\tcout << \"Key: \" << key << endl;\n",
        "\t\twhile (true)\n",
        "\t\t{\n",
        "\t\t\tcont++;\n",
        "\t\t\tif (tabla[i] == nullptr)\n",
        "\t\t\t{\n",
        "\t\t\t\treturn -1;\n",
        "\t\t\t\tbreak;\n",
        "\t\t\t}\n",
        "\t\t\telse if (criterio(tabla[i]->getKey(), key)) {\n",
        "\t\t\t\tcout << \"Key : \" << tabla[i]->getKey() << endl;\n",
        "\t\t\t\treturn i;\n",
        "\t\t\t\tbreak;\n",
        "\t\t\t}\n",
        "\t\t\telse step++;\n",
        "\t\t\ti = (base + step) % Tsize;\n",
        "\t\t\tif (cont == Tsize)\n",
        "\t\t\t{\n",
        "\t\t\t\treturn -1;\n",
        "\t\t\t\tbreak;\n",
        "\t\t\t}\n",
        "\t\t}\n",
        "\t}\n",
        "\tValor obtener(int index)\n",
        "\t{\n",
        "\t\treturn tabla[index]->getValue();\n",
        "\t}\n",
        "\tLlave getLLave(int index)\n",
        "\t{\n",
        "\t\treturn tabla[index]->getKey();\n",
        "\t}\n",
        "};\n",
        "void imprimirTablaHash(HashTabla<string, Estudiante>* ht, string* keys,int nkeys) {\n",
        "\tcout << \"SIZE TABLA: \" << ht->tamannio() << endl;\n",
        "\tcout << \"SIZE ACTUAL: \" << ht->sizeactual() << endl;\n",
        "\tfor (int i = 0; i < nkeys; ++i) {\n",
        "\t\tint index = ht->buscarXlambda([](string a, string b)->bool {return a != b ? true : false; }, keys[i]);\n",
        "\t\tif (index != -1)\n",
        "\t\t{\n",
        "\t\t\tcout << index << \" : \"<<ht->getLLave(index) << \" , Valor: \"; ht->obtener(index).show();\n",
        "\t\t\tcout << \"\\n\";\n",
        "\t\t}\n",
        "\t\tcout << index << endl;\n",
        "\t}\n",
        "}\n",
        "\n",
        "int main() {\n",
        "\tauto funcion_hash = [](string s, int n)->int {\n",
        "\t\tint suma = 0;\n",
        "\t\tfor (int i=0; s.length(); i++)\n",
        "\t\t{\n",
        "\t\t\tsuma += s[i];\n",
        "\t\t}\n",
        "\t\treturn suma % n;\n",
        "\t};\n",
        "\tHashTabla<string, Estudiante>* ht = new HashTabla<string, Estudiante>(9, funcion_hash);\n",
        "\n",
        "\tstring keys[1] = { \"villareal\" };\n",
        "\tht->insertar(\"upc\", Estudiante());\n",
        "\tht->insertar(\"catolica\", Estudiante());\n",
        "\tht->insertar(\"sanmarcos\", Estudiante());\n",
        "\tht->insertar(\"villareal\", Estudiante());\n",
        "\tht->insertar(\"aduni\", Estudiante());\n",
        "\tht->insertar(\"uni\", Estudiante());\n",
        "\tht->insertar(\"cayetano\", Estudiante());\n",
        "\tht->insertar(\"ricardopalma\", Estudiante());\n",
        "\tht->insertar(\"cantuta\", Estudiante());\n",
        "\n",
        "\timprimirTablaHash(ht, keys,1);\n",
        "\t\n",
        "\treturn 0;\n",
        "}"
      ],
      "execution_count": 30,
      "outputs": [
        {
          "output_type": "stream",
          "name": "stdout",
          "text": [
            "Overwriting lambdas.cpp\n"
          ]
        }
      ]
    },
    {
      "cell_type": "code",
      "metadata": {
        "id": "LTcixu8poh37"
      },
      "source": [
        "!g++ lambdas.cpp && ./a.out"
      ],
      "execution_count": 31,
      "outputs": []
    },
    {
      "cell_type": "markdown",
      "metadata": {
        "id": "MUNOWTq5Kk8F"
      },
      "source": [
        "* Implementar eliminación, modificación de elementos en el HT"
      ]
    },
    {
      "cell_type": "code",
      "metadata": {
        "id": "Ig01NDbTLAvt"
      },
      "source": [
        ""
      ],
      "execution_count": null,
      "outputs": []
    }
  ]
}