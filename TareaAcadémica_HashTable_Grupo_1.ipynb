{
  "nbformat": 4,
  "nbformat_minor": 0,
  "metadata": {
    "colab": {
      "name": "TareaAcadémica_HashTable_Grupo_1.ipynb",
      "provenance": [],
      "include_colab_link": true
    },
    "kernelspec": {
      "name": "python3",
      "display_name": "Python 3"
    },
    "language_info": {
      "name": "python"
    }
  },
  "cells": [
    {
      "cell_type": "markdown",
      "metadata": {
        "id": "view-in-github",
        "colab_type": "text"
      },
      "source": [
        "<a href=\"https://colab.research.google.com/github/Abel123-afk/Sesion3_2021_2/blob/Sesionmain/TareaAcad%C3%A9mica_HashTable_Grupo_1.ipynb\" target=\"_parent\"><img src=\"https://colab.research.google.com/assets/colab-badge.svg\" alt=\"Open In Colab\"/></a>"
      ]
    },
    {
      "cell_type": "markdown",
      "metadata": {
        "id": "yGUl9jeGJ-CS"
      },
      "source": [
        "* Modificar a Templates"
      ]
    },
    {
      "cell_type": "code",
      "metadata": {
        "colab": {
          "base_uri": "https://localhost:8080/"
        },
        "id": "TIvxC-6gKKSy",
        "outputId": "856e6615-d827-4567-b479-86d4c62fdf18"
      },
      "source": [
        "%%writefile hashTable.cpp\n",
        "#include <iostream>\n",
        "using namespace std;\n",
        "template<class Llave,class Valor>\n",
        "class HashEntidad {\n",
        "private:\t\n",
        "\tLlave key;\n",
        "\tValor value;\n",
        "public:\n",
        "\tHashEntidad(Llave key, Valor value) {\n",
        "\t\tthis->key = key;\n",
        "\t\tthis->value = value;\n",
        "\t}\n",
        "\tLlave getKey() { return key; }\n",
        "\tValor getValue() { return value; }\n",
        "};\n",
        "template<class Llave,class Valor>\n",
        "class HashTabla {\n",
        "private:\n",
        "\tHashEntidad<Llave,Valor> ** tabla;\n",
        "\tsize_t size; //La cantidad de elementos\n",
        "\tsize_t Tsize; //Tamaño de la tabla\n",
        "public:\n",
        "\tHashTabla( size_t Tsize= 128) {\n",
        "\t\tthis->Tsize = Tsize;\n",
        "\t\ttabla = new HashEntidad<Llave,Valor>*[Tsize];\n",
        "\t\tfor (size_t i = 0; i < Tsize; ++i) {\n",
        "\t\t\ttabla[i] = nullptr;\n",
        "\t\t}\n",
        "\t\tsize = 0;\n",
        "\t}\n",
        "\t~HashTabla()\n",
        "\t{\n",
        "\t\tfor (size_t i = 0; i < Tsize; ++i) {\n",
        "\t\t\tif (tabla[i] != nullptr) {\n",
        "\t\t\t\tdelete tabla[i];\n",
        "\t\t\t}\n",
        "\t\t}\n",
        "\t\tdelete[] tabla;\n",
        "\t}\n",
        "\t//Direccionamiento según Prueba Lineal\n",
        "\tvoid insertar(Llave key, Valor value) {\n",
        "\t\t//Hash prima\n",
        "\t\tint base, step, hash;\n",
        "\t\t//validar si la tabla está llena\n",
        "\t\tif (size == Tsize)return;\n",
        "\t\t//Función Hash1\n",
        "\t\tbase = key%Tsize;\n",
        "\t\thash = base;\n",
        "\t\t//constante para Hash2\n",
        "\t\tstep = 0;\n",
        "\t\twhile (tabla[hash]!=nullptr)\n",
        "\t\t{\n",
        "\t\t\t//Función Hash2\n",
        "\t\t\thash = (base + step) % Tsize;\n",
        "\t\t\tstep++;\n",
        "\t\t}\n",
        "\t\t//almacenarlo en la tabla\n",
        "\t\ttabla[hash] = new HashEntidad<Llave,Valor>(key,value);\n",
        "\t\tsize++;\n",
        "\t}\n",
        "\tsize_t tamannio() {\n",
        "\t\treturn this->Tsize;\n",
        "\t}\n",
        "\tsize_t sizeactual() {\n",
        "\t\treturn this->size;\n",
        "\t}\n",
        "\tint buscar(Llave key) {\n",
        "\t\tint step = 0;\n",
        "\t\tint i, base;\n",
        "\t\ti = base = key%Tsize; //hash1 es = a hash2 cuando step=0;\n",
        "\t\twhile (true)\n",
        "\t\t{\n",
        "\t\t\tif (tabla[i] == nullptr)return -1;\n",
        "\t\t\telse if(tabla[i]->getKey()==key) {\n",
        "\t\t\t\treturn i;\n",
        "\t\t\t}\n",
        "\t\t\telse step++;\n",
        "\n",
        "\t\t\ti = (base + step) % Tsize;\n",
        "\t\t}\n",
        "\t}\n",
        "};\n",
        "\n",
        "void imprimirTablaHash(HashTabla<int,int> *ht,int*keys) {\n",
        "\tcout << \"SIZE TABLA: \" << ht->tamannio()<<endl;\n",
        "\tcout << \"SIZE ACTUAL: \" << ht->sizeactual() << endl;\n",
        "\tfor (int i = 0; i < ht->tamannio(); ++i) {\n",
        "\t\tcout << ht->buscar(keys[i])<< \" : \" <<keys[i] << endl;\n",
        "\t}\n",
        "}\n",
        "\n",
        "int main() {\n",
        "\tHashTabla<int,int> *ht = new HashTabla<int,int>(9);\n",
        "\tint keys[] = {6,34,67,92,8,5,3,2,15};\n",
        "\tht->insertar(6, 60);\n",
        "\tht->insertar(34, 340);\n",
        "\tht->insertar(67, 160);\n",
        "\tht->insertar(92, 360);\n",
        "\tht->insertar(8, 120);\n",
        "\tht->insertar(5, 452);\n",
        "\tht->insertar(3, 422);\n",
        "\tht->insertar(2, 952);\n",
        "\tht->insertar(15, 752);\n",
        "\n",
        "\timprimirTablaHash(ht, keys);\n",
        "\n",
        "\treturn 0;\n",
        "}"
      ],
      "execution_count": null,
      "outputs": [
        {
          "output_type": "stream",
          "name": "stdout",
          "text": [
            "Overwriting hashTable.cpp\n"
          ]
        }
      ]
    },
    {
      "cell_type": "code",
      "metadata": {
        "colab": {
          "base_uri": "https://localhost:8080/"
        },
        "id": "Hn9Lue90TpgE",
        "outputId": "411ffba8-be23-42f1-dfbb-ce2128d5156d"
      },
      "source": [
        "!g++ hashTable.cpp && ./a.out"
      ],
      "execution_count": null,
      "outputs": [
        {
          "output_type": "stream",
          "name": "stdout",
          "text": [
            "SIZE TABLA: 9\n",
            "SIZE ACTUAL: 9\n",
            "6 : 6\n",
            "7 : 34\n",
            "4 : 67\n",
            "2 : 92\n",
            "8 : 8\n",
            "5 : 5\n",
            "3 : 3\n",
            "0 : 2\n",
            "1 : 15\n"
          ]
        }
      ]
    },
    {
      "cell_type": "markdown",
      "metadata": {
        "id": "m6phj6SzKM6g"
      },
      "source": [
        "* Implementar crecimiento de bucket por la criba de eratostenes"
      ]
    },
    {
      "cell_type": "code",
      "metadata": {
        "id": "fhGLlCtoKN5m",
        "colab": {
          "base_uri": "https://localhost:8080/"
        },
        "outputId": "04928166-811f-4748-d1ce-b68d3fd0ad08"
      },
      "source": [
        "%%writefile hashTable_Criba.cpp\n",
        "#include <iostream>\n",
        "using namespace std;\n",
        "template<class Llave,class Valor>\n",
        "class HashEntidad {\n",
        "private:\t\n",
        "\tLlave key;\n",
        "\tValor value;\n",
        "public:\n",
        "\tHashEntidad(Llave key, Valor value) {\n",
        "\t\tthis->key = key;\n",
        "\t\tthis->value = value;\n",
        "\t}\n",
        "\tLlave getKey() { return key; }\n",
        "\tValor getValue() { return value; }\n",
        "};\n",
        "template<class Llave,class Valor>\n",
        "class HashTabla {\n",
        "private:\n",
        "\tHashEntidad<Llave,Valor> ** tabla;\n",
        "\tsize_t size; //La cantidad de elementos\n",
        "\tsize_t Tsize; //Tamaño de la tabla\n",
        "  size_t Criba(size_t n)//13\n",
        "{\n",
        "   while (true)\n",
        "   {\n",
        "      n++;//14\n",
        "      int m = n/2;//7 -> 14 * 1\n",
        "      bool esPrimo = 1;\n",
        "      for (int i = 2; i <= m; i++)\n",
        "      {\n",
        "         if(n % i == 0)\n",
        "         {\n",
        "            esPrimo = 0;\n",
        "            break;\n",
        "         }\n",
        "      }\n",
        "      if(esPrimo == 1)\n",
        "      return n;\n",
        "   }\n",
        "}\n",
        "public:\n",
        "\tHashTabla( size_t Tsize= 128) {\n",
        "\t\tthis->Tsize = Criba(Tsize);\n",
        "\t\ttabla = new HashEntidad<Llave,Valor>*[Tsize];\n",
        "\t\tfor (size_t i = 0; i < Tsize; ++i) {\n",
        "\t\t\ttabla[i] = nullptr;\n",
        "\t\t}\n",
        "\t\tsize = 0;\n",
        "\t}\n",
        "\t~HashTabla()\n",
        "\t{\n",
        "\t\tfor (size_t i = 0; i < Tsize; ++i) {\n",
        "\t\t\tif (tabla[i] != nullptr) {\n",
        "\t\t\t\tdelete tabla[i];\n",
        "\t\t\t}\n",
        "\t\t}\n",
        "\t\tdelete[] tabla;\n",
        "\t}\n",
        "\t//Direccionamiento según Prueba Lineal\n",
        "\tvoid insertar(Llave key, Valor value) {\n",
        "\t\t//Hash prima\n",
        "\t\tint base, step, hash;\n",
        "\t\t//validar si la tabla está llena\n",
        "\t\tif (size == Tsize)return;\n",
        "\t\t//Función Hash1\n",
        "\t\tbase = key%Tsize;\n",
        "\t\thash = base;\n",
        "\t\t//constante para Hash2\n",
        "\t\tstep = 0;\n",
        "\t\twhile (tabla[hash]!=nullptr)\n",
        "\t\t{\n",
        "\t\t\t//Función Hash2\n",
        "\t\t\thash = (base + step) % Tsize;\n",
        "\t\t\tstep++;\n",
        "\t\t}\n",
        "\t\t//almacenarlo en la tabla\n",
        "\t\ttabla[hash] = new HashEntidad<Llave,Valor>(key,value);\n",
        "\t\tsize++;\n",
        "\t}\n",
        "\tsize_t tamannio() {\n",
        "\t\treturn this->Tsize;\n",
        "\t}\n",
        "\tsize_t sizeactual() {\n",
        "\t\treturn this->size;\n",
        "\t}\n",
        "\tint buscar(Llave key) {\n",
        "\t\tint step = 0;\n",
        "\t\tint i, base;\n",
        "\t\ti = base = key%Tsize; //hash1 es = a hash2 cuando step=0;\n",
        "\t\twhile (true)\n",
        "\t\t{\n",
        "\t\t\tif (tabla[i] == nullptr)return -1;\n",
        "\t\t\telse if(tabla[i]->getKey()==key) {\n",
        "\t\t\t\treturn i;\n",
        "\t\t\t}\n",
        "\t\t\telse step++;\n",
        "\n",
        "\t\t\ti = (base + step) % Tsize;\n",
        "\t\t}\n",
        "\t}\n",
        "\n",
        "};\n",
        "\n",
        "void imprimirTablaHash(HashTabla<int,int> *ht,int*keys) {\n",
        "\tcout << \"SIZE TABLA: \" << ht->tamannio()<<endl;\n",
        "\tcout << \"SIZE ACTUAL: \" << ht->sizeactual() << endl;\n",
        "\tfor (int i = 0; i < ht->sizeactual(); ++i) {\n",
        "\t\tcout << ht->buscar(keys[i])<< \" : \" <<keys[i] << endl;\n",
        "\t}\n",
        "}\n",
        "//Implementar crecimiento de bucket por la criba de eratostenes\n",
        "\n",
        "\n",
        "\n",
        "int main() {\n",
        "\tHashTabla<int,int> *ht = new HashTabla<int,int>(9);\n",
        "\tint keys[] = {6,34,67,92,8,5,3,2,15};\n",
        "\tht->insertar(6, 60);\n",
        "\tht->insertar(34, 340);\n",
        "\tht->insertar(67, 160);\n",
        "\tht->insertar(92, 360);\n",
        "\tht->insertar(8, 120);\n",
        "\tht->insertar(5, 452);\n",
        "\tht->insertar(3, 422);\n",
        "\tht->insertar(2, 952);\n",
        "\tht->insertar(15, 752);\n",
        "\timprimirTablaHash(ht, keys);\n",
        "\n",
        "\treturn 0;\n",
        "}"
      ],
      "execution_count": null,
      "outputs": [
        {
          "output_type": "stream",
          "name": "stdout",
          "text": [
            "Overwriting hashTable_Criba.cpp\n"
          ]
        }
      ]
    },
    {
      "cell_type": "code",
      "metadata": {
        "colab": {
          "base_uri": "https://localhost:8080/"
        },
        "id": "UfYBAgmJq-iT",
        "outputId": "230ea0c2-17c8-43cc-fa15-d0cce5b0aa50"
      },
      "source": [
        "!g++ hashTable_Criba.cpp && ./a.out"
      ],
      "execution_count": null,
      "outputs": [
        {
          "output_type": "stream",
          "name": "stdout",
          "text": [
            "SIZE TABLA: 11\n",
            "SIZE ACTUAL: 9\n",
            "6 : 6\n",
            "1 : 34\n",
            "2 : 67\n",
            "4 : 92\n",
            "8 : 8\n",
            "5 : 5\n",
            "3 : 3\n",
            "7 : 2\n",
            "9 : 15\n"
          ]
        }
      ]
    },
    {
      "cell_type": "markdown",
      "metadata": {
        "id": "etQz6q1rwF43"
      },
      "source": [
        "De lo anterior se observa que le pasa como parametro a la HashTabla un número 9 para el tamaño del arreglo, pero sin embargo mediante la función criba lo pasa al siguiente número primo."
      ]
    },
    {
      "cell_type": "markdown",
      "metadata": {
        "id": "6Kd9M0efKOgN"
      },
      "source": [
        "* Inserte objetos en lugar de números"
      ]
    },
    {
      "cell_type": "code",
      "metadata": {
        "id": "gLtEckotKVw0"
      },
      "source": [
        ""
      ],
      "execution_count": null,
      "outputs": []
    },
    {
      "cell_type": "markdown",
      "metadata": {
        "id": "nv7gQSw3KZIJ"
      },
      "source": [
        "* Implementar 1 funcion hash por integrante considerando menor complejidad algortimica"
      ]
    },
    {
      "cell_type": "markdown",
      "metadata": {
        "id": "kw_7W-JXw6Rd"
      },
      "source": [
        "Abel Cierto"
      ]
    },
    {
      "cell_type": "code",
      "metadata": {
        "id": "pg5lcgwpw5mk"
      },
      "source": [
        "bool vacio()\n",
        "{\n",
        "    return size==Tsize;\n",
        "}"
      ],
      "execution_count": null,
      "outputs": []
    },
    {
      "cell_type": "markdown",
      "metadata": {
        "id": "X3ExAqb2w9-O"
      },
      "source": [
        "Branco Villegas"
      ]
    },
    {
      "cell_type": "code",
      "metadata": {
        "id": "AxConAMyKfPy"
      },
      "source": [
        ""
      ],
      "execution_count": null,
      "outputs": []
    },
    {
      "cell_type": "markdown",
      "metadata": {
        "id": "9_bNB_jaxEcr"
      },
      "source": [
        "Dominik Mendoza"
      ]
    },
    {
      "cell_type": "code",
      "metadata": {
        "id": "I3GpNMgGxMeG"
      },
      "source": [
        ""
      ],
      "execution_count": null,
      "outputs": []
    },
    {
      "cell_type": "markdown",
      "metadata": {
        "id": "bf4q6xIaxM4B"
      },
      "source": [
        "Willy Valentin"
      ]
    },
    {
      "cell_type": "code",
      "metadata": {
        "id": "Kk2qdppKxO2K"
      },
      "source": [
        ""
      ],
      "execution_count": null,
      "outputs": []
    },
    {
      "cell_type": "markdown",
      "metadata": {
        "id": "l6ZzNPK9Kfsr"
      },
      "source": [
        "* Implementar busquedas por lambdas como criterio de comparación"
      ]
    },
    {
      "cell_type": "code",
      "metadata": {
        "id": "MsdLDgriKkkX"
      },
      "source": [
        ""
      ],
      "execution_count": null,
      "outputs": []
    },
    {
      "cell_type": "markdown",
      "metadata": {
        "id": "MUNOWTq5Kk8F"
      },
      "source": [
        "* Implementar eliminación, modificación de elementos en el HT"
      ]
    },
    {
      "cell_type": "code",
      "metadata": {
        "id": "Ig01NDbTLAvt"
      },
      "source": [
        ""
      ],
      "execution_count": null,
      "outputs": []
    }
  ]
}