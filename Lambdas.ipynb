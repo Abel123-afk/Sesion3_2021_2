{
  "nbformat": 4,
  "nbformat_minor": 0,
  "metadata": {
    "colab": {
      "name": "Lambdas.ipynb",
      "provenance": [],
      "collapsed_sections": [],
      "authorship_tag": "ABX9TyMjaEgq+OxctS40/c/OFRpR",
      "include_colab_link": true
    },
    "kernelspec": {
      "name": "python3",
      "display_name": "Python 3"
    },
    "language_info": {
      "name": "python"
    }
  },
  "cells": [
    {
      "cell_type": "markdown",
      "metadata": {
        "id": "view-in-github",
        "colab_type": "text"
      },
      "source": [
        "<a href=\"https://colab.research.google.com/github/Abel123-afk/Sesion3_2021_2/blob/Sesionmain/Lambdas.ipynb\" target=\"_parent\"><img src=\"https://colab.research.google.com/assets/colab-badge.svg\" alt=\"Open In Colab\"/></a>"
      ]
    },
    {
      "cell_type": "markdown",
      "metadata": {
        "id": "B3A4XgzlKjK9"
      },
      "source": [
        "##Lambdas"
      ]
    },
    {
      "cell_type": "code",
      "metadata": {
        "id": "TpyvO-KnKR95"
      },
      "source": [
        "[]()->{}\n",
        "Donde:\n",
        "[] : variables globales\n",
        "() : parámetros\n",
        "-> : tipo de retorno(opcional)\n",
        "{} : cuerpo de funcion"
      ],
      "execution_count": null,
      "outputs": []
    },
    {
      "cell_type": "markdown",
      "metadata": {
        "id": "AnDtqZ8YOSXs"
      },
      "source": [
        "###Sin lambdas"
      ]
    },
    {
      "cell_type": "code",
      "metadata": {
        "id": "IOCfxRkgOWkc"
      },
      "source": [
        "%%writefile sinLambdas.cpp\n",
        "struct Persona{\n",
        "  string nombre;\n",
        "  char sexo;\n",
        "  unsigned short edad;\n",
        "};\n",
        "void masculino(vector<Personas>v){\n",
        "    for(size_t i=0; i<v.size(); i++)\n",
        "    {\n",
        "        if(v[i].sexo=='M')\n",
        "          cout<<v[i].nombre;\n",
        "    }\n",
        "}\n",
        "void femenino(vector<Personas>v){\n",
        "    for(size_t i=0; i<v.size(); i++)\n",
        "    {\n",
        "        if(v[i].sexo=='F')\n",
        "          cout<<v[i].nombre;\n",
        "    }\n",
        "}\n",
        "void edad(vector<Personas>v){\n",
        "    for(size_t i=0; i<v.size(); i++)\n",
        "    {\n",
        "        if(v[i].edad>10 && v[i].edad<50)\n",
        "          cout<<v[i].nombre;\n",
        "    }\n",
        "}\n",
        "void salen(Persona){\n",
        "    \n",
        "}\n",
        "int main(){\n",
        "    \n",
        "}"
      ],
      "execution_count": null,
      "outputs": []
    },
    {
      "cell_type": "markdown",
      "metadata": {
        "id": "AxUHkzlUOmoh"
      },
      "source": [
        "###Con Lambdas"
      ]
    },
    {
      "cell_type": "code",
      "metadata": {
        "colab": {
          "base_uri": "https://localhost:8080/"
        },
        "id": "28BHxdfTK9UO",
        "outputId": "83fd0845-7c25-4fb8-ef08-75c9f2f75640"
      },
      "source": [
        "%%writefile lambdas.cpp\n",
        "#include<iostream>\n",
        "#include<functional>\n",
        "#include<vector>\n",
        "using namespace std;\n",
        "struct Persona{\n",
        "  string nombre;\n",
        "  char sexo;\n",
        "  unsigned short edad;\n",
        "  Persona(string n, char s, unsigned short e){\n",
        "      sexo=s;\n",
        "      edad=e;\n",
        "      nombre=n;\n",
        "  }\n",
        "};\n",
        "\n",
        "void salen(function<void(vector<Persona>)>f){\n",
        "    vector<Persona> personas;\n",
        "    personas.push_back(Persona(\"Miguel\", 'M',23));\n",
        "    personas.push_back(Persona(\"Ana\", 'F',50));\n",
        "    personas.push_back(Persona(\"Pedro\", 'M',40));\n",
        "    personas.push_back(Persona(\"Juan\", 'M',20));\n",
        "    personas.push_back(Persona(\"Sofia\", 'F',30));\n",
        "    personas.push_back(Persona(\"Alfredo\", 'M',80));\n",
        "    f(personas);\n",
        "}\n",
        "int main(){\n",
        "    //Toda esta función es una variable\n",
        "    auto masculino=[](vector<Persona>v){\n",
        "        for(size_t i=0; i<v.size(); i++)\n",
        "        {\n",
        "            if(v[i].sexo=='M')\n",
        "              cout<<v[i].nombre<<endl;\n",
        "        }\n",
        "    };\n",
        "\n",
        "    auto femenino=[](vector<Persona>v){\n",
        "          for(size_t i=0; i<v.size(); i++)\n",
        "          {\n",
        "              if(v[i].sexo=='F')\n",
        "                cout<<v[i].nombre<<endl;\n",
        "          }\n",
        "    };\n",
        "    auto edad=[](vector<Persona>v){\n",
        "          for(size_t i=0; i<v.size(); i++)\n",
        "          {\n",
        "              if(v[i].edad>10 && v[i].edad<50)\n",
        "                cout<<v[i].nombre<<endl;\n",
        "          }\n",
        "    };\n",
        "\n",
        "    salen(masculino);\n",
        "    cout<<endl;\n",
        "    salen(femenino);\n",
        "     cout<<endl;\n",
        "    salen(edad);\n",
        "    return 0;\n",
        "}"
      ],
      "execution_count": 8,
      "outputs": [
        {
          "output_type": "stream",
          "name": "stdout",
          "text": [
            "Overwriting lambdas.cpp\n"
          ]
        }
      ]
    },
    {
      "cell_type": "code",
      "metadata": {
        "colab": {
          "base_uri": "https://localhost:8080/"
        },
        "id": "saC73G6OQ49f",
        "outputId": "0e2013a0-1f23-4121-c402-f4ebd937c7e3"
      },
      "source": [
        "!g++ lambdas.cpp && ./a.out"
      ],
      "execution_count": 9,
      "outputs": [
        {
          "output_type": "stream",
          "name": "stdout",
          "text": [
            "Miguel\n",
            "Pedro\n",
            "Juan\n",
            "Alfredo\n",
            "\n",
            "Ana\n",
            "Sofia\n",
            "\n",
            "Miguel\n",
            "Pedro\n",
            "Juan\n",
            "Sofia\n"
          ]
        }
      ]
    }
  ]
}