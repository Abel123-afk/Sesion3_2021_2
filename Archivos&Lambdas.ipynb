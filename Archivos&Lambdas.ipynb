{
  "nbformat": 4,
  "nbformat_minor": 0,
  "metadata": {
    "colab": {
      "name": "Archivos&Lambdas.ipynb",
      "provenance": [],
      "collapsed_sections": [],
      "authorship_tag": "ABX9TyPdbvw4dZhhFyUll1HXL3kx",
      "include_colab_link": true
    },
    "kernelspec": {
      "name": "python3",
      "display_name": "Python 3"
    },
    "language_info": {
      "name": "python"
    }
  },
  "cells": [
    {
      "cell_type": "markdown",
      "metadata": {
        "id": "view-in-github",
        "colab_type": "text"
      },
      "source": [
        "<a href=\"https://colab.research.google.com/github/Abel123-afk/Sesion3_2021_2/blob/Sesionmain/Archivos%26Lambdas.ipynb\" target=\"_parent\"><img src=\"https://colab.research.google.com/assets/colab-badge.svg\" alt=\"Open In Colab\"/></a>"
      ]
    },
    {
      "cell_type": "markdown",
      "metadata": {
        "id": "HDTZd7RMXMcv"
      },
      "source": [
        "#Temario\n",
        "1. Manejo de Archivos\n",
        "2. Lambdas\n",
        "3. Recursividad"
      ]
    },
    {
      "cell_type": "markdown",
      "metadata": {
        "id": "up0yxPeNXfgz"
      },
      "source": [
        "##Archivos"
      ]
    },
    {
      "cell_type": "code",
      "metadata": {
        "id": "OCC45rOPXiHJ",
        "colab": {
          "base_uri": "https://localhost:8080/"
        },
        "outputId": "51403f86-c3a0-45c1-db56-f340110b1253"
      },
      "source": [
        "%%writefile texto2.txt\n",
        "Anthony , Botello, correo1@gmail.com , 172\n",
        "Ana , Cerdan, correo2@gmail.com , 160\n",
        "Alex , Vivanco, correo3@gmail.com , 170"
      ],
      "execution_count": 52,
      "outputs": [
        {
          "output_type": "stream",
          "name": "stdout",
          "text": [
            "Writing texto.txt\n"
          ]
        }
      ]
    },
    {
      "cell_type": "code",
      "metadata": {
        "colab": {
          "base_uri": "https://localhost:8080/"
        },
        "id": "O7J5medwYBJp",
        "outputId": "23b1902f-6cf8-4b4b-83a2-f7e4c174f0e7"
      },
      "source": [
        "%%writefile archivos.cpp\n",
        "#include<iostream>\n",
        "#include<fstream>\n",
        "#include<sstream>\n",
        "using namespace std;\n",
        "void FIostream (){\n",
        "    short nro;\n",
        "    cout<<\"Nro\";\n",
        "    cin>>nro;\n",
        "}\n",
        "void FFstream1(){\n",
        "    string cadena;\n",
        "    \n",
        "    fstream fileE(\"demo.txt\", ios::out);//out->Opera como escritura\n",
        "    fileE <<\"Upcino\";//Escritura\n",
        "    fileE.close();\n",
        "\n",
        "    fstream fileL(\"demo.txt\", ios::in); //->Opera como lectura\n",
        "    fileL>>cadena;//Lectura desde el archivo\n",
        "    cout<<cadena;\n",
        "    fileL.close();\n",
        "}\n",
        "void FFstream2(){\n",
        "    string cadena;\n",
        "    \n",
        "    ofstream fileE(\"demo.txt\");//out->Opera como escritura\n",
        "    fileE <<\"Upcino\";//Escritura\n",
        "    fileE.close();\n",
        "\n",
        "    ifstream fileL(\"demo.txt\"); //->Opera como lectura\n",
        "    fileL>>cadena;//Lectura desde el archivo\n",
        "    cout<<cadena;\n",
        "    fileL.close();\n",
        "}\n",
        "void escritura(){\n",
        "    ofstream archivo(\"texto1.txt\");\n",
        "    for(size_t i=0; i<100; i++)\n",
        "    {\n",
        "        archivo<<i<<endl;\n",
        "    }\n",
        "    archivo.close();\n",
        "}\n",
        "void lectura(){\n",
        "    ifstream archivo(\"texto1.txt\");\n",
        "    short nro;\n",
        "    short c=0;\n",
        "    string tmp;\n",
        "    while(getline(archivo,tmp)){\n",
        "        cout<<tmp<<\" \";\n",
        "        ++c;\n",
        "    }\n",
        "    cout<<\"La cantidad de registros leidos son: \"<<c<<endl;  \n",
        "\n",
        "    //while(archivo>>nro)\n",
        "    //   cout<<nro<<\" \";\n",
        "}\n",
        "struct Persona{\n",
        "  string nombre, apellido, correo;\n",
        "  short talla;\n",
        "\n",
        "};\n",
        "void lecturaCSV(){\n",
        "    string nombre, apellido, correo, tmp,aux;\n",
        "    short talla;\n",
        "    ifstream archivo(\"texto2.txt\");\n",
        "    //convertimos a sstream\n",
        "    //stringstream de disco a memoria\n",
        "    while(getline(archivo,tmp)){\n",
        "        stringstream archMem(tmp);\n",
        "        getline(archMem,nombre,',');\n",
        "        getline(archMem,apellido,',');\n",
        "        getline(archMem,correo,',');\n",
        "        getline(archMem,aux);\n",
        "        talla=stoi(aux);//string to integer\n",
        "        cout<<correo<<\" \"<<nombre<<\" \"<<apellido<<\" \"<<talla<<endl;\n",
        "    }\n",
        "}\n",
        "void lecturaCSV2(){//forma rápida\n",
        "    string nombre, apellido, correo, tmp,aux;\n",
        "    short talla;\n",
        "    ifstream archivo(\"texto2.txt\");\n",
        "    while(archivo>>nombre>>aux>>apellido>>aux>>correo>>aux>>talla)\n",
        "    {\n",
        "        cout<<correo<<\" \"<<nombre<<\" \"<<apellido<<\" \"<<talla<<endl;\n",
        "    }\n",
        "}\n",
        "int main(){\n",
        "    //FFstream2();\n",
        "    //escritura();\n",
        "    //lectura();\n",
        "    //lecturaCSV();\n",
        "    lecturaCSV2();\n",
        "    return 0;\n",
        "}"
      ],
      "execution_count": 77,
      "outputs": [
        {
          "output_type": "stream",
          "name": "stdout",
          "text": [
            "Overwriting archivos.cpp\n"
          ]
        }
      ]
    },
    {
      "cell_type": "code",
      "metadata": {
        "id": "0k5IB5N4ZAlt"
      },
      "source": [
        "!g++ archivos.cpp && ./a.out"
      ],
      "execution_count": 78,
      "outputs": []
    },
    {
      "cell_type": "markdown",
      "metadata": {
        "id": "B3A4XgzlKjK9"
      },
      "source": [
        "##Lambdas"
      ]
    },
    {
      "cell_type": "code",
      "metadata": {
        "id": "TpyvO-KnKR95"
      },
      "source": [
        "[]()->{}\n",
        "Donde:\n",
        "[] : variables globales\n",
        "() : parámetros\n",
        "-> : tipo de retorno(opcional)\n",
        "{} : cuerpo de funcion"
      ],
      "execution_count": null,
      "outputs": []
    },
    {
      "cell_type": "markdown",
      "metadata": {
        "id": "AnDtqZ8YOSXs"
      },
      "source": [
        "###Sin lambdas"
      ]
    },
    {
      "cell_type": "code",
      "metadata": {
        "id": "IOCfxRkgOWkc"
      },
      "source": [
        "%%writefile sinLambdas.cpp\n",
        "struct Persona{\n",
        "  string nombre;\n",
        "  char sexo;\n",
        "  unsigned short edad;\n",
        "};\n",
        "void masculino(vector<Personas>v){\n",
        "    for(size_t i=0; i<v.size(); i++)\n",
        "    {\n",
        "        if(v[i].sexo=='M')\n",
        "          cout<<v[i].nombre;\n",
        "    }\n",
        "}\n",
        "void femenino(vector<Personas>v){\n",
        "    for(size_t i=0; i<v.size(); i++)\n",
        "    {\n",
        "        if(v[i].sexo=='F')\n",
        "          cout<<v[i].nombre;\n",
        "    }\n",
        "}\n",
        "void edad(vector<Personas>v){\n",
        "    for(size_t i=0; i<v.size(); i++)\n",
        "    {\n",
        "        if(v[i].edad>10 && v[i].edad<50)\n",
        "          cout<<v[i].nombre;\n",
        "    }\n",
        "}\n",
        "void salen(Persona){\n",
        "    \n",
        "}\n",
        "int main(){\n",
        "    \n",
        "}"
      ],
      "execution_count": null,
      "outputs": []
    },
    {
      "cell_type": "markdown",
      "metadata": {
        "id": "AxUHkzlUOmoh"
      },
      "source": [
        "###Con Lambdas"
      ]
    },
    {
      "cell_type": "code",
      "metadata": {
        "colab": {
          "base_uri": "https://localhost:8080/"
        },
        "id": "28BHxdfTK9UO",
        "outputId": "83fd0845-7c25-4fb8-ef08-75c9f2f75640"
      },
      "source": [
        "%%writefile lambdas.cpp\n",
        "#include<iostream>\n",
        "#include<functional>\n",
        "#include<vector>\n",
        "using namespace std;\n",
        "struct Persona{\n",
        "  string nombre;\n",
        "  char sexo;\n",
        "  unsigned short edad;\n",
        "  Persona(string n, char s, unsigned short e){\n",
        "      sexo=s;\n",
        "      edad=e;\n",
        "      nombre=n;\n",
        "  }\n",
        "};\n",
        "\n",
        "void salen(function<void(vector<Persona>)>f){\n",
        "    vector<Persona> personas;\n",
        "    personas.push_back(Persona(\"Miguel\", 'M',23));\n",
        "    personas.push_back(Persona(\"Ana\", 'F',50));\n",
        "    personas.push_back(Persona(\"Pedro\", 'M',40));\n",
        "    personas.push_back(Persona(\"Juan\", 'M',20));\n",
        "    personas.push_back(Persona(\"Sofia\", 'F',30));\n",
        "    personas.push_back(Persona(\"Alfredo\", 'M',80));\n",
        "    f(personas);\n",
        "}\n",
        "int main(){\n",
        "    //Toda esta función es una variable\n",
        "    auto masculino=[](vector<Persona>v){\n",
        "        for(size_t i=0; i<v.size(); i++)\n",
        "        {\n",
        "            if(v[i].sexo=='M')\n",
        "              cout<<v[i].nombre<<endl;\n",
        "        }\n",
        "    };\n",
        "\n",
        "    auto femenino=[](vector<Persona>v){\n",
        "          for(size_t i=0; i<v.size(); i++)\n",
        "          {\n",
        "              if(v[i].sexo=='F')\n",
        "                cout<<v[i].nombre<<endl;\n",
        "          }\n",
        "    };\n",
        "    auto edad=[](vector<Persona>v){\n",
        "          for(size_t i=0; i<v.size(); i++)\n",
        "          {\n",
        "              if(v[i].edad>10 && v[i].edad<50)\n",
        "                cout<<v[i].nombre<<endl;\n",
        "          }\n",
        "    };\n",
        "\n",
        "    salen(masculino);\n",
        "    cout<<endl;\n",
        "    salen(femenino);\n",
        "     cout<<endl;\n",
        "    salen(edad);\n",
        "    return 0;\n",
        "}"
      ],
      "execution_count": null,
      "outputs": [
        {
          "output_type": "stream",
          "name": "stdout",
          "text": [
            "Overwriting lambdas.cpp\n"
          ]
        }
      ]
    },
    {
      "cell_type": "code",
      "metadata": {
        "colab": {
          "base_uri": "https://localhost:8080/"
        },
        "id": "saC73G6OQ49f",
        "outputId": "0e2013a0-1f23-4121-c402-f4ebd937c7e3"
      },
      "source": [
        "!g++ lambdas.cpp && ./a.out"
      ],
      "execution_count": null,
      "outputs": [
        {
          "output_type": "stream",
          "name": "stdout",
          "text": [
            "Miguel\n",
            "Pedro\n",
            "Juan\n",
            "Alfredo\n",
            "\n",
            "Ana\n",
            "Sofia\n",
            "\n",
            "Miguel\n",
            "Pedro\n",
            "Juan\n",
            "Sofia\n"
          ]
        }
      ]
    }
  ]
}