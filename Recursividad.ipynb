{
  "nbformat": 4,
  "nbformat_minor": 0,
  "metadata": {
    "colab": {
      "name": "Untitled2.ipynb",
      "provenance": [],
      "authorship_tag": "ABX9TyN3+RvUpsZYh7gaOgwhv3Zj",
      "include_colab_link": true
    },
    "kernelspec": {
      "name": "python3",
      "display_name": "Python 3"
    },
    "language_info": {
      "name": "python"
    }
  },
  "cells": [
    {
      "cell_type": "markdown",
      "metadata": {
        "id": "view-in-github",
        "colab_type": "text"
      },
      "source": [
        "<a href=\"https://colab.research.google.com/github/Abel123-afk/Sesion3_2021_2/blob/Sesionmain/Recursividad.ipynb\" target=\"_parent\"><img src=\"https://colab.research.google.com/assets/colab-badge.svg\" alt=\"Open In Colab\"/></a>"
      ]
    },
    {
      "cell_type": "markdown",
      "metadata": {
        "id": "-JRsJbbZVHOW"
      },
      "source": [
        "#Temario\n",
        "\n",
        "*   Recursividad\n",
        "*   Listas\n",
        "\n"
      ]
    },
    {
      "cell_type": "markdown",
      "metadata": {
        "id": "D0Y6mx3JVRHJ"
      },
      "source": [
        "##Recursividad"
      ]
    },
    {
      "cell_type": "code",
      "metadata": {
        "colab": {
          "base_uri": "https://localhost:8080/"
        },
        "id": "CnH5iIQoQxG3",
        "outputId": "03e4e9d1-9cfb-44b0-ef31-edd3bf43bbf3"
      },
      "source": [
        "#1,2,3,4,5,6,7,8,...........n\n",
        "#n-n+1 ,                 n-3, n-2,n-1,n\n",
        "%%writefile recursividad.cpp\n",
        "//De ida\n",
        "#include<iostream>\n",
        "using namespace std;\n",
        "void funcion(int n){\n",
        "    \n",
        "    if(n>0){\n",
        "        cout<<n<<\" \";\n",
        "        funcion(n-1);\n",
        "    }\n",
        "}\n",
        "int main(){\n",
        "    funcion(5);\n",
        "    return 0;\n",
        "}"
      ],
      "execution_count": 3,
      "outputs": [
        {
          "output_type": "stream",
          "name": "stdout",
          "text": [
            "Overwriting recursividad.cpp\n"
          ]
        }
      ]
    },
    {
      "cell_type": "code",
      "metadata": {
        "colab": {
          "base_uri": "https://localhost:8080/"
        },
        "id": "NTIr8-NPQ3zo",
        "outputId": "da16e548-e228-4299-a871-66610fb35fea"
      },
      "source": [
        "!g++ recursividad.cpp && ./a.out"
      ],
      "execution_count": 4,
      "outputs": [
        {
          "output_type": "stream",
          "name": "stdout",
          "text": [
            "5 4 3 2 1 "
          ]
        }
      ]
    },
    {
      "cell_type": "code",
      "metadata": {
        "colab": {
          "base_uri": "https://localhost:8080/"
        },
        "id": "RwSEGnXoSsEC",
        "outputId": "9d9c64df-f075-40cd-8bf2-c7d2d74dab29"
      },
      "source": [
        "%%writefile recursividad.cpp\n",
        "//Ida y Vuelta\n",
        "#include<iostream>\n",
        "using namespace std;\n",
        "void funcion(int n){\n",
        "    \n",
        "    if(n>0){\n",
        "        cout<<n<<\"-I, \";\n",
        "        funcion(n-1);\n",
        "        cout<<n<<\"-V, \";\n",
        "    }\n",
        "}\n",
        "int main(){\n",
        "    funcion(5);\n",
        "    return 0;\n",
        "}"
      ],
      "execution_count": 11,
      "outputs": [
        {
          "output_type": "stream",
          "name": "stdout",
          "text": [
            "Overwriting recursividad.cpp\n"
          ]
        }
      ]
    },
    {
      "cell_type": "code",
      "metadata": {
        "colab": {
          "base_uri": "https://localhost:8080/"
        },
        "id": "FbpexxRpSyMM",
        "outputId": "17cd05fc-95c0-4f94-dae7-fe99ea3f9e85"
      },
      "source": [
        "!g++ recursividad.cpp && ./a.out"
      ],
      "execution_count": 12,
      "outputs": [
        {
          "output_type": "stream",
          "name": "stdout",
          "text": [
            "5-I, 4-I, 3-I, 2-I, 1-I, 1-V, 2-V, 3-V, 4-V, 5-V, "
          ]
        }
      ]
    },
    {
      "cell_type": "markdown",
      "metadata": {
        "id": "64pdw1GNX6M_"
      },
      "source": [
        "##Sumatoria de números"
      ]
    },
    {
      "cell_type": "code",
      "metadata": {
        "colab": {
          "base_uri": "https://localhost:8080/"
        },
        "id": "AEQAxHTKX5G1",
        "outputId": "bdec4a23-dab2-436d-e034-9406ccbea8c6"
      },
      "source": [
        "%%writefile sumaRecursivo.cpp\n",
        "#include<iostream>\n",
        "using namespace std;\n",
        "int Suma(int n)\n",
        "{\n",
        "    //criterio de parada\n",
        "    if(n==1)\n",
        "      return 1;\n",
        "    else return Suma(n-1)+n;\n",
        "}\n",
        "int main(){\n",
        "    cout<<\"La suma es: \"<<Suma(5);\n",
        "    return 0;\n",
        "}"
      ],
      "execution_count": 42,
      "outputs": [
        {
          "output_type": "stream",
          "name": "stdout",
          "text": [
            "Overwriting sumaRecursivo.cpp\n"
          ]
        }
      ]
    },
    {
      "cell_type": "code",
      "metadata": {
        "colab": {
          "base_uri": "https://localhost:8080/"
        },
        "id": "jFAQ7z5fZXgw",
        "outputId": "b46a6961-ce2a-4aad-a8e8-aa34efeea21b"
      },
      "source": [
        "!g++ sumaRecursivo.cpp &&./a.out"
      ],
      "execution_count": 43,
      "outputs": [
        {
          "output_type": "stream",
          "name": "stdout",
          "text": [
            "La suma es: 15"
          ]
        }
      ]
    },
    {
      "cell_type": "markdown",
      "metadata": {
        "id": "ihNhXSZTfuJa"
      },
      "source": [
        "##Factorial Recursivo"
      ]
    },
    {
      "cell_type": "code",
      "metadata": {
        "colab": {
          "base_uri": "https://localhost:8080/"
        },
        "id": "SL8C-vUffxCI",
        "outputId": "ef1ca127-6f96-4d88-b22a-d05a8e9b0690"
      },
      "source": [
        "%%writefile factorial.cpp\n",
        "#include<iostream>\n",
        "using std::cout;\n",
        "using std::endl;\n",
        "int funcion(int n)\n",
        "{\n",
        "  if(n==1) return 1;\n",
        " else return funcion(n-1)*(n);    \n",
        "}\n",
        "int funcion2(int n)\n",
        "{\n",
        "    if(n>1)\n",
        "     return funcion2(n-1)*n;    \n",
        " }\n",
        "int main(){\n",
        "    cout<<\"El factorial es: \"<<funcion(6)<<endl;\n",
        "    cout<<\"El factorial es: \"<<funcion2(6);\n",
        "    return 0;\n",
        "}"
      ],
      "execution_count": 59,
      "outputs": [
        {
          "output_type": "stream",
          "name": "stdout",
          "text": [
            "Overwriting factorial.cpp\n"
          ]
        }
      ]
    },
    {
      "cell_type": "code",
      "metadata": {
        "colab": {
          "base_uri": "https://localhost:8080/"
        },
        "id": "HZGqMIWCf1EQ",
        "outputId": "1b7f5571-4532-409e-8e62-279290d8316a"
      },
      "source": [
        "!g++ factorial.cpp && ./a.out"
      ],
      "execution_count": 60,
      "outputs": [
        {
          "output_type": "stream",
          "name": "stdout",
          "text": [
            "El factorial es: 720\n",
            "El factorial es: 720"
          ]
        }
      ]
    },
    {
      "cell_type": "code",
      "metadata": {
        "colab": {
          "base_uri": "https://localhost:8080/"
        },
        "id": "nX0BgEbwhjIl",
        "outputId": "6864cef6-6527-4973-de4b-c861b37bc259"
      },
      "source": [
        "%%writefile impresionFactorial.cpp\n",
        "#include<iostream>\n",
        "using namespace std;\n",
        "int funcion2(int n)\n",
        "{\n",
        "    if(n==1){\n",
        "        cout<<n<<\"=\";\n",
        "        return 1;\n",
        "    }\n",
        "    else{\n",
        "        cout<<n<<\"*\";\n",
        "         return funcion2(n-1)*n;\n",
        "    }\n",
        "        \n",
        " }\n",
        " int main(){\n",
        "    cout<<\"El factorial es: \"<<funcion2(6);\n",
        "    return 0;\n",
        "}"
      ],
      "execution_count": 74,
      "outputs": [
        {
          "output_type": "stream",
          "name": "stdout",
          "text": [
            "Overwriting impresionFactorial.cpp\n"
          ]
        }
      ]
    },
    {
      "cell_type": "code",
      "metadata": {
        "colab": {
          "base_uri": "https://localhost:8080/"
        },
        "id": "UaM3mvxdhort",
        "outputId": "4804c363-81a0-4b03-f843-daef3e3d2ecb"
      },
      "source": [
        "!g++ impresionFactorial.cpp && ./a.out"
      ],
      "execution_count": 75,
      "outputs": [
        {
          "output_type": "stream",
          "name": "stdout",
          "text": [
            "El factorial es: 6*5*4*3*2*1=720"
          ]
        }
      ]
    },
    {
      "cell_type": "markdown",
      "metadata": {
        "id": "oBLpi3VUjuE3"
      },
      "source": [
        "##Ejercicio de una PC1"
      ]
    },
    {
      "cell_type": "code",
      "metadata": {
        "colab": {
          "base_uri": "https://localhost:8080/"
        },
        "id": "sz14xBXMjx0w",
        "outputId": "dda3c260-6617-4b0c-a877-67d72740ba2b"
      },
      "source": [
        "%%writefile vectores.cpp\n",
        "#include<vector>\n",
        "#include<algorithm>\n",
        "#include<iostream>\n",
        "#include<cstdlib>\n",
        "using namespace std;\n",
        "vector<int>enteros;\n",
        "void generar(size_t i){\n",
        "    if(i==0) return;\n",
        "    generar(i-1);\n",
        "    enteros.push_back(rand()%200);\n",
        "}\n",
        "void mostrar(){\n",
        "    for(size_t i=0; i<enteros.size(); i++)\n",
        "    {\n",
        "        cout<<enteros[i]<<\" \";\n",
        "    }\n",
        "}\n",
        "void mostrarR(size_t i){\n",
        "  if(i==-1) return;\n",
        "    mostrarR(i-1);\n",
        "    cout<<enteros[i]<<\" \";\n",
        "}\n",
        "int main(){\n",
        "    generar(20);\n",
        "    sort(enteros.begin(),enteros.end(),[](int a, int b){return a>b;});\n",
        "    mostrar();\n",
        "    cout<<\"Mostrar recursivo\"<<endl;\n",
        "    mostrarR(enteros.size()-1);\n",
        "    return 0;\n",
        "}"
      ],
      "execution_count": 86,
      "outputs": [
        {
          "output_type": "stream",
          "name": "stdout",
          "text": [
            "Overwriting vectores.cpp\n"
          ]
        }
      ]
    },
    {
      "cell_type": "code",
      "metadata": {
        "colab": {
          "base_uri": "https://localhost:8080/"
        },
        "id": "gaRWmrQek2rA",
        "outputId": "340426bb-e754-4e98-d558-f29fa771be46"
      },
      "source": [
        "!g++ vectores.cpp && ./a.out"
      ],
      "execution_count": 87,
      "outputs": [
        {
          "output_type": "stream",
          "name": "stdout",
          "text": [
            "193 186 183 177 172 163 162 140 136 135 126 115 92 90 86 59 49 27 26 21 Mostrar recursivo\n",
            "193 186 183 177 172 163 162 140 136 135 126 115 92 90 86 59 49 27 26 21 "
          ]
        }
      ]
    },
    {
      "cell_type": "markdown",
      "metadata": {
        "id": "kNCE6Q52nmYT"
      },
      "source": [
        "##Fibonacci Recursivo"
      ]
    },
    {
      "cell_type": "code",
      "metadata": {
        "colab": {
          "base_uri": "https://localhost:8080/"
        },
        "id": "ZihFGJ_fnpHe",
        "outputId": "94c5ffd6-07fa-4163-b541-79c3290ebb7d"
      },
      "source": [
        "%%writefile fibonacci.cpp\n",
        "#include<iostream>\n",
        "using namespace std;\n",
        "int fibo(int n)\n",
        "{\n",
        "    if(n==0) return 0;\n",
        "    if(n==1) return 1;\n",
        "    else\n",
        "        return fibo(n-1)+fibo(n-2);\n",
        "}\n",
        "void serie(int n)\n",
        "{\n",
        "    if(n==0) return;\n",
        "    serie(n-1);\n",
        "    cout<<fibo(n)<<\", \";\n",
        "    \n",
        "    \n",
        " \n",
        "}\n",
        "int main()\n",
        "{\n",
        "    cout<<\"Fibonacci de 5: \"<<fibo(5)<<endl;\n",
        "    cout<<\"La serie fibonacci de 5 terminos\"<<endl;\n",
        "    serie (5);\n",
        "    cout<<\"\\b\";\n",
        "    return 0;\n",
        "}"
      ],
      "execution_count": 117,
      "outputs": [
        {
          "output_type": "stream",
          "name": "stdout",
          "text": [
            "Overwriting fibonacci.cpp\n"
          ]
        }
      ]
    },
    {
      "cell_type": "code",
      "metadata": {
        "colab": {
          "base_uri": "https://localhost:8080/"
        },
        "id": "vBrGxdX0oZec",
        "outputId": "b2104c6b-0d85-457a-8939-2650db778bf0"
      },
      "source": [
        "!g++ fibonacci.cpp &&./a.out"
      ],
      "execution_count": 118,
      "outputs": [
        {
          "output_type": "stream",
          "name": "stdout",
          "text": [
            "Fibonacci de 5: 5\n",
            "La serie fibonacci de 5 terminos\n",
            "1, 1, 2, 3, 5, \b"
          ]
        }
      ]
    },
    {
      "cell_type": "markdown",
      "metadata": {
        "id": "ztpVgCebQpyo"
      },
      "source": [
        "##Ejercicio 1\n",
        "De triangulo mediante recursividad"
      ]
    },
    {
      "cell_type": "code",
      "metadata": {
        "colab": {
          "base_uri": "https://localhost:8080/"
        },
        "id": "xxNKfo9cVUFp",
        "outputId": "4fb6e91a-52e5-4dcd-db20-5ef61663d5b4"
      },
      "source": [
        "#1,2,3,4,5,6,7,8,...........n\n",
        "#n-n+1 ,                 n-3, n-2,n-1,n\n",
        "%%writefile recursividadejercicio1.cpp\n",
        "#include<iostream>\n",
        "using namespace std;\n",
        "void funcion(int n){\n",
        "    \n",
        "    if(n>0){\n",
        "        cout<<\"*\";\n",
        "        funcion(n-1);\n",
        "    }\n",
        "}\n",
        "void fila(int n)\n",
        "{\n",
        "    funcion(n);\n",
        " cout<<\"\\n\";\n",
        "    if(n>0)\n",
        "    {\n",
        "        fila(n-1);\n",
        "    }\n",
        "    else return;\n",
        "}\n",
        "int main(){\n",
        "    //funcion(5);\n",
        "    fila(5);\n",
        "    return 0;\n",
        "}"
      ],
      "execution_count": null,
      "outputs": [
        {
          "output_type": "stream",
          "name": "stdout",
          "text": [
            "Overwriting recursividad.cpp\n"
          ]
        }
      ]
    },
    {
      "cell_type": "code",
      "metadata": {
        "colab": {
          "base_uri": "https://localhost:8080/"
        },
        "id": "OwuPMF5fYJ9p",
        "outputId": "f41c9edf-37a0-40f9-9e76-6f5ed510451c"
      },
      "source": [
        "!g++ recursividadejercicio1.cpp && ./a.out"
      ],
      "execution_count": null,
      "outputs": [
        {
          "output_type": "stream",
          "name": "stdout",
          "text": [
            "*****\n",
            "****\n",
            "***\n",
            "**\n",
            "*\n",
            "\n"
          ]
        }
      ]
    },
    {
      "cell_type": "markdown",
      "metadata": {
        "id": "Xw2qWURgrPYH"
      },
      "source": [
        "##Ejercicio 2\n",
        "Recortes de Tablones de madera"
      ]
    },
    {
      "cell_type": "code",
      "metadata": {
        "id": "gdBYqaSIrRh2"
      },
      "source": [
        ""
      ],
      "execution_count": null,
      "outputs": []
    }
  ]
}