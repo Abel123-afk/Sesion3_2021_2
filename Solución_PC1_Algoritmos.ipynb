{
  "nbformat": 4,
  "nbformat_minor": 0,
  "metadata": {
    "colab": {
      "name": "Solución PC1 Algoritmos.ipynb",
      "provenance": [],
      "authorship_tag": "ABX9TyPDTjrprD92yZNYSPK5pyJd",
      "include_colab_link": true
    },
    "kernelspec": {
      "name": "python3",
      "display_name": "Python 3"
    },
    "language_info": {
      "name": "python"
    }
  },
  "cells": [
    {
      "cell_type": "markdown",
      "metadata": {
        "id": "view-in-github",
        "colab_type": "text"
      },
      "source": [
        "<a href=\"https://colab.research.google.com/github/Abel123-afk/Sesion3_2021_2/blob/Sesionmain/Soluci%C3%B3n_PC1_Algoritmos.ipynb\" target=\"_parent\"><img src=\"https://colab.research.google.com/assets/colab-badge.svg\" alt=\"Open In Colab\"/></a>"
      ]
    },
    {
      "cell_type": "markdown",
      "metadata": {
        "id": "jp4nI3cnPrgu"
      },
      "source": [
        "#Ejercicios propuestos"
      ]
    },
    {
      "cell_type": "markdown",
      "metadata": {
        "id": "daY3v_muP-CN"
      },
      "source": [
        "##Nivel:1"
      ]
    },
    {
      "cell_type": "markdown",
      "metadata": {
        "id": "R8TS5IaSQCFK"
      },
      "source": [
        "####Algoritmo 1\n",
        "\n",
        "[ s s k y b n v j h t ]\n",
        "\n",
        "[ b s k y s n v j h t ]\n",
        "\n",
        "[ b h k y s n v j s t ]\n",
        "\n",
        "[ b h j y s n v k s t ]\n",
        "\n",
        "[ b h j k s n v y s t ]\n",
        "\n",
        "[ b h j k n s v y s t ]\n",
        "\n",
        "[ b h j k n s s y v t ]\n",
        "\n",
        "[ b h j k n s s t v y ]"
      ]
    },
    {
      "cell_type": "markdown",
      "metadata": {
        "id": "FqyQLfiRQHNz"
      },
      "source": [
        "Respuesta: El algorimo 1 es de tipo selección.\n",
        "Primera iteración: selecciona a \"b\" como el menor de todo los elementos."
      ]
    },
    {
      "cell_type": "markdown",
      "metadata": {
        "id": "GkumSpBJQfr9"
      },
      "source": [
        "Algoritmo 2\n",
        "\n",
        "[ b l n s d w f ]\n",
        "\n",
        "[ b l n s s w f ]\n",
        "\n",
        "[ b l n n s w f ]\n",
        "\n",
        "[ b l l n s w f ]\n",
        "\n",
        "[ b d l n s w f ]\n",
        "\n",
        "[ b d l n s w w ]\n",
        "\n",
        "[ b d l n s s w ]\n",
        "\n",
        "[ b d l n n s w ]\n",
        "\n",
        "[ b d l l n s w ]\n",
        "\n",
        "[ b d f l n s w ]"
      ]
    },
    {
      "cell_type": "markdown",
      "metadata": {
        "id": "eLD4dFs4dX9t"
      },
      "source": [
        "Ejercicio 2: responda las siguientes preguntas  \n",
        "con el arreglo siguiente: [5,3,6,1,9,2], conteste la siguientes preguntas.  \n",
        "\n",
        "¿con el algoritmo exchange sort, cómo quedaría el arreglo después de la primera iteración?  \n",
        "Respuesta:Se compara el primer elementos con todos y se hace todos los intercambios necesarios:  \n",
        "arr[6]={5,3,6,1,9,2}  \n",
        "3,5,6,1,9,2  \n",
        "Después de la primera iteración queda lo siguiente:  \n",
        "1,5,6,3,9,2  \n",
        "¿con el algoritmo bubble sort, cuántas intercambios se hacen hasta la tercera iteración?  \n",
        "arr[6]={5,3,6,1,9,2}  \n",
        "Primera Iteración:  \n",
        "3,5,6,1,9,2  \n",
        "3,5,1,6,9,2  \n",
        "3,5,1,6,2,9  \n",
        "Segunda Iteración  \n",
        "3,1,5,6,2,9  \n",
        "3,1,5,2,6,9  \n",
        "Tercera Iteración  \n",
        "1,3,5,2,6,9  \n",
        "1,3,2,5,6,9  \n",
        "Respuesta: Realiza 7 intercambios  \n",
        "¿con el algoritmo de selection sort, cuántas comparaciones realiza?  \n",
        "arr[6]={5,3,6,1,9,2}  \n",
        "Se usa la fórmula: n(n+1)/2  \n",
        "n=tamaño-1;  \n",
        "n=5;  \n",
        "N° de comparaciones es 15;  \n",
        "¿con el algoritmo de insertion sort, cuántas desplazamientos realiza?  \n",
        "arr[6]={5,3,6,1,9,2}  \n",
        "i=1;  \n",
        "3,5,6,1,9,2  \n",
        "i=2;  \n",
        "i=3;  \n",
        "3,5,1,6,9,2  \n",
        "3,1,5,6,9,2  \n",
        "1,3,5,6,9,2  \n",
        "i=4;  \n",
        "i=5;  \n",
        "1,3,5,6,2,9  \n",
        "1,3,5,2,6,9  \n",
        "1,3,2,5,6,9  \n",
        "1,2,3,5,6,9  \n",
        "Respuesta: Hace 8 desplazamientos.\n",
        "El algoritmo shell sort publicado en el aula virtual, implemente un método con uso de templates e indique su complejidad detallada y asintótica.  \n"
      ]
    }
  ]
}