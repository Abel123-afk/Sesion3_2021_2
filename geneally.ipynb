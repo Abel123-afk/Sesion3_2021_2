{
  "nbformat": 4,
  "nbformat_minor": 0,
  "metadata": {
    "colab": {
      "name": "Untitled1.ipynb",
      "provenance": [],
      "authorship_tag": "ABX9TyPv1DmjPRAZzxYWTXyj6PFb",
      "include_colab_link": true
    },
    "kernelspec": {
      "name": "python3",
      "display_name": "Python 3"
    },
    "language_info": {
      "name": "python"
    }
  },
  "cells": [
    {
      "cell_type": "markdown",
      "metadata": {
        "id": "view-in-github",
        "colab_type": "text"
      },
      "source": [
        "<a href=\"https://colab.research.google.com/github/Abel123-afk/Sesion3_2021_2/blob/Sesionmain/geneally.ipynb\" target=\"_parent\"><img src=\"https://colab.research.google.com/assets/colab-badge.svg\" alt=\"Open In Colab\"/></a>"
      ]
    },
    {
      "cell_type": "markdown",
      "metadata": {
        "id": "Yy_AQdvVhVwc"
      },
      "source": [
        "#Resolución de ejercicios del geneally\n"
      ]
    },
    {
      "cell_type": "markdown",
      "metadata": {
        "id": "k7OzIkEzhiwe"
      },
      "source": [
        "##Ejercicio 1\n",
        "1.¿Cuáles son las diferencias entre struct y clase?  \n",
        "Una clase tiene atributos y miembros que son privados y públicos. Asimismo, tiene un constructor y un destructor. A diferencia de un struct sus miembros son públicos y por lo tanto es accesible para todos, pero no pueden ser instanciados. Además un struct es una colección de uno o más elementos denominados campos, cada uno de los cuales pueden ser diferentes."
      ]
    },
    {
      "cell_type": "code",
      "metadata": {
        "id": "i-ZHJH3yi4t8"
      },
      "source": [
        "//Ejemplo en Código\n",
        "struct Persona{\n",
        "    int dni;\n",
        "    string nombre;\n",
        "    short edad;\n",
        "    string carrera;\n",
        "};\n",
        "class CPersona{\n",
        "    int edad;\n",
        "    string nombre;\n",
        "    string estadoCivil;\n",
        "    \n",
        "    public:\n",
        "    void setName(string ename){\n",
        "        nombre=ename;\n",
        "    }\n",
        "    string getName(){\n",
        "        return name;\n",
        "    }\n",
        "}"
      ],
      "execution_count": null,
      "outputs": []
    },
    {
      "cell_type": "markdown",
      "metadata": {
        "id": "ezQO08Z1joom"
      },
      "source": [
        "##Ejercicio 2\n",
        "2.¿Qué es la herencia tipo público y protegido?  \n",
        "La herencia permite que se puedan definir nuevas clases basadas de unas ya existentes a fin de reutilizar el código. Los datos y funciones miembros protected son directamente accesibles desde la propia clase y sus derivadas. Tienen visibilidad privada para el resto de los ámbitos. En UML, se especifica con “#”. Por otro lado, en herencia de tipo público, los métodos son accesibles para el uso en las clases derivadas. Es decir puedo acceder desde afuera.\n"
      ]
    },
    {
      "cell_type": "code",
      "metadata": {
        "id": "qLMyj-IIj61t"
      },
      "source": [
        "//Ejemplo en código\n",
        "class CPersona{\n",
        "    //Los atributos son privados por defecto\n",
        "    int edad;\n",
        "    string nombre;\n",
        "    string estadoCivil;\n",
        "    \n",
        "    public: //Los métodos son public, y se hereda de esta forma\n",
        "    CPersona(int edad): edad(edad){}\n",
        "    void setName(string ename){\n",
        "        nombre=ename;\n",
        "    }\n",
        "    string getName(){\n",
        "        return name;\n",
        "    }\n",
        "}\n",
        "//Herencia publico->Se usa los métodos, pero no modificar directo un dato private\n",
        "class CIngeniero : public CPerson{\n",
        "    short anniosWork;\n",
        "    string especialidad;\n",
        "    bool employ;\n",
        "    public:\n",
        "    CIngeniero(int edad): CPersona(edad){\n",
        "        employ=true;\n",
        "    }\n",
        "}\n",
        "//Herencia protected\n",
        "class CPerro{\n",
        "    protected:\n",
        "    int edad;\n",
        "    string nombre;\n",
        "    string dueño;\n",
        "    \n",
        "    public: //Los métodos son public, y se hereda de esta forma\n",
        "    CPerro(int edad): edad(edad){}\n",
        "    void setName(string ename){\n",
        "        nombre=ename;\n",
        "    }\n",
        "    string getName(){\n",
        "        return name;\n",
        "    }\n",
        "}\n",
        "Class CBoxerDog: public CPerro{\n",
        "    string raza;\n",
        "    public:\n",
        "    CBoxerDog(){\n",
        "        edad=10;\n",
        "        nombre=\"Boby\";\n",
        "    }\n",
        "\n",
        "}\n",
        "//Esta herecia protected permite editar los atributos de manera directa\n",
        "//de la clase padre"
      ],
      "execution_count": null,
      "outputs": []
    },
    {
      "cell_type": "markdown",
      "metadata": {
        "id": "WO0yfmjbos8j"
      },
      "source": [
        "##Ejercicio 3\n",
        "3.¿Podemos utilizar una función sobrescrita de la clase base en la clase derivada?  \n",
        "Si se puede utilizar, en el sigueinte ejemplo se evidencia una función que luego es sobreescrita y finalmente es usado por la clase derivada.\n"
      ]
    },
    {
      "cell_type": "code",
      "metadata": {
        "colab": {
          "base_uri": "https://localhost:8080/"
        },
        "id": "OaGR52BBpGMr",
        "outputId": "728ca96b-edf0-4496-f23b-8a78f4562583"
      },
      "source": [
        "%%writefile functionOverride.cpp\n",
        "#include<iostream>\n",
        "using namespace std;\n",
        "class CCar{\n",
        "    protected:\n",
        "    string brand;\n",
        "    short age;\n",
        "    double price;\n",
        "    public:\n",
        "    CCar(short age=0, string brand=\"\", double price=0)\n",
        "      :\n",
        "      age(age), brand(brand), price(price){ \n",
        "    }\n",
        "    //Esta función puede ser sobre escrita en la siguiente clase derivada\n",
        "    virtual void setAge(short eage){}\n",
        "};\n",
        "class CToyota: public CCar{\n",
        "    protected:\n",
        "    string color;\n",
        "    public:\n",
        "    CToyota(): CCar(2019,\"Toyota\",20000)\n",
        "    {\n",
        "        color=\"Rojo\";\n",
        "\n",
        "    }\n",
        "    //Esta es la clase base para la siguiente que lo herede\n",
        "    void setAge(short eage) \n",
        "    {\n",
        "        age=eage;\n",
        "    }\n",
        "};\n",
        "class CToyotaCorolla: public CToyota{\n",
        "    string category;\n",
        "    public:\n",
        "    CToyotaCorolla() : CToyota()\n",
        "    {\n",
        "        category=\"Full\";\n",
        "    }\n",
        "    void show()\n",
        "    {\n",
        "        cout<<color<<endl;\n",
        "        cout<<age<<endl;\n",
        "        cout<<brand<<endl;\n",
        "        cout<<price<<endl;\n",
        "    }\n",
        "};\n",
        "int main()\n",
        "{\n",
        "    CToyotaCorolla carRed;\n",
        "    carRed.show();\n",
        " cout<<\"----------\"<<endl;\n",
        "    carRed.setAge(20);\n",
        "    carRed.show();\n",
        "    return 0;\n",
        "}"
      ],
      "execution_count": 46,
      "outputs": [
        {
          "output_type": "stream",
          "text": [
            "Overwriting functionOverride.cpp\n"
          ],
          "name": "stdout"
        }
      ]
    },
    {
      "cell_type": "code",
      "metadata": {
        "colab": {
          "base_uri": "https://localhost:8080/"
        },
        "id": "sy6_G0IEtWUE",
        "outputId": "9e71e2cb-4b09-492f-c2da-e19a9370f52d"
      },
      "source": [
        "!g++ functionOverride.cpp && ./a.out"
      ],
      "execution_count": 47,
      "outputs": [
        {
          "output_type": "stream",
          "text": [
            "Rojo\n",
            "2019\n",
            "Toyota\n",
            "20000\n",
            "----------\n",
            "Rojo\n",
            "20\n",
            "Toyota\n",
            "20000\n"
          ],
          "name": "stdout"
        }
      ]
    },
    {
      "cell_type": "markdown",
      "metadata": {
        "id": "VbgBBS4eyo4a"
      },
      "source": [
        "##Ejercicio 4\n",
        "4.¿Cómo se crea una clase abstracta?  \n",
        "Se crea una clase abstracta cuando esta no es implementada en la clase padre, sino será desarrollado en sus clases hijas.\n",
        "\n",
        "\n",
        "Una clase abastracta no se puede instanciar, pero si heredar a sus clases hijas."
      ]
    },
    {
      "cell_type": "code",
      "metadata": {
        "id": "KSudr972zQuU"
      },
      "source": [
        "asbtract class CPerson{\n",
        "    \n",
        "};"
      ],
      "execution_count": null,
      "outputs": []
    }
  ]
}