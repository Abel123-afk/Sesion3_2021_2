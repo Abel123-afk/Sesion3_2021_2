{
  "nbformat": 4,
  "nbformat_minor": 0,
  "metadata": {
    "colab": {
      "name": "Pila&Cola.ipynb",
      "provenance": [],
      "authorship_tag": "ABX9TyNJkDD6NWirK/FW9rfsWrZJ",
      "include_colab_link": true
    },
    "kernelspec": {
      "name": "python3",
      "display_name": "Python 3"
    },
    "language_info": {
      "name": "python"
    }
  },
  "cells": [
    {
      "cell_type": "markdown",
      "metadata": {
        "id": "view-in-github",
        "colab_type": "text"
      },
      "source": [
        "<a href=\"https://colab.research.google.com/github/Abel123-afk/Sesion3_2021_2/blob/Sesionmain/Pila%26Cola.ipynb\" target=\"_parent\"><img src=\"https://colab.research.google.com/assets/colab-badge.svg\" alt=\"Open In Colab\"/></a>"
      ]
    },
    {
      "cell_type": "markdown",
      "source": [
        "Creamos la estructura de datos de una Pila"
      ],
      "metadata": {
        "id": "if1aexbysBZ5"
      }
    },
    {
      "cell_type": "code",
      "execution_count": 11,
      "metadata": {
        "colab": {
          "base_uri": "https://localhost:8080/"
        },
        "id": "RGdEVyybr-KN",
        "outputId": "88f5a9b7-9394-4dce-dba4-ee7a112b3954"
      },
      "outputs": [
        {
          "output_type": "stream",
          "name": "stdout",
          "text": [
            "Overwriting pila.cpp\n"
          ]
        }
      ],
      "source": [
        "%%writefile pila.cpp\n",
        "#include<iostream>\n",
        "using namespace std;\n",
        "template<class T>\n",
        "class Pila{\n",
        "    T*arr;\n",
        "    int n;\n",
        "    int tope;\n",
        "    public:\n",
        "    Pila(int n=50):n(n){\n",
        "        arr=new T[n];\n",
        "        tope=-1;\n",
        "    }\n",
        "    void push(T dato)\n",
        "    {\n",
        "        if(!full())\n",
        "        {\n",
        "            tope++;\n",
        "            arr[tope]=dato;\n",
        "        }\n",
        "    }\n",
        "    void pop()\n",
        "    {\n",
        "        if(!empty())\n",
        "        {\n",
        "            T*aux=new T[n-1];\n",
        "            for(int i=0; i<tope; i++)\n",
        "            {\n",
        "                aux[i]=arr[i];\n",
        "            }\n",
        "            delete []arr;\n",
        "            arr=aux;\n",
        "            tope--;\n",
        "            aux=nullptr;\n",
        "            delete aux;\n",
        "        }\n",
        "    }\n",
        "    T top()\n",
        "    {\n",
        "        if(!empty())\n",
        "        {\n",
        "            return arr[tope];\n",
        "        }\n",
        "    }\n",
        "    bool empty()\n",
        "    {\n",
        "        return tope==-1;\n",
        "    }\n",
        "    bool full()\n",
        "    {\n",
        "        return n-1==tope;\n",
        "    }\n",
        "    int size()\n",
        "    {\n",
        "        return n;\n",
        "    }\n",
        "};\n",
        "int main()\n",
        "{\n",
        "    Pila<int>*numeros=new Pila<int>(30);\n",
        "    for(int i=0; i<50; i++)\n",
        "    {\n",
        "        numeros->push(rand()%200+50);\n",
        "    }\n",
        "    cout<<\"Size: \"<<numeros->size()<<endl;\n",
        "    for(size_t i=0; i<numeros->size(); i++)\n",
        "    {\n",
        "        cout<<numeros->top()<<\" - \";\n",
        "        numeros->pop();\n",
        "    }\n",
        "    cout<<\"\\nSize: \"<<numeros->size()<<endl;\n",
        "    return 0;\n",
        "}"
      ]
    },
    {
      "cell_type": "code",
      "source": [
        "!g++ pila.cpp && ./a.out"
      ],
      "metadata": {
        "colab": {
          "base_uri": "https://localhost:8080/"
        },
        "id": "90CE54YXsTG0",
        "outputId": "a068bb25-9aa5-487a-8325-046b3476692c"
      },
      "execution_count": 12,
      "outputs": [
        {
          "output_type": "stream",
          "name": "stdout",
          "text": [
            "Size: 30\n",
            "185 - 117 - 173 - 112 - 180 - 232 - 79 - 217 - 218 - 61 - 186 - 222 - 76 - 190 - 176 - 213 - 109 - 140 - 77 - 212 - 71 - 99 - 142 - 236 - 185 - 243 - 165 - 227 - 136 - 233 - \n",
            "Size: 30\n"
          ]
        }
      ]
    },
    {
      "cell_type": "markdown",
      "source": [
        "Creamos la estructura de datos Cola"
      ],
      "metadata": {
        "id": "lSrvkfO0wwfm"
      }
    },
    {
      "cell_type": "code",
      "source": [
        "%%writefile cola.cpp\n",
        "#include<iostream>\n",
        "using namespace std;\n",
        "template<class T>\n",
        "class Cola\n",
        "{\n",
        "  private:\n",
        "   struct Nodo{\n",
        "       T dato;\n",
        "       Nodo*derecha;\n",
        "       Nodo*izquierda;\n",
        "       Nodo(T dato=NULL)\n",
        "       {\n",
        "           this->dato=dato;\n",
        "           derecha=izquierda=nullptr;\n",
        "       }\n",
        "   };\n",
        "   int n;\n",
        "   Nodo*inicio;\n",
        "   Nodo*fin;\n",
        " public:\n",
        " Cola()\n",
        " {\n",
        "     n=0;\n",
        "     inicio=fin=nullptr;\n",
        " }\n",
        " void insertar(T dato)\n",
        " {\n",
        "     Nodo*nuevo=new Nodo(dato);\n",
        "     if(n==0)\n",
        "     {\n",
        "         inicio=fin=nuevo;\n",
        "     }\n",
        "     else{\n",
        "         fin->derecha=nuevo;\n",
        "         nuevo->izquierda=fin;\n",
        "         fin=nuevo;\n",
        "     }\n",
        "     n++;\n",
        " }\n",
        " void eliminar()\n",
        " {\n",
        "     if(n>0)\n",
        "     {\n",
        "         Nodo*eliminado=inicio;\n",
        "         inicio=inicio->derecha;\n",
        "         eliminado->derecha=nullptr;\n",
        "         delete eliminado;\n",
        "         n--;\n",
        "         if(n==0) \n",
        "            inicio=fin=nullptr;\n",
        "         if(n==1)\n",
        "            fin=inicio;\n",
        "     }\n",
        " }\n",
        " T principio()\n",
        " {\n",
        "     return this->inicio->dato;\n",
        " }\n",
        " T final()\n",
        " {\n",
        "     return this->fin->dato;\n",
        " }\n",
        " int tamanho()\n",
        " {\n",
        "     return this->n;\n",
        " }\n",
        " bool vacio()\n",
        " {\n",
        "     return this->n==0;\n",
        " }\n",
        "};\n",
        "\n",
        "\n",
        "int main()\n",
        "{\n",
        "    Cola<int> cola= Cola<int>();\n",
        "    for(int i=0; i<10; i++)\n",
        "    {\n",
        "        cola.insertar(i);\n",
        "    }\n",
        "    while(!cola.vacio())\n",
        "    {\n",
        "        cout<<cola.principio()<<\"-\";\n",
        "        cola.eliminar();\n",
        "    }\n",
        "    return 0;\n",
        "}"
      ],
      "metadata": {
        "colab": {
          "base_uri": "https://localhost:8080/"
        },
        "id": "yfgwhBFcsXb2",
        "outputId": "59535c79-dcfb-4760-f1ca-6ce9415bd004"
      },
      "execution_count": 46,
      "outputs": [
        {
          "output_type": "stream",
          "name": "stdout",
          "text": [
            "Overwriting cola.cpp\n"
          ]
        }
      ]
    },
    {
      "cell_type": "code",
      "source": [
        "!g++ cola.cpp && ./a.out"
      ],
      "metadata": {
        "colab": {
          "base_uri": "https://localhost:8080/"
        },
        "id": "9XNq13E5xIUN",
        "outputId": "f7245796-1020-4e89-be45-834a5c94cf55"
      },
      "execution_count": 47,
      "outputs": [
        {
          "output_type": "stream",
          "name": "stdout",
          "text": [
            "0-1-2-3-4-5-6-7-8-9-"
          ]
        }
      ]
    },
    {
      "cell_type": "code",
      "source": [
        ""
      ],
      "metadata": {
        "id": "LYqWIjF6xNpo"
      },
      "execution_count": null,
      "outputs": []
    }
  ]
}