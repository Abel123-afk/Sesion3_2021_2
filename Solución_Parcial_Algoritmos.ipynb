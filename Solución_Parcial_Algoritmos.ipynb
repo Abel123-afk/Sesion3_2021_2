{
  "nbformat": 4,
  "nbformat_minor": 0,
  "metadata": {
    "colab": {
      "name": "Solución Parcial Algoritmos.ipynb",
      "provenance": [],
      "authorship_tag": "ABX9TyNUSiWeyb17GidTHwip9CYf",
      "include_colab_link": true
    },
    "kernelspec": {
      "name": "python3",
      "display_name": "Python 3"
    },
    "language_info": {
      "name": "python"
    }
  },
  "cells": [
    {
      "cell_type": "markdown",
      "metadata": {
        "id": "view-in-github",
        "colab_type": "text"
      },
      "source": [
        "<a href=\"https://colab.research.google.com/github/Abel123-afk/Sesion3_2021_2/blob/Sesionmain/Soluci%C3%B3n_Parcial_Algoritmos.ipynb\" target=\"_parent\"><img src=\"https://colab.research.google.com/assets/colab-badge.svg\" alt=\"Open In Colab\"/></a>"
      ]
    },
    {
      "cell_type": "markdown",
      "metadata": {
        "id": "jp4nI3cnPrgu"
      },
      "source": [
        "#Ejercicios propuestos"
      ]
    },
    {
      "cell_type": "markdown",
      "metadata": {
        "id": "daY3v_muP-CN"
      },
      "source": [
        "##Nivel:1"
      ]
    },
    {
      "cell_type": "markdown",
      "metadata": {
        "id": "R8TS5IaSQCFK"
      },
      "source": [
        "####Algoritmo 1\n",
        "\n",
        "[ s s k y b n v j h t ]\n",
        "\n",
        "[ b s k y s n v j h t ]\n",
        "\n",
        "[ b h k y s n v j s t ]\n",
        "\n",
        "[ b h j y s n v k s t ]\n",
        "\n",
        "[ b h j k s n v y s t ]\n",
        "\n",
        "[ b h j k n s v y s t ]\n",
        "\n",
        "[ b h j k n s s y v t ]\n",
        "\n",
        "[ b h j k n s s t v y ]"
      ]
    },
    {
      "cell_type": "markdown",
      "metadata": {
        "id": "FqyQLfiRQHNz"
      },
      "source": [
        "Respuesta: El algorimo 1 es de tipo selección.\n",
        "Primera iteración: selecciona a \"b\" como el menor de todo los elementos."
      ]
    },
    {
      "cell_type": "markdown",
      "metadata": {
        "id": "GkumSpBJQfr9"
      },
      "source": [
        "Algoritmo 2\n",
        "\n",
        "[ b l n s d w f ]\n",
        "\n",
        "[ b l n s s w f ]\n",
        "\n",
        "[ b l n n s w f ]\n",
        "\n",
        "[ b l l n s w f ]\n",
        "\n",
        "[ b d l n s w f ]\n",
        "\n",
        "[ b d l n s w w ]\n",
        "\n",
        "[ b d l n s s w ]\n",
        "\n",
        "[ b d l n n s w ]\n",
        "\n",
        "[ b d l l n s w ]\n",
        "\n",
        "[ b d f l n s w ]"
      ]
    },
    {
      "cell_type": "markdown",
      "metadata": {
        "id": "eLD4dFs4dX9t"
      },
      "source": [
        "Ejercicio 2: responda las siguientes preguntas  \n",
        "con el arreglo siguiente: [5,3,6,1,9,2], conteste la siguientes preguntas.  \n",
        "\n",
        "¿con el algoritmo exchange sort, cómo quedaría el arreglo después de la primera iteración?  \n",
        "Respuesta:Se compara el primer elementos con todos y se hace todos los intercambios necesarios:  \n",
        "arr[6]={5,3,6,1,9,2}  \n",
        "3,5,6,1,9,2  \n",
        "Después de la primera iteración queda lo siguiente:  \n",
        "1,5,6,3,9,2  \n",
        "¿con el algoritmo bubble sort, cuántas intercambios se hacen hasta la tercera iteración?  \n",
        "arr[6]={5,3,6,1,9,2}  \n",
        "Primera Iteración:  \n",
        "3,5,6,1,9,2  \n",
        "3,5,1,6,9,2  \n",
        "3,5,1,6,2,9  \n",
        "Segunda Iteración  \n",
        "3,1,5,6,2,9  \n",
        "3,1,5,2,6,9  \n",
        "Tercera Iteración  \n",
        "1,3,5,2,6,9  \n",
        "1,3,2,5,6,9  \n",
        "Respuesta: Realiza 7 intercambios  \n",
        "¿con el algoritmo de selection sort, cuántas comparaciones realiza?  \n",
        "arr[6]={5,3,6,1,9,2}  \n",
        "Se usa la fórmula: n(n+1)/2  \n",
        "n=tamaño-1;  \n",
        "n=5;  \n",
        "N° de comparaciones es 15;  \n",
        "¿con el algoritmo de insertion sort, cuántas desplazamientos realiza?  \n",
        "arr[6]={5,3,6,1,9,2}  \n",
        "i=1;  \n",
        "3,5,6,1,9,2  \n",
        "i=2;  \n",
        "i=3;  \n",
        "3,5,1,6,9,2  \n",
        "3,1,5,6,9,2  \n",
        "1,3,5,6,9,2  \n",
        "i=4;  \n",
        "i=5;  \n",
        "1,3,5,6,2,9  \n",
        "1,3,5,2,6,9  \n",
        "1,3,2,5,6,9  \n",
        "1,2,3,5,6,9  \n",
        "Respuesta: Hace 8 desplazamientos.  "
      ]
    },
    {
      "cell_type": "markdown",
      "metadata": {
        "id": "ZGMxqqXansvz"
      },
      "source": [
        "El algoritmo shell sort publicado en el aula virtual, implemente un método con uso de templates e indique su complejidad detallada y asintótica.\n",
        "Solución:"
      ]
    },
    {
      "cell_type": "code",
      "metadata": {
        "colab": {
          "base_uri": "https://localhost:8080/"
        },
        "id": "1HRWug44nuni",
        "outputId": "a7772a95-f80c-47e8-8bc0-51244dc4b7e3"
      },
      "source": [
        "%%writefile shell.cpp\n",
        "#include<iostream>\n",
        "#include<vector>\n",
        "#include<functional>\n",
        "using namespace std;\n",
        "template<typename T>\n",
        "void ordShell(T* a, int n)\n",
        "{\n",
        "    int i,j,k,intervalo=n/2;\n",
        "    int temp;\n",
        "    while(intervalo>0)\n",
        "    {\n",
        "        for(i=intervalo; i<=n; i++)\n",
        "        {\n",
        "            j=i-intervalo;\n",
        "            while(j>=0)\n",
        "            {\n",
        "                k=j+intervalo; //Queda k=i;\n",
        "                if(a[j]<=a[k])\n",
        "                   j=-1;\n",
        "                else{\n",
        "                    temp=a[j];\n",
        "                    a[j]=a[k];\n",
        "                    a[k]=temp;\n",
        "                    j-=intervalo;\n",
        "                }\n",
        "            }\n",
        "        }\n",
        "        intervalo=intervalo/2;\n",
        "    }\n",
        "}\n",
        "\n",
        "//Complejidad asintótica: O(n.log n);\n",
        "template<typename T>\n",
        "void show(T*arr, uint n, function<void(T)>criterio)\n",
        "{\n",
        "    for(int i=0; i<n; i++)\n",
        "    {\n",
        "        criterio(arr[i]);\n",
        "    }\n",
        "}\n",
        "int main()\n",
        "{\n",
        "    int n=10;\n",
        "    int arr[n];\n",
        "    for(int i=0; i<n; i++)\n",
        "    {\n",
        "        arr[i]=rand()%100+24;\n",
        "    }\n",
        "    cout<<endl;\n",
        "    show<int>(arr,n,[](int a){cout<<a<<\" \";});\n",
        "    cout<<endl;\n",
        "    ordShell<int>(arr,n);\n",
        "    show<int>(arr,n,[](int a){cout<<a<<\" \";});\n",
        "    cout<<endl;\n",
        "    return 0;\n",
        "}"
      ],
      "execution_count": null,
      "outputs": [
        {
          "output_type": "stream",
          "name": "stdout",
          "text": [
            "Overwriting shell.cpp\n"
          ]
        }
      ]
    },
    {
      "cell_type": "code",
      "metadata": {
        "colab": {
          "base_uri": "https://localhost:8080/"
        },
        "id": "qORLq3izn98N",
        "outputId": "893acbcb-eb71-4df4-e858-cbeca90a8466"
      },
      "source": [
        "!g++ shell.cpp && ./a.out"
      ],
      "execution_count": null,
      "outputs": [
        {
          "output_type": "stream",
          "name": "stdout",
          "text": [
            "\n",
            "107 110 101 39 117 59 110 116 73 45 \n",
            "39 45 59 73 101 107 110 110 116 117 \n"
          ]
        }
      ]
    },
    {
      "cell_type": "markdown",
      "metadata": {
        "id": "Rh8_as717MmV"
      },
      "source": [
        "##Nivel 2\n",
        "Usar lambdas y templates\n",
        "\n",
        "Ejercicio 1:\n",
        "Implemente una lista simple enlazada circular con las siguientes características:\n",
        "* Usar programación orientada a objetos.\n",
        "* Implementar el método insertar al inicio. De orden O(1).\n",
        "* Implementar el método eliminar en posición. De orden O(n)\n",
        "* Implementar el método buscar que retorne una lista de elementos que coincidan usando un lambda para establecer el criterio de búsqueda. De orden O(n)\n",
        "* Implemente una aplicación de prueba que permita llenar la lista con diez mil elementos aleatorios de tipo clase. La clase será a su elección y deberá tener por lo menos 3 atributos."
      ]
    },
    {
      "cell_type": "code",
      "metadata": {
        "colab": {
          "base_uri": "https://localhost:8080/"
        },
        "id": "mj9HuWpD7jIQ",
        "outputId": "219b2a1b-a0ab-4ac4-c4eb-bccc34cc7844"
      },
      "source": [
        "%%writefile ejercicio1.cpp\n",
        "#include<iostream>\n",
        "#include<functional>\n",
        "using namespace std;\n",
        "template<class T>\n",
        "class ListSimple;\n",
        "template<class T>\n",
        "class Nodo {\n",
        "private:\n",
        "    friend class ListSimple<T>;\n",
        "    T elemento;\n",
        "    Nodo<T>* siguiente;\n",
        "public:\n",
        "    Nodo(T elemento = NULL, Nodo<T>* siguiente = nullptr) :\n",
        "        elemento(elemento), siguiente(siguiente) {}\n",
        "    ~Nodo() {}\n",
        "};\n",
        "template<class T>\n",
        "class ListSimple {\n",
        "private:\n",
        "    Nodo<T>* inicio;\n",
        "    Nodo<T>* fin;\n",
        "    long size;\n",
        "public:\n",
        "    ListSimple()\n",
        "    {\n",
        "        inicio = nullptr;\n",
        "        fin = nullptr;\n",
        "        size = 0;\n",
        "    }\n",
        "    void insertarInicio(T dato)\n",
        "    {\n",
        "        Nodo<T>* nuevo = new Nodo<T>(dato);\n",
        "        if (size == 0)\n",
        "        {\n",
        "            inicio = fin = nuevo;\n",
        "            fin->siguiente = inicio;\n",
        "        }\n",
        "        else {\n",
        "            nuevo->siguiente = inicio;\n",
        "            inicio = nuevo;\n",
        "            fin->siguiente = inicio;\n",
        "\n",
        "        }\n",
        "        size++;\n",
        "    }\n",
        "    void eliminarEnPos(int pos)\n",
        "    {\n",
        "        Nodo<T>* aux = inicio;\n",
        "        if (pos >= 0 && pos < size)\n",
        "        {\n",
        "            if (pos == 0)\n",
        "            {\n",
        "                //eliminar al inicio\n",
        "                inicio = aux->siguiente;\n",
        "                aux->siguiente = nullptr;\n",
        "                delete aux;\n",
        "            }\n",
        "            else {\n",
        "                for (int i = 0; i < pos - 1; i++)\n",
        "                {\n",
        "                    aux = aux->siguiente;\n",
        "                }\n",
        "                Nodo<T>* eliminar = aux->siguiente;\n",
        "                aux->siguiente = eliminar->siguiente;\n",
        "                eliminar->siguiente = nullptr;\n",
        "                delete eliminar;\n",
        "                if (pos == size - 1)\n",
        "                {\n",
        "                    fin = aux;\n",
        "                    fin->siguiente = inicio;\n",
        "                }\n",
        "            }\n",
        "            size--;\n",
        "        }\n",
        "\n",
        "    }\n",
        "    long _size()\n",
        "    {\n",
        "        return size;\n",
        "    }\n",
        "    void show(function<void(T)>criterio)\n",
        "    {\n",
        "        Nodo<T>* aux = inicio;\n",
        "        for (size_t i = 0; i < size; i++)\n",
        "        {\n",
        "            criterio(aux->elemento);\n",
        "            aux = aux->siguiente;\n",
        "        }\n",
        "    }\n",
        "    //template<typename T>\n",
        "    ListSimple<T> buscarRetornar(function<bool(T)>criterio)\n",
        "    {\n",
        "        ListSimple<T>listAux = ListSimple<T>();\n",
        "        Nodo<T>* aux = inicio;\n",
        "        for (int i = 0; i<size; i++)\n",
        "        {\n",
        "            if (criterio(aux->elemento))\n",
        "            {\n",
        "                listAux.insertarInicio(aux->elemento);\n",
        "            }\n",
        "            aux = aux->siguiente;\n",
        "        }\n",
        "        return listAux;\n",
        "    }\n",
        "};\n",
        "class CPerson {\n",
        "    short edad;\n",
        "    string nombre;\n",
        "    char sexo;\n",
        "public:\n",
        "    CPerson(short edad = rand() % 80 + 10, string nombre = \"Abel\", char sexo = 'M') :\n",
        "        edad(edad), nombre(nombre), sexo(sexo)\n",
        "    {}\n",
        "    void mostrar() {\n",
        "        cout <<\"Nombre: \"<<nombre<<\" , Edad: \"<<edad<<\", Sexo: \"<<sexo<< endl;\n",
        "    }\n",
        "};\n",
        "int main()\n",
        "{\n",
        "    ListSimple<CPerson*> personas = ListSimple<CPerson*>();\n",
        "    for (int i = 0; i < 10000; i++)\n",
        "    {\n",
        "        CPerson* nuevo = new CPerson();\n",
        "        personas.insertarInicio(nuevo);\n",
        "    }\n",
        "    cout << \"Mostrar Personas\" << endl;\n",
        "    personas.show([](CPerson* p) {p->mostrar(); });\n",
        "    return 0;\n",
        "}"
      ],
      "execution_count": null,
      "outputs": [
        {
          "output_type": "stream",
          "name": "stdout",
          "text": [
            "Overwriting ejercicio1.cpp\n"
          ]
        }
      ]
    },
    {
      "cell_type": "code",
      "metadata": {
        "colab": {
          "base_uri": "https://localhost:8080/"
        },
        "id": "tVYyvmLhPQfH",
        "outputId": "165ff2c5-ea8e-4f44-eb29-b6eb70363704"
      },
      "source": [
        "!g++ ejercicio1.cpp && ./a.out"
      ],
      "execution_count": null,
      "outputs": [
        {
          "output_type": "stream",
          "name": "stdout",
          "text": [
            "Mostrar Personas\n",
            "Nombre: Abel , Edad: 71, Sexo: M\n",
            "Nombre: Abel , Edad: 19, Sexo: M\n",
            "Nombre: Abel , Edad: 22, Sexo: M\n",
            "Nombre: Abel , Edad: 36, Sexo: M\n",
            "Nombre: Abel , Edad: 25, Sexo: M\n",
            "Nombre: Abel , Edad: 43, Sexo: M\n",
            "Nombre: Abel , Edad: 45, Sexo: M\n",
            "Nombre: Abel , Edad: 67, Sexo: M\n",
            "Nombre: Abel , Edad: 16, Sexo: M\n",
            "Nombre: Abel , Edad: 33, Sexo: M\n"
          ]
        }
      ]
    },
    {
      "cell_type": "code",
      "metadata": {
        "colab": {
          "base_uri": "https://localhost:8080/"
        },
        "id": "4HYEOTq-P0ZB",
        "outputId": "67c2b0d6-4956-41d1-d1f7-cc2134fb291a"
      },
      "source": [
        "%%writefile source.cpp\n",
        "#include<vector>\n",
        "#include<iostream>\n",
        "using namespace std;\n",
        "vector<int> buscar(vector<int>&arr, int dato)\n",
        "{\n",
        "    vector<int>resultado;\n",
        "    for(int i=0; i<arr.size(); i++)\n",
        "    {\n",
        "        if(arr[i]<=dato)\n",
        "        {\n",
        "            resultado.push_back(arr[i]);\n",
        "        }\n",
        "    }\n",
        "    return resultado;\n",
        "}\n",
        "int main()\n",
        "{\n",
        "    vector<int>num;\n",
        "    for(int i=0; i<10;i++)\n",
        "    {\n",
        "        num.push_back(rand()%100);\n",
        "    }\n",
        "    for(int i=0; i<num.size(); i++)\n",
        "    {\n",
        "        cout<<num[i]<<\" \";\n",
        "    }\n",
        "    cout<<endl;\n",
        "    num=buscar(num,50);\n",
        "    for(int i=0; i<num.size(); i++)\n",
        "    {\n",
        "        cout<<num[i]<<\" \";\n",
        "    }\n",
        "  cout<<endl;\n",
        "    return 0;\n",
        "}"
      ],
      "execution_count": null,
      "outputs": [
        {
          "output_type": "stream",
          "name": "stdout",
          "text": [
            "Overwriting source.cpp\n"
          ]
        }
      ]
    },
    {
      "cell_type": "code",
      "metadata": {
        "colab": {
          "base_uri": "https://localhost:8080/"
        },
        "id": "b_FIiVGsquTC",
        "outputId": "4fb74d3d-9181-48c5-c7f5-b736430e17ab"
      },
      "source": [
        "!g++ source.cpp && ./a.out"
      ],
      "execution_count": null,
      "outputs": [
        {
          "output_type": "stream",
          "name": "stdout",
          "text": [
            "83 86 77 15 93 35 86 92 49 21 \n",
            "15 35 49 21 \n"
          ]
        }
      ]
    },
    {
      "cell_type": "markdown",
      "metadata": {
        "id": "bS8Fb83p38SM"
      },
      "source": [
        "###Ejercicio 2\n",
        "Implementar una pila de tamaño fijo con arreglos\n",
        "Operaciones:\n",
        "\n",
        "* push()\n",
        "* pop()\n",
        "* top()\n",
        "* empty()\n",
        "* full()\n",
        "* size()"
      ]
    },
    {
      "cell_type": "code",
      "metadata": {
        "colab": {
          "base_uri": "https://localhost:8080/"
        },
        "id": "AjLN4A0y4QDw",
        "outputId": "4d8e4859-7b23-4021-987b-ab928adf0ad1"
      },
      "source": [
        "%%writefile pila.cpp\n",
        "#include<iostream>\n",
        "using namespace std;\n",
        "template<typename T>\n",
        "class Pila {\n",
        "    T* arr;\n",
        "    int n;\n",
        "    int tope;\n",
        "public:\n",
        "    Pila(int n = 50) : n(n) {\n",
        "        arr = new T [n];\n",
        "        tope = -1;\n",
        "    }\n",
        "    void push(T dato) {\n",
        "        if (!full())\n",
        "        {\n",
        "            tope++;\n",
        "            arr[tope] = dato;\n",
        "        }\n",
        "    }\n",
        "    void pop() {\n",
        "        if (!empty())\n",
        "        {\n",
        "            T*aux=new T[n];\n",
        "            for (int i = 0; i < tope; i++)\n",
        "            {\n",
        "               aux[i] = arr[i];\n",
        "            }\n",
        "            delete[]arr;\n",
        "            arr = aux;\n",
        "            tope--;\n",
        "        }\n",
        "    }\n",
        "    T top() {\n",
        "        if (!empty())\n",
        "        {\n",
        "            return arr[tope];\n",
        "        }\n",
        "    }\n",
        "    bool empty() {\n",
        "        return tope == -1;\n",
        "    }\n",
        "    bool full() {\n",
        "        return n - 1 == tope;\n",
        "    }\n",
        "    int size() {\n",
        "        return n;\n",
        "    }\n",
        "};\n",
        "\n",
        "int main()\n",
        "{\n",
        "    Pila<int>* numeros = new Pila<int>(30);\n",
        "    for (int i = 0; i < 50; i++)\n",
        "    {\n",
        "        numeros->push(rand() % 200);\n",
        "    }\n",
        "    for (size_t i = 0; i < numeros->size(); i++)\n",
        "    {\n",
        "        cout << numeros->top() << \" \";\n",
        "        numeros->pop();\n",
        "    }\n",
        "    return 0;\n",
        "}"
      ],
      "execution_count": 36,
      "outputs": [
        {
          "output_type": "stream",
          "name": "stdout",
          "text": [
            "Overwriting pila.cpp\n"
          ]
        }
      ]
    },
    {
      "cell_type": "code",
      "metadata": {
        "colab": {
          "base_uri": "https://localhost:8080/"
        },
        "id": "soQniTHfCElx",
        "outputId": "7760665b-e6b3-4d1b-a64f-49feb042d5fe"
      },
      "source": [
        "!g++ pila.cpp && ./a.out"
      ],
      "execution_count": 37,
      "outputs": [
        {
          "output_type": "stream",
          "name": "stdout",
          "text": [
            "135 67 123 62 130 182 29 167 168 11 136 172 26 140 126 163 59 90 27 162 21 49 92 186 135 193 115 177 86 183 "
          ]
        }
      ]
    },
    {
      "cell_type": "markdown",
      "metadata": {
        "id": "7jWifekfXkEE"
      },
      "source": [
        "Implementar una cola de de tamaño dinámico con listas simple enlazadas\n",
        "Operaciones:\n",
        "\n",
        "* push()\n",
        "* pop()\n",
        "* front()\n",
        "* back()\n",
        "* empty()\n",
        "* size()"
      ]
    },
    {
      "cell_type": "code",
      "metadata": {
        "colab": {
          "base_uri": "https://localhost:8080/"
        },
        "id": "38VMMo5DYbDF",
        "outputId": "5c95ff8f-5561-4ae5-d9fa-871360165122"
      },
      "source": [
        "%%writefile cola.cpp\n",
        "#include<iostream>\n",
        "using namespace std;\n",
        "template<class T>\n",
        "class Cola;\n",
        "template<class T>\n",
        "class Nodo{\n",
        "  T elemento;\n",
        "  Nodo<T>*siguiente;\n",
        "  friend class Cola<T>;\n",
        "  public:\n",
        "  Nodo(T elemento=NULL, Nodo<T>*siguiente=nullptr):\n",
        "  elemento(elemento),siguiente(siguiente)\n",
        "  {}\n",
        "};\n",
        "template<class T>\n",
        "class Cola{\n",
        "    Nodo<T>*inicio;\n",
        "    Nodo<T>*fin;\n",
        "    int n;\n",
        "    public:\n",
        "    Cola(Nodo<T>*inicio=nullptr, Nodo<T>*fin=nullptr)\n",
        "    : inicio(inicio), fin(fin)\n",
        "    {\n",
        "        n=0;\n",
        "    }\n",
        "    void push(T e)\n",
        "    {\n",
        "        //insertar Al final\n",
        "        Nodo<T>*nuevo=new Nodo<T>(e);\n",
        "        if(n==0)\n",
        "        {\n",
        "            inicio=fin=nuevo;\n",
        "        }\n",
        "        else\n",
        "        {\n",
        "          fin->siguiente=nuevo;\n",
        "          fin=nuevo;\n",
        "        }\n",
        "        n++;\n",
        "    }\n",
        "    void pop()\n",
        "    {\n",
        "        //eliminar al inicio\n",
        "        if(n>0)\n",
        "        {\n",
        "            Nodo<T>*eliminar=inicio;\n",
        "            inicio=eliminar->siguiente;\n",
        "            eliminar->siguiente=nullptr;\n",
        "            delete eliminar;\n",
        "            n--;\n",
        "            if(n==1)\n",
        "            {\n",
        "                fin=inicio;\n",
        "            }\n",
        "        }\n",
        "    }\n",
        "    T front()\n",
        "    {\n",
        "        return inicio->elemento;\n",
        "    }\n",
        "    T back()\n",
        "    {\n",
        "        return fin->elemento;\n",
        "    }\n",
        "    bool empty()\n",
        "    {\n",
        "        return n==0;\n",
        "    }\n",
        "    int size()\n",
        "    {\n",
        "        return n;\n",
        "    }\n",
        "};\n",
        "\n",
        "int main()\n",
        "{\n",
        "    Cola<int>numeros=Cola<int>();\n",
        "    for(int i=0; i<10;i++)\n",
        "    {\n",
        "        numeros.push(rand()%100+30);\n",
        "    }\n",
        "    cout<<\"____Front___\"<<endl;\n",
        "    cout<<numeros.front()<<endl;\n",
        "    cout<<\"____Back___\"<<endl;\n",
        "    cout<<numeros.back()<<endl;\n",
        "    while(!numeros.empty())\n",
        "    {\n",
        "        cout<<numeros.front()<<\" \";\n",
        "        numeros.pop();\n",
        "    }\n",
        "    return 0;\n",
        "}"
      ],
      "execution_count": 44,
      "outputs": [
        {
          "output_type": "stream",
          "name": "stdout",
          "text": [
            "Overwriting cola.cpp\n"
          ]
        }
      ]
    },
    {
      "cell_type": "code",
      "metadata": {
        "colab": {
          "base_uri": "https://localhost:8080/"
        },
        "id": "2o-KkOtAdjwm",
        "outputId": "d21f2872-f2f3-4c7b-efdd-d74c22382683"
      },
      "source": [
        "!g++ cola.cpp && ./a.out"
      ],
      "execution_count": 45,
      "outputs": [
        {
          "output_type": "stream",
          "name": "stdout",
          "text": [
            "____Front___\n",
            "113\n",
            "____Back___\n",
            "51\n",
            "113 116 107 45 123 65 116 122 79 51 "
          ]
        }
      ]
    },
    {
      "cell_type": "code",
      "metadata": {
        "id": "PuLfpOAkd-SO"
      },
      "source": [
        ""
      ],
      "execution_count": null,
      "outputs": []
    }
  ]
}