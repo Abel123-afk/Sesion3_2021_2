{
  "nbformat": 4,
  "nbformat_minor": 0,
  "metadata": {
    "colab": {
      "name": "Untitled0.ipynb",
      "provenance": [],
      "collapsed_sections": [],
      "authorship_tag": "ABX9TyNKuDvjkp0piIHv58YXiT8F",
      "include_colab_link": true
    },
    "kernelspec": {
      "name": "python3",
      "display_name": "Python 3"
    },
    "language_info": {
      "name": "python"
    }
  },
  "cells": [
    {
      "cell_type": "markdown",
      "metadata": {
        "id": "view-in-github",
        "colab_type": "text"
      },
      "source": [
        "<a href=\"https://colab.research.google.com/github/Abel123-afk/Sesion3_2021_2/blob/Sesionmain/Untitled0.ipynb\" target=\"_parent\"><img src=\"https://colab.research.google.com/assets/colab-badge.svg\" alt=\"Open In Colab\"/></a>"
      ]
    },
    {
      "cell_type": "markdown",
      "metadata": {
        "id": "VT8aMZKYvBvm"
      },
      "source": [
        "#Contenido Temático de Sesión\n",
        "1. Introducción a google colab\n",
        "2. Compilación por terminal\n",
        "3. Markdown\n",
        "4. Templates\n",
        "5. Preguntas y Respuestas"
      ]
    },
    {
      "cell_type": "markdown",
      "metadata": {
        "id": "maMXCr96vcQ6"
      },
      "source": [
        "##Compilación por terminal"
      ]
    },
    {
      "cell_type": "code",
      "metadata": {
        "colab": {
          "base_uri": "https://localhost:8080/"
        },
        "id": "H-R7x3aCvPU6",
        "outputId": "f1470a12-3ee2-4303-8a8f-f629cc28e17d"
      },
      "source": [
        "%%writefile programa1.cpp\n",
        "#include<iostream>\n",
        "using namespace std;\n",
        "int main()\n",
        "{\n",
        "    cout<<\"Intro a google Colab\";\n",
        "    return 0;\n",
        "}"
      ],
      "execution_count": 4,
      "outputs": [
        {
          "output_type": "stream",
          "text": [
            "Overwriting programa1.cpp\n"
          ],
          "name": "stdout"
        }
      ]
    },
    {
      "cell_type": "code",
      "metadata": {
        "id": "rAZ_1gkL17NO"
      },
      "source": [
        "!g++ programa1.cpp"
      ],
      "execution_count": 5,
      "outputs": []
    },
    {
      "cell_type": "code",
      "metadata": {
        "colab": {
          "base_uri": "https://localhost:8080/"
        },
        "id": "EKVF9cr32R9Y",
        "outputId": "62498f78-281b-46e3-a929-bf23ea0352f4"
      },
      "source": [
        "!./a.out"
      ],
      "execution_count": 6,
      "outputs": [
        {
          "output_type": "stream",
          "text": [
            "Intro a google Colab"
          ],
          "name": "stdout"
        }
      ]
    },
    {
      "cell_type": "code",
      "metadata": {
        "colab": {
          "base_uri": "https://localhost:8080/"
        },
        "id": "tQl_OWqD2W4o",
        "outputId": "f6c3b4da-0b1b-429c-a418-522e2485d62f"
      },
      "source": [
        "!g++ programa1.cpp && ./a.out"
      ],
      "execution_count": 7,
      "outputs": [
        {
          "output_type": "stream",
          "text": [
            "Intro a google Colab"
          ],
          "name": "stdout"
        }
      ]
    },
    {
      "cell_type": "code",
      "metadata": {
        "colab": {
          "base_uri": "https://localhost:8080/"
        },
        "id": "WXw9NM3Z2iSK",
        "outputId": "300b3f01-fda3-4b13-e992-811b8e722edb"
      },
      "source": [
        "!g++ programa1.cpp -std=c++1z -Wall -o programa1.exe && ./programa1.exe"
      ],
      "execution_count": 8,
      "outputs": [
        {
          "output_type": "stream",
          "text": [
            "Intro a google Colab"
          ],
          "name": "stdout"
        }
      ]
    },
    {
      "cell_type": "code",
      "metadata": {
        "id": "3QCtmm7X2_Gp"
      },
      "source": [
        "!man -k g++"
      ],
      "execution_count": null,
      "outputs": []
    },
    {
      "cell_type": "markdown",
      "metadata": {
        "id": "EZ3YFQ6PAzOZ"
      },
      "source": [
        "##Templates"
      ]
    },
    {
      "cell_type": "code",
      "metadata": {
        "colab": {
          "base_uri": "https://localhost:8080/"
        },
        "id": "MCAljujQA3Tx",
        "outputId": "4c283384-a91f-4f87-aba5-614cad2ad0bd"
      },
      "source": [
        "%%writefile sinTemplates.cpp\n",
        "class Operacion{\n",
        "    int n1;\n",
        "    int n2;\n",
        "    public:\n",
        "    Operacion(){\n",
        "        this->n1=0;\n",
        "        this->n2==;\n",
        "    }\n",
        "    Operacion(int n1){\n",
        "        this->n1=n1;\n",
        "        this->n2=0;\n",
        "    }\n",
        "    Operacion(int n1, int n2){\n",
        "        this->n1=n1;\n",
        "        this->n2=n2;\n",
        "    }\n",
        "};\n",
        "int main(){\n",
        "    Operacion o1;\n",
        "    Operacion o2(100);\n",
        "    Operacion o3(100, 200);\n",
        "    return 0;\n",
        "}"
      ],
      "execution_count": 10,
      "outputs": [
        {
          "output_type": "stream",
          "text": [
            "Writing sinTemplates.cpp\n"
          ],
          "name": "stdout"
        }
      ]
    },
    {
      "cell_type": "code",
      "metadata": {
        "colab": {
          "base_uri": "https://localhost:8080/"
        },
        "id": "3kREbtK8CYP9",
        "outputId": "7ea0b74c-7cdf-4040-d3e1-b2cbe02cacf5"
      },
      "source": [
        "%%writefile sinTemplates.cpp\n",
        "#include<iostream>\n",
        "using std::cout;\n",
        "using std::endl;\n",
        "typedef unsigned long long ull;\n",
        "class Operacion1{\n",
        "    short n1;\n",
        "    short n2;\n",
        "    public:\n",
        "    Operacion1(short n1=0, short n2=0): n1(n1), n2(n2){}\n",
        "    short suma(){return n1+n2;}\n",
        "};\n",
        "class Operacion2{\n",
        "    int n1;\n",
        "    int n2;\n",
        "    public:\n",
        "    Operacion2 (int n1=0, int n2=0) : n1(n1), n2(n2){ }\n",
        "    int suma(){return n1+n2;}\n",
        "};\n",
        "class Operacion3{\n",
        "    ull n1;\n",
        "    ull n2;\n",
        "    public:\n",
        "    Operacion3(ull n1=0, ull n2=0): n1(n1), n2(n2){}\n",
        "    ull suma(){return n1+n2;}\n",
        "};\n",
        "class Operacion4{\n",
        "    double n1;\n",
        "    double n2;\n",
        "    public:\n",
        "    Operacion4(double n1=0, double n2=0): n1(n1), n2(n2){}\n",
        "    double suma(){return n1+n2;}\n",
        "};\n",
        "int main()\n",
        "{\n",
        "    Operacion1 o1(123456789.35, 132456.24);\n",
        "    Operacion2 o2(123456789.35, 132456.24);\n",
        "    Operacion3 o3(123456789.35, 132456.24);\n",
        "    Operacion4 o4(123456789.35, 132456.24);\n",
        "    cout<<o1.suma()<<endl;\n",
        "    cout<<o2.suma()<<endl;\n",
        "    cout<<o3.suma()<<endl;\n",
        "    cout<<o4.suma()<<endl;\n",
        "    \n",
        "    return 0;\n",
        "}"
      ],
      "execution_count": 21,
      "outputs": [
        {
          "output_type": "stream",
          "text": [
            "Overwriting sinTemplates.cpp\n"
          ],
          "name": "stdout"
        }
      ]
    },
    {
      "cell_type": "code",
      "metadata": {
        "colab": {
          "base_uri": "https://localhost:8080/"
        },
        "id": "NkJDRfiiET4o",
        "outputId": "86379288-7b40-4e68-ebb2-f8e8d076f7f1"
      },
      "source": [
        "!g++ sinTemplates.cpp && ./a.out"
      ],
      "execution_count": 22,
      "outputs": [
        {
          "output_type": "stream",
          "text": [
            "\u001b[01m\u001b[KsinTemplates.cpp:\u001b[m\u001b[K In function ‘\u001b[01m\u001b[Kint main()\u001b[m\u001b[K’:\n",
            "\u001b[01m\u001b[KsinTemplates.cpp:35:42:\u001b[m\u001b[K \u001b[01;35m\u001b[Kwarning: \u001b[m\u001b[Koverflow in implicit constant conversion [\u001b[01;35m\u001b[K-Woverflow\u001b[m\u001b[K]\n",
            "     Operacion1 o1(123456789.35, 132456.24\u001b[01;35m\u001b[K)\u001b[m\u001b[K;\n",
            "                                          \u001b[01;35m\u001b[K^\u001b[m\u001b[K\n",
            "\u001b[01m\u001b[KsinTemplates.cpp:35:42:\u001b[m\u001b[K \u001b[01;35m\u001b[Kwarning: \u001b[m\u001b[Koverflow in implicit constant conversion [\u001b[01;35m\u001b[K-Woverflow\u001b[m\u001b[K]\n",
            "-2\n",
            "123589245\n",
            "123589245\n",
            "1.23589e+08\n"
          ],
          "name": "stdout"
        }
      ]
    },
    {
      "cell_type": "code",
      "metadata": {
        "colab": {
          "base_uri": "https://localhost:8080/"
        },
        "id": "2h1DjvelISpf",
        "outputId": "be18fec0-f169-4e90-eee8-3a4dc9f62276"
      },
      "source": [
        "%%writefile conTemplates.cpp\n",
        "#include<iostream>\n",
        "using std::cout;\n",
        "using std::endl;\n",
        "typedef unsigned long long ull;\n",
        "template <class Tipo>\n",
        "class Operacion{\n",
        "    Tipo n1;\n",
        "    Tipo n2;\n",
        "    public:\n",
        "    Operacion (Tipo n1=0, Tipo n2=0): n1(n1), n2(n2){}\n",
        "    Tipo suma(){return n1+n2;}\n",
        "};\n",
        "int main(){\n",
        "    Operacion<short> o1(123456789.35,132456.24);\n",
        "    Operacion<int> o2(123456789.35,132456.24);\n",
        "    Operacion<ull> o3(123456789.35,132456.24);\n",
        "    Operacion<float> o4(123456789.35,132456.24);\n",
        "    cout<<o1.suma()<<endl;\n",
        "    cout<<o2.suma()<<endl;\n",
        "    cout<<o3.suma()<<endl;\n",
        "    cout<<o4.suma()<<endl;\n",
        "    return 0;\n",
        "}"
      ],
      "execution_count": 32,
      "outputs": [
        {
          "output_type": "stream",
          "text": [
            "Overwriting conTemplates.cpp\n"
          ],
          "name": "stdout"
        }
      ]
    },
    {
      "cell_type": "code",
      "metadata": {
        "colab": {
          "base_uri": "https://localhost:8080/"
        },
        "id": "_3083VXoLA4C",
        "outputId": "1a6d5e6c-a01e-4d3c-8181-f66378436fe8"
      },
      "source": [
        "!g++ conTemplates.cpp && ./a.out"
      ],
      "execution_count": 33,
      "outputs": [
        {
          "output_type": "stream",
          "text": [
            "\u001b[01m\u001b[KconTemplates.cpp:\u001b[m\u001b[K In function ‘\u001b[01m\u001b[Kint main()\u001b[m\u001b[K’:\n",
            "\u001b[01m\u001b[KconTemplates.cpp:14:47:\u001b[m\u001b[K \u001b[01;35m\u001b[Kwarning: \u001b[m\u001b[Koverflow in implicit constant conversion [\u001b[01;35m\u001b[K-Woverflow\u001b[m\u001b[K]\n",
            "     Operacion<short> o1(123456789.35,132456.24\u001b[01;35m\u001b[K)\u001b[m\u001b[K;\n",
            "                                               \u001b[01;35m\u001b[K^\u001b[m\u001b[K\n",
            "\u001b[01m\u001b[KconTemplates.cpp:14:47:\u001b[m\u001b[K \u001b[01;35m\u001b[Kwarning: \u001b[m\u001b[Koverflow in implicit constant conversion [\u001b[01;35m\u001b[K-Woverflow\u001b[m\u001b[K]\n",
            "-2\n",
            "123589245\n",
            "123589245\n",
            "1.23589e+08\n"
          ],
          "name": "stdout"
        }
      ]
    },
    {
      "cell_type": "code",
      "metadata": {
        "colab": {
          "base_uri": "https://localhost:8080/"
        },
        "id": "94Pmu5akNZTl",
        "outputId": "1498a4e0-0975-4227-f466-088b7bfac08a"
      },
      "source": [
        "%%writefile miniproyecto.cpp\n",
        "using namespace std;\n",
        "#include<iostream>\n",
        "#include<string>\n",
        "\n",
        "class Enemigo{\n",
        "    string nombre;\n",
        "    public:\n",
        "    Enemigo(){}\n",
        "};\n",
        "class Bala{\n",
        "    string material;\n",
        "    public:\n",
        "    Bala(){material=\"plomo\";}\n",
        "    string getMaterial(){return material;}\n",
        "};\n",
        "class Mapa{\n",
        "    short idx;\n",
        "    public:\n",
        "    Mapa(){}\n",
        "};\n",
        "struct Celular{\n",
        "    string marca; \n",
        "    Celular (){marca=\"Samsung\";}\n",
        "};\n",
        "template <class Tipo>\n",
        "class Arreglo{\n",
        "    Tipo *arr;\n",
        "    int idx;\n",
        "    public:\n",
        "    Arreglo(){\n",
        "        arr=new Tipo[100];\n",
        "        idx=0;\n",
        "    }\n",
        "    void insertar(Tipo o)\n",
        "    {\n",
        "        if(idx<100)\n",
        "        {\n",
        "            arr[idx++]=o;\n",
        "        }\n",
        "    }\n",
        "    Tipo getXPos(int p){\n",
        "        return arr[p];\n",
        "    }\n",
        "};\n",
        "int main(){\n",
        "    Arreglo<Enemigo> enemigos;\n",
        "    Arreglo<Bala> pistola;\n",
        "    Arreglo<Mapa> atlas;\n",
        "    Arreglo<Celular> celulares;\n",
        "    Arreglo<int> enteros;\n",
        "    pistola.insertar(Bala());\n",
        "    celulares.insertar(Celular());\n",
        "    for(size_t i=0; i<10; ++i)\n",
        "        enteros.insertar(i);\n",
        "    //Mostrar\n",
        "    cout<<pistola.getXPos(0).getMaterial()<<endl;\n",
        "    cout<<celulares.getXPos(0).marca<<endl;\n",
        "    for(size_t i=0; i<10; ++i)\n",
        "        cout<<enteros.getXPos(i)<<\" \";\n",
        "    return 0;\n",
        "}"
      ],
      "execution_count": 48,
      "outputs": [
        {
          "output_type": "stream",
          "text": [
            "Overwriting miniproyecto.cpp\n"
          ],
          "name": "stdout"
        }
      ]
    },
    {
      "cell_type": "code",
      "metadata": {
        "colab": {
          "base_uri": "https://localhost:8080/"
        },
        "id": "8e48pSfSSOBY",
        "outputId": "8e444217-b8d5-4949-da36-1d5af66a0883"
      },
      "source": [
        "!g++ miniproyecto.cpp && ./a.out"
      ],
      "execution_count": 49,
      "outputs": [
        {
          "output_type": "stream",
          "text": [
            "plomo\n",
            "Samsung\n",
            "0 1 2 3 4 5 6 7 8 9 "
          ],
          "name": "stdout"
        }
      ]
    },
    {
      "cell_type": "markdown",
      "metadata": {
        "id": "OgJyEno9YOAh"
      },
      "source": [
        "###Ejemplo TA1"
      ]
    },
    {
      "cell_type": "code",
      "metadata": {
        "id": "TWrksy5iVK2g"
      },
      "source": [
        "%%writefile struct.cpp\n",
        "struct SPersona{\n",
        "    string nombre; //los atributos son por defecto publico\n",
        "};\n",
        "void setNombre(Persona p, string n){p.nombre=n;}//la funciones son externas\n",
        "//###########################################\n",
        "class CPersona{\n",
        "    string nombre; //Atributos son por defecto privado;\n",
        "    public:\n",
        "    Persona(){}//es obligatorio un constructor por defecto\n",
        "    void setNombre (string n){nombre =n; }//los métodos son internos a  la clase\n",
        "};\n",
        "int main()\n",
        "{\n",
        "    SPersona sp1;\n",
        "    SPersona cp2;\n",
        "    return 0;\n",
        "}"
      ],
      "execution_count": null,
      "outputs": []
    },
    {
      "cell_type": "markdown",
      "metadata": {
        "id": "x5mxHhhEYUJf"
      },
      "source": [
        "###Ejemplo TA2"
      ]
    },
    {
      "cell_type": "code",
      "metadata": {
        "id": "sfl9qKCvXm-O"
      },
      "source": [
        "%%writefile prog1.cpp\n",
        "void ordenar(vector<int> v){//1\n",
        "  int aux=1; //1\n",
        "  for (int i=0; i<v.size()-1; i++){// 1+ (n-1)(1+ --- +2)+ 1\n",
        "    for (int j=i+1; j<v.size(); ++j){ // 2+n(1+ --- + 2)+  1\n",
        "        if(v[j]<v[i]){ //3 +(MAX IF, MAX ELSE)\n",
        "            aux=v[j]; // 2\n",
        "            v[j]=v[i];// 3\n",
        "            v[i]=aux; // 2\n",
        "        }\n",
        "    }  \n",
        "  }\n",
        "}\n",
        "//Calculo\n",
        "// 4+ (n-1)(6+n(13))\n",
        "4+(n-1)6 + 13n(n-1)\n",
        "4+6n-6+13n^2-13n\n",
        "13n^2-7n-2\n",
        "//detallado: 13n^2-7n-2\n",
        "//BigO=n^2"
      ],
      "execution_count": null,
      "outputs": []
    }
  ]
}