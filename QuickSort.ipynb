{
  "nbformat": 4,
  "nbformat_minor": 0,
  "metadata": {
    "colab": {
      "name": "QuickSort.ipynb",
      "provenance": [],
      "authorship_tag": "ABX9TyOy6s6bH8Pe1fJL6A8kpuLq",
      "include_colab_link": true
    },
    "kernelspec": {
      "name": "python3",
      "display_name": "Python 3"
    },
    "language_info": {
      "name": "python"
    }
  },
  "cells": [
    {
      "cell_type": "markdown",
      "metadata": {
        "id": "view-in-github",
        "colab_type": "text"
      },
      "source": [
        "<a href=\"https://colab.research.google.com/github/Abel123-afk/Sesion3_2021_2/blob/Sesionmain/QuickSort.ipynb\" target=\"_parent\"><img src=\"https://colab.research.google.com/assets/colab-badge.svg\" alt=\"Open In Colab\"/></a>"
      ]
    },
    {
      "cell_type": "code",
      "metadata": {
        "colab": {
          "base_uri": "https://localhost:8080/"
        },
        "id": "uhgAE2xDYasp",
        "outputId": "be877210-a99c-48ea-eca1-8dae2dcf36a5"
      },
      "source": [
        "%%writefile QuickSort.cpp\n",
        "#include<iostream>\n",
        "#include<ctime>\n",
        "#include<functional>\n",
        "using namespace std;\n",
        "typedef unsigned long long ull;\n",
        "\n",
        "template<class T>\n",
        "class Sorting\n",
        "{\n",
        "private:\n",
        "\tT* arr;\n",
        "\tsize_t n;\n",
        "\tfunction<bool(T,T)> filtrador;\n",
        "  void _sawp(T* a, T* b) {\n",
        "\t\tT aux = *a;\n",
        "\t\t*a = *b;\n",
        "\t\t*b = aux;\n",
        "  }\n",
        "public:\n",
        " Sorting(function<bool(T,T)> filtrador,T* arr = new T[10], size_t n = 10)\n",
        "\t\t:filtrador(filtrador),arr(arr),n(n){}\n",
        " ~Sorting(){\n",
        "\t\tdelete arr;\n",
        "\t\tn = NULL;\n",
        "\t}\n",
        " ull _sortquick(ull i, ull d, ull p){\n",
        "\t\twhile (!(d == p && i == p && d == i)) {\n",
        "\t\t\twhile (arr[d] >= arr[p] && i < d) {\n",
        "\t\t\t\t--d;\n",
        "\t\t\t}\n",
        "\t\t\t_sawp(&arr[d], &arr[p]);\n",
        "\t\t\tp = d;\n",
        "\t\t\twhile (arr[p] >= arr[i] && i < d) {\n",
        "\t\t\t\t++i;\n",
        "\t\t\t}\n",
        "\t\t\t_sawp(&arr[p], &arr[i]);\n",
        "\t\t\tp = i;\n",
        "\t\t}\n",
        "\t\treturn p;\n",
        "  }\n",
        " void _quicksort(ull i, ull d, ull p){\n",
        "\t\tif (d <= i) { return; }\n",
        "\t\tull index= _sortquick(i, d, p);\n",
        "\t\t_quicksort(i, index,p);\n",
        "\t\t_quicksort(index + 1, d,index+1);\n",
        "\t}\n",
        "\tvoid QuickSort(){\n",
        "\t\tull i = 0;\n",
        "\t\tull d = (n - 1);\n",
        "\t\tull p= (n / 2);\n",
        "\t\t_quicksort(i,d,p);\n",
        "\t}\n",
        "\tvoid print() {\n",
        "\t\tfor (size_t i = 0; i < n; i++)\n",
        "\t\t{\n",
        "\t\t\tcout << arr[i] << \" \";\n",
        "\t\t}\n",
        "    cout<<\"\\n\";\n",
        "\t}\n",
        "};\n",
        "int main()\n",
        "{\n",
        "    srand(time(NULL));\n",
        "    long n=16;\n",
        "    long*arr=new long[n];\n",
        "    for(int i=0; i<n; i++)\n",
        "    {\n",
        "        arr[i]=rand()%200+1;\n",
        "    }\n",
        "    Sorting<long>*ordenar=new Sorting<long>([](long a, long b)->bool{return a>b;},arr,n);\n",
        "    cout<<\"Arreglo Desordenado\\n\";\n",
        "    ordenar->print();\n",
        "    ordenar->QuickSort();\n",
        "    cout<<\"Arreglo Ordenado con QuickSort\\n\";\n",
        "    ordenar->print();\n",
        "    return 0;\n",
        "}"
      ],
      "execution_count": null,
      "outputs": [
        {
          "output_type": "stream",
          "name": "stdout",
          "text": [
            "Overwriting QuickSort.cpp\n"
          ]
        }
      ]
    },
    {
      "cell_type": "code",
      "metadata": {
        "colab": {
          "base_uri": "https://localhost:8080/"
        },
        "id": "0vbz2Ae9bdDS",
        "outputId": "7f91229e-3a08-4c8f-85e1-c5ae2a43d3a8"
      },
      "source": [
        "!g++ QuickSort.cpp && ./a.out"
      ],
      "execution_count": null,
      "outputs": [
        {
          "output_type": "stream",
          "name": "stdout",
          "text": [
            "Arreglo Desordenado\n",
            "24 58 58 40 191 109 141 15 20 14 162 9 161 26 6 142 \n",
            "Arreglo Ordenado con QuickSort\n",
            "6 14 15 20 40 9 24 26 58 58 109 141 142 161 162 191 \n"
          ]
        }
      ]
    },
    {
      "cell_type": "code",
      "metadata": {
        "id": "IgNeDRVGcIdf",
        "colab": {
          "base_uri": "https://localhost:8080/"
        },
        "outputId": "774fb28f-f6a4-4160-dafc-3fbd0be7aabc"
      },
      "source": [
        "%%writefile quickSelect.cpp\n",
        "#include<ctime>\n",
        "#include<iostream>\n",
        "using namespace std;\n",
        "\n",
        "typedef unsigned long long ull;\n",
        "template<class T>\n",
        "class Ordenamiento\n",
        "{\n",
        "private:\n",
        "\tdouble timeMerge;\n",
        "\tvoid _swap(T* a, T* b) {\n",
        "\t\tT aux = *a;\n",
        "\t\t*a = *b;\n",
        "\t\t*b = aux;\n",
        "\t}\n",
        "\tvoid merge(T* iz, T*der, T* numeros, ull n)\n",
        "\t{\n",
        "\t\tint i, j, k;\n",
        "\t\ti = j = k = 0;\n",
        "\t\twhile (i < n / 2 && j < n - n / 2)\n",
        "\t\t{\n",
        "\t\t\tif (iz[i] < der[j]) {\n",
        "\t\t\t\tnumeros[k] = iz[i];\n",
        "\t\t\t\ti++;\n",
        "\t\t\t\tk++;\n",
        "\t\t\t}\n",
        "\t\t\telse {\n",
        "\t\t\t\tnumeros[k] = der[j];\n",
        "\t\t\t\tj++;\n",
        "\t\t\t\tk++;\n",
        "\t\t\t}\n",
        "\t\t}\n",
        "\t\twhile (i < n / 2)\n",
        "\t\t{\n",
        "\t\t\tnumeros[k] = iz[i];\n",
        "\t\t\ti++;\n",
        "\t\t\tk++;\n",
        "\t\t}\n",
        "\t\twhile (j < n - n / 2)\n",
        "\t\t{\n",
        "\t\t\tnumeros[k] = der[j];\n",
        "\t\t\tj++;\n",
        "\t\t\tk++;\n",
        "\t\t}\n",
        "\t}\n",
        "\n",
        "\tull partition(T* A, ull left, ull right) {\n",
        "\t\tT pivote = A[right];\n",
        "\t\tull i = left - 1; //indice de los menores\n",
        "\t\tfor (ull j = left; j < right; j++) {\n",
        "\t\t\tif (A[j] <= pivote) {\n",
        "\t\t\t\ti++;\n",
        "\t\t\t\t_swap(&A[i], &A[j]);\n",
        "\t\t\t}\n",
        "\t\t}\n",
        "\t\t_swap(&A[i + 1], &A[right]);\n",
        "\t\treturn i + 1;\n",
        "\t}\n",
        "public:\n",
        "\tOrdenamiento() {\n",
        "\t\ttimeMerge = 0;\n",
        "\t}\n",
        "\t~Ordenamiento() {}\n",
        "\tT quickSelect(T* A, ull p, ull r, ull k) {\n",
        "\t\tif (p == r) return A[p];\n",
        "\t\t//indice del pivote con A ordenado Izq(Menores) Der(Mayores) al pivote\n",
        "\t\tull q = partition(A, p, r);\n",
        "\t\tull l = q - p + 1; //nro elementos del sub arreglo donde se encuentra el kesimo elemento\n",
        "\t\tif (k == l)\n",
        "\t\t\treturn A[q];\n",
        "\t\telse if (k < l) {\n",
        "\t\t\treturn quickSelect(A, p, q - 1, k);\n",
        "\t\t}\n",
        "\t\telse {\n",
        "\t\t\treturn quickSelect(A, p, q, k - l);\n",
        "\t\t}\n",
        "\t}\n",
        "\tvoid MergeSort(T* A, int n)\n",
        "\t{\n",
        "\t\tclock_t inicio = clock();\n",
        "\t\tif (n > 1)\n",
        "\t\t{\n",
        "\t\t\tT* izq = new T[n / 2];\n",
        "\t\t\tT* der = new T[n - n / 2];\n",
        "\t\t\tfor (int i = 0; i < n / 2; i++)\n",
        "\t\t\t{\n",
        "\t\t\t\tizq[i] = A[i];\n",
        "\t\t\t}\n",
        "\t\t\tfor (int j = n / 2; j < n; j++)\n",
        "\t\t\t{\n",
        "\t\t\t\tder[j - n / 2] = A[j];\n",
        "\t\t\t}\n",
        "\t\t\tMergeSort(izq, n / 2);\n",
        "\t\t\tMergeSort(der, n - n / 2);\n",
        "\t\t\tmerge(izq, der, A, n);\n",
        "\t\t}\n",
        "\t\tclock_t fin = clock();\n",
        "\t\ttimeMerge = (fin - inicio) / CLOCKS_PER_SEC;\n",
        "\t}\n",
        "\tdouble getTimeMerge()\n",
        "\t{\n",
        "\t\treturn timeMerge;\n",
        "\t}\n",
        "\tvoid print(T *arr, ull n) {\n",
        "\t\tfor (size_t i = 0; i < n; i++)\n",
        "\t\t{\n",
        "\t\t\tcout << arr[i] << \" \";\n",
        "\t\t}\n",
        "\t\tcout << endl;\n",
        "\t}\n",
        "};\n",
        "int main()\n",
        "{\n",
        "\tsrand(time(NULL));\n",
        " \n",
        "\tint n = 10;\n",
        "\tint* arreglo = new int[n];\n",
        "\tOrdenamiento<int> ord = Ordenamiento<int>();\n",
        " //Comienza el test\n",
        "\t\tfor (int i = 0; i < n; i++)\n",
        "\t\t{\n",
        "\t\t\tarreglo[i] = rand() % 200 + rand() % 50;\n",
        "\t\t}\n",
        "\t\tfor (int i = 0; i < n; i++) {\n",
        "\t\t\tcout << arreglo[i] << \" \";\n",
        "\t\t}\n",
        "\t\tcout << endl;\n",
        "    //el kesimo menor elemento del arreglo\n",
        "\t\tint k = rand()%(n-2)+1; \n",
        "\t\t//int k=7;\n",
        "    int e = ord.quickSelect(arreglo, 0, n - 1, k);\n",
        "\t\tord.print(arreglo, n);\n",
        "\t\tcout << \"\\nEl menor k-esimo elemento (k= \" << k << \" ) es: \" << e << '\\n';\n",
        "    cout<<\"\\nOrdenado por MergeSort\\n\";\n",
        "    ord.MergeSort(arreglo, n);\n",
        "\t\tord.print(arreglo, n);\n",
        "\t\n",
        "\treturn 0;\n",
        "}"
      ],
      "execution_count": null,
      "outputs": [
        {
          "output_type": "stream",
          "name": "stdout",
          "text": [
            "Overwriting quickSelect.cpp\n"
          ]
        }
      ]
    },
    {
      "cell_type": "code",
      "metadata": {
        "colab": {
          "base_uri": "https://localhost:8080/"
        },
        "id": "uYKJ8aUdCh-y",
        "outputId": "6a841a0c-9218-48ce-cac0-e3eb0c4bc768"
      },
      "source": [
        "!g++ quickSelect.cpp && ./a.out"
      ],
      "execution_count": null,
      "outputs": [
        {
          "output_type": "stream",
          "name": "stdout",
          "text": [
            "34 96 204 146 158 117 105 130 140 33 \n",
            "33 96 204 146 158 117 105 130 140 34 \n",
            "\n",
            "El menor k-esimo elemento (k= 4 ) es: 33\n",
            "\n",
            "Ordenado por MergeSort\n",
            "33 34 96 105 117 130 140 146 158 204 \n"
          ]
        }
      ]
    },
    {
      "cell_type": "code",
      "metadata": {
        "id": "co1-8Ot1Cn56"
      },
      "source": [
        ""
      ],
      "execution_count": null,
      "outputs": []
    }
  ]
}