{
  "nbformat": 4,
  "nbformat_minor": 0,
  "metadata": {
    "colab": {
      "name": "Untitled2.ipynb",
      "provenance": [],
      "authorship_tag": "ABX9TyPtdL3WBsrfhPNIOrdSCZK5",
      "include_colab_link": true
    },
    "kernelspec": {
      "name": "python3",
      "display_name": "Python 3"
    },
    "language_info": {
      "name": "python"
    }
  },
  "cells": [
    {
      "cell_type": "markdown",
      "metadata": {
        "id": "view-in-github",
        "colab_type": "text"
      },
      "source": [
        "<a href=\"https://colab.research.google.com/github/Abel123-afk/Sesion3_2021_2/blob/Sesionmain/Untitled2.ipynb\" target=\"_parent\"><img src=\"https://colab.research.google.com/assets/colab-badge.svg\" alt=\"Open In Colab\"/></a>"
      ]
    },
    {
      "cell_type": "markdown",
      "metadata": {
        "id": "-JRsJbbZVHOW"
      },
      "source": [
        "#Temario\n",
        "\n",
        "*   Recursividad\n",
        "*   Listas\n",
        "\n"
      ]
    },
    {
      "cell_type": "markdown",
      "metadata": {
        "id": "D0Y6mx3JVRHJ"
      },
      "source": [
        "##Recursividad"
      ]
    },
    {
      "cell_type": "code",
      "metadata": {
        "colab": {
          "base_uri": "https://localhost:8080/"
        },
        "id": "CnH5iIQoQxG3",
        "outputId": "03e4e9d1-9cfb-44b0-ef31-edd3bf43bbf3"
      },
      "source": [
        "#1,2,3,4,5,6,7,8,...........n\n",
        "#n-n+1 ,                 n-3, n-2,n-1,n\n",
        "%%writefile recursividad.cpp\n",
        "//De ida\n",
        "#include<iostream>\n",
        "using namespace std;\n",
        "void funcion(int n){\n",
        "    \n",
        "    if(n>0){\n",
        "        cout<<n<<\" \";\n",
        "        funcion(n-1);\n",
        "    }\n",
        "}\n",
        "int main(){\n",
        "    funcion(5);\n",
        "    return 0;\n",
        "}"
      ],
      "execution_count": null,
      "outputs": [
        {
          "output_type": "stream",
          "name": "stdout",
          "text": [
            "Overwriting recursividad.cpp\n"
          ]
        }
      ]
    },
    {
      "cell_type": "code",
      "metadata": {
        "colab": {
          "base_uri": "https://localhost:8080/"
        },
        "id": "NTIr8-NPQ3zo",
        "outputId": "da16e548-e228-4299-a871-66610fb35fea"
      },
      "source": [
        "!g++ recursividad.cpp && ./a.out"
      ],
      "execution_count": null,
      "outputs": [
        {
          "output_type": "stream",
          "name": "stdout",
          "text": [
            "5 4 3 2 1 "
          ]
        }
      ]
    },
    {
      "cell_type": "code",
      "metadata": {
        "colab": {
          "base_uri": "https://localhost:8080/"
        },
        "id": "RwSEGnXoSsEC",
        "outputId": "9d9c64df-f075-40cd-8bf2-c7d2d74dab29"
      },
      "source": [
        "%%writefile recursividad.cpp\n",
        "//Ida y Vuelta\n",
        "#include<iostream>\n",
        "using namespace std;\n",
        "void funcion(int n){\n",
        "    \n",
        "    if(n>0){\n",
        "        cout<<n<<\"-I, \";\n",
        "        funcion(n-1);\n",
        "        cout<<n<<\"-V, \";\n",
        "    }\n",
        "}\n",
        "int main(){\n",
        "    funcion(5);\n",
        "    return 0;\n",
        "}"
      ],
      "execution_count": null,
      "outputs": [
        {
          "output_type": "stream",
          "name": "stdout",
          "text": [
            "Overwriting recursividad.cpp\n"
          ]
        }
      ]
    },
    {
      "cell_type": "code",
      "metadata": {
        "colab": {
          "base_uri": "https://localhost:8080/"
        },
        "id": "FbpexxRpSyMM",
        "outputId": "17cd05fc-95c0-4f94-dae7-fe99ea3f9e85"
      },
      "source": [
        "!g++ recursividad.cpp && ./a.out"
      ],
      "execution_count": null,
      "outputs": [
        {
          "output_type": "stream",
          "name": "stdout",
          "text": [
            "5-I, 4-I, 3-I, 2-I, 1-I, 1-V, 2-V, 3-V, 4-V, 5-V, "
          ]
        }
      ]
    },
    {
      "cell_type": "markdown",
      "metadata": {
        "id": "64pdw1GNX6M_"
      },
      "source": [
        "##Sumatoria de números"
      ]
    },
    {
      "cell_type": "code",
      "metadata": {
        "colab": {
          "base_uri": "https://localhost:8080/"
        },
        "id": "AEQAxHTKX5G1",
        "outputId": "bdec4a23-dab2-436d-e034-9406ccbea8c6"
      },
      "source": [
        "%%writefile sumaRecursivo.cpp\n",
        "#include<iostream>\n",
        "using namespace std;\n",
        "int Suma(int n)\n",
        "{\n",
        "    //criterio de parada\n",
        "    if(n==1)\n",
        "      return 1;\n",
        "    else return Suma(n-1)+n;\n",
        "}\n",
        "int main(){\n",
        "    cout<<\"La suma es: \"<<Suma(5);\n",
        "    return 0;\n",
        "}"
      ],
      "execution_count": null,
      "outputs": [
        {
          "output_type": "stream",
          "name": "stdout",
          "text": [
            "Overwriting sumaRecursivo.cpp\n"
          ]
        }
      ]
    },
    {
      "cell_type": "code",
      "metadata": {
        "colab": {
          "base_uri": "https://localhost:8080/"
        },
        "id": "jFAQ7z5fZXgw",
        "outputId": "b46a6961-ce2a-4aad-a8e8-aa34efeea21b"
      },
      "source": [
        "!g++ sumaRecursivo.cpp &&./a.out"
      ],
      "execution_count": null,
      "outputs": [
        {
          "output_type": "stream",
          "name": "stdout",
          "text": [
            "La suma es: 15"
          ]
        }
      ]
    },
    {
      "cell_type": "markdown",
      "metadata": {
        "id": "ihNhXSZTfuJa"
      },
      "source": [
        "##Factorial Recursivo"
      ]
    },
    {
      "cell_type": "code",
      "metadata": {
        "colab": {
          "base_uri": "https://localhost:8080/"
        },
        "id": "SL8C-vUffxCI",
        "outputId": "ef1ca127-6f96-4d88-b22a-d05a8e9b0690"
      },
      "source": [
        "%%writefile factorial.cpp\n",
        "#include<iostream>\n",
        "using std::cout;\n",
        "using std::endl;\n",
        "int funcion(int n)\n",
        "{\n",
        "  if(n==1) return 1;\n",
        " else return funcion(n-1)*(n);    \n",
        "}\n",
        "int funcion2(int n)\n",
        "{\n",
        "    if(n>1)\n",
        "     return funcion2(n-1)*n;    \n",
        " }\n",
        "int main(){\n",
        "    cout<<\"El factorial es: \"<<funcion(6)<<endl;\n",
        "    cout<<\"El factorial es: \"<<funcion2(6);\n",
        "    return 0;\n",
        "}"
      ],
      "execution_count": null,
      "outputs": [
        {
          "output_type": "stream",
          "name": "stdout",
          "text": [
            "Overwriting factorial.cpp\n"
          ]
        }
      ]
    },
    {
      "cell_type": "code",
      "metadata": {
        "colab": {
          "base_uri": "https://localhost:8080/"
        },
        "id": "HZGqMIWCf1EQ",
        "outputId": "1b7f5571-4532-409e-8e62-279290d8316a"
      },
      "source": [
        "!g++ factorial.cpp && ./a.out"
      ],
      "execution_count": null,
      "outputs": [
        {
          "output_type": "stream",
          "name": "stdout",
          "text": [
            "El factorial es: 720\n",
            "El factorial es: 720"
          ]
        }
      ]
    },
    {
      "cell_type": "code",
      "metadata": {
        "colab": {
          "base_uri": "https://localhost:8080/"
        },
        "id": "nX0BgEbwhjIl",
        "outputId": "6864cef6-6527-4973-de4b-c861b37bc259"
      },
      "source": [
        "%%writefile impresionFactorial.cpp\n",
        "#include<iostream>\n",
        "using namespace std;\n",
        "int funcion2(int n)\n",
        "{\n",
        "    if(n==1){\n",
        "        cout<<n<<\"=\";\n",
        "        return 1;\n",
        "    }\n",
        "    else{\n",
        "        cout<<n<<\"*\";\n",
        "         return funcion2(n-1)*n;\n",
        "    }\n",
        "        \n",
        " }\n",
        " int main(){\n",
        "    cout<<\"El factorial es: \"<<funcion2(6);\n",
        "    return 0;\n",
        "}"
      ],
      "execution_count": null,
      "outputs": [
        {
          "output_type": "stream",
          "name": "stdout",
          "text": [
            "Overwriting impresionFactorial.cpp\n"
          ]
        }
      ]
    },
    {
      "cell_type": "code",
      "metadata": {
        "colab": {
          "base_uri": "https://localhost:8080/"
        },
        "id": "UaM3mvxdhort",
        "outputId": "4804c363-81a0-4b03-f843-daef3e3d2ecb"
      },
      "source": [
        "!g++ impresionFactorial.cpp && ./a.out"
      ],
      "execution_count": null,
      "outputs": [
        {
          "output_type": "stream",
          "name": "stdout",
          "text": [
            "El factorial es: 6*5*4*3*2*1=720"
          ]
        }
      ]
    },
    {
      "cell_type": "markdown",
      "metadata": {
        "id": "oBLpi3VUjuE3"
      },
      "source": [
        "##Ejercicio de una PC1"
      ]
    },
    {
      "cell_type": "code",
      "metadata": {
        "colab": {
          "base_uri": "https://localhost:8080/"
        },
        "id": "sz14xBXMjx0w",
        "outputId": "dda3c260-6617-4b0c-a877-67d72740ba2b"
      },
      "source": [
        "%%writefile vectores.cpp\n",
        "#include<vector>\n",
        "#include<algorithm>\n",
        "#include<iostream>\n",
        "#include<cstdlib>\n",
        "using namespace std;\n",
        "vector<int>enteros;\n",
        "void generar(size_t i){\n",
        "    if(i==0) return;\n",
        "    generar(i-1);\n",
        "    enteros.push_back(rand()%200);\n",
        "}\n",
        "void mostrar(){\n",
        "    for(size_t i=0; i<enteros.size(); i++)\n",
        "    {\n",
        "        cout<<enteros[i]<<\" \";\n",
        "    }\n",
        "}\n",
        "void mostrarR(size_t i){\n",
        "  if(i==-1) return;\n",
        "    mostrarR(i-1);\n",
        "    cout<<enteros[i]<<\" \";\n",
        "}\n",
        "int main(){\n",
        "    generar(20);\n",
        "    sort(enteros.begin(),enteros.end(),[](int a, int b){return a>b;});\n",
        "    mostrar();\n",
        "    cout<<\"Mostrar recursivo\"<<endl;\n",
        "    mostrarR(enteros.size()-1);\n",
        "    return 0;\n",
        "}"
      ],
      "execution_count": null,
      "outputs": [
        {
          "output_type": "stream",
          "name": "stdout",
          "text": [
            "Overwriting vectores.cpp\n"
          ]
        }
      ]
    },
    {
      "cell_type": "code",
      "metadata": {
        "colab": {
          "base_uri": "https://localhost:8080/"
        },
        "id": "gaRWmrQek2rA",
        "outputId": "340426bb-e754-4e98-d558-f29fa771be46"
      },
      "source": [
        "!g++ vectores.cpp && ./a.out"
      ],
      "execution_count": null,
      "outputs": [
        {
          "output_type": "stream",
          "name": "stdout",
          "text": [
            "193 186 183 177 172 163 162 140 136 135 126 115 92 90 86 59 49 27 26 21 Mostrar recursivo\n",
            "193 186 183 177 172 163 162 140 136 135 126 115 92 90 86 59 49 27 26 21 "
          ]
        }
      ]
    },
    {
      "cell_type": "markdown",
      "metadata": {
        "id": "kNCE6Q52nmYT"
      },
      "source": [
        "##Fibonacci Recursivo"
      ]
    },
    {
      "cell_type": "code",
      "metadata": {
        "colab": {
          "base_uri": "https://localhost:8080/"
        },
        "id": "ZihFGJ_fnpHe",
        "outputId": "94c5ffd6-07fa-4163-b541-79c3290ebb7d"
      },
      "source": [
        "%%writefile fibonacci.cpp\n",
        "#include<iostream>\n",
        "using namespace std;\n",
        "int fibo(int n)\n",
        "{\n",
        "    if(n==0) return 0;\n",
        "    if(n==1) return 1;\n",
        "    else\n",
        "        return fibo(n-1)+fibo(n-2);\n",
        "}\n",
        "void serie(int n)\n",
        "{\n",
        "    if(n==0) return;\n",
        "    serie(n-1);\n",
        "    cout<<fibo(n)<<\", \";\n",
        "    \n",
        "    \n",
        " \n",
        "}\n",
        "int main()\n",
        "{\n",
        "    cout<<\"Fibonacci de 5: \"<<fibo(5)<<endl;\n",
        "    cout<<\"La serie fibonacci de 5 terminos\"<<endl;\n",
        "    serie (5);\n",
        "    cout<<\"\\b\";\n",
        "    return 0;\n",
        "}"
      ],
      "execution_count": null,
      "outputs": [
        {
          "output_type": "stream",
          "name": "stdout",
          "text": [
            "Overwriting fibonacci.cpp\n"
          ]
        }
      ]
    },
    {
      "cell_type": "code",
      "metadata": {
        "colab": {
          "base_uri": "https://localhost:8080/"
        },
        "id": "vBrGxdX0oZec",
        "outputId": "b2104c6b-0d85-457a-8939-2650db778bf0"
      },
      "source": [
        "!g++ fibonacci.cpp &&./a.out"
      ],
      "execution_count": null,
      "outputs": [
        {
          "output_type": "stream",
          "name": "stdout",
          "text": [
            "Fibonacci de 5: 5\n",
            "La serie fibonacci de 5 terminos\n",
            "1, 1, 2, 3, 5, \b"
          ]
        }
      ]
    },
    {
      "cell_type": "markdown",
      "metadata": {
        "id": "ztpVgCebQpyo"
      },
      "source": [
        "##Ejercicio 1\n",
        "De triangulo mediante recursividad"
      ]
    },
    {
      "cell_type": "code",
      "metadata": {
        "colab": {
          "base_uri": "https://localhost:8080/"
        },
        "id": "xxNKfo9cVUFp",
        "outputId": "4fb6e91a-52e5-4dcd-db20-5ef61663d5b4"
      },
      "source": [
        "#1,2,3,4,5,6,7,8,...........n\n",
        "#n-n+1 ,                 n-3, n-2,n-1,n\n",
        "%%writefile recursividadejercicio1.cpp\n",
        "#include<iostream>\n",
        "using namespace std;\n",
        "void funcion(int n){\n",
        "    \n",
        "    if(n>0){\n",
        "        cout<<\"*\";\n",
        "        funcion(n-1);\n",
        "    }\n",
        "}\n",
        "void fila(int n)\n",
        "{\n",
        "    funcion(n);\n",
        " cout<<\"\\n\";\n",
        "    if(n>0)\n",
        "    {\n",
        "        fila(n-1);\n",
        "    }\n",
        "    else return;\n",
        "}\n",
        "int main(){\n",
        "    //funcion(5);\n",
        "    fila(5);\n",
        "    return 0;\n",
        "}"
      ],
      "execution_count": null,
      "outputs": [
        {
          "output_type": "stream",
          "name": "stdout",
          "text": [
            "Overwriting recursividad.cpp\n"
          ]
        }
      ]
    },
    {
      "cell_type": "code",
      "metadata": {
        "colab": {
          "base_uri": "https://localhost:8080/"
        },
        "id": "OwuPMF5fYJ9p",
        "outputId": "f41c9edf-37a0-40f9-9e76-6f5ed510451c"
      },
      "source": [
        "!g++ recursividadejercicio1.cpp && ./a.out"
      ],
      "execution_count": null,
      "outputs": [
        {
          "output_type": "stream",
          "name": "stdout",
          "text": [
            "*****\n",
            "****\n",
            "***\n",
            "**\n",
            "*\n",
            "\n"
          ]
        }
      ]
    },
    {
      "cell_type": "markdown",
      "metadata": {
        "id": "Xw2qWURgrPYH"
      },
      "source": [
        "##Ejercicio 2\n",
        "Recortes de Tablones de madera"
      ]
    },
    {
      "cell_type": "code",
      "metadata": {
        "id": "gdBYqaSIrRh2"
      },
      "source": [
        ""
      ],
      "execution_count": null,
      "outputs": []
    },
    {
      "cell_type": "markdown",
      "metadata": {
        "id": "UZrMDb2WHSGt"
      },
      "source": [
        "#Listas\n",
        "* Lista con Enlace Simple"
      ]
    },
    {
      "cell_type": "markdown",
      "metadata": {
        "id": "reLAOD6PKhJN"
      },
      "source": [
        "##Arreglo"
      ]
    },
    {
      "cell_type": "code",
      "metadata": {
        "colab": {
          "base_uri": "https://localhost:8080/"
        },
        "id": "yHK5Sc4GH3Fq",
        "outputId": "c09dfef7-0844-456e-f629-800e00c9bf7f"
      },
      "source": [
        "%%writefile arreglo.cpp\n",
        "#include<iostream>\n",
        "using namespace std;\n",
        "int main(){\n",
        "    int a[1000];\n",
        "    //cout<<sizeof(a);\n",
        "    cout<<*(a+5)<<endl;\n",
        "    cout<<endl;\n",
        "    for (size_t i=0; i<100; i++)\n",
        "    {\n",
        "        cout<<&a[i]<<endl;\n",
        "    }\n",
        "}"
      ],
      "execution_count": 7,
      "outputs": [
        {
          "output_type": "stream",
          "name": "stdout",
          "text": [
            "Overwriting arreglo.cpp\n"
          ]
        }
      ]
    },
    {
      "cell_type": "code",
      "metadata": {
        "colab": {
          "base_uri": "https://localhost:8080/"
        },
        "id": "taBDhPLQIN__",
        "outputId": "2681e960-47ee-4027-a578-c569f54da55e"
      },
      "source": [
        "!g++ arreglo.cpp && ./a.out"
      ],
      "execution_count": 9,
      "outputs": [
        {
          "output_type": "stream",
          "name": "stdout",
          "text": [
            "32566\n",
            "\n",
            "0x7ffe4bf01e90\n",
            "0x7ffe4bf01e94\n",
            "0x7ffe4bf01e98\n",
            "0x7ffe4bf01e9c\n",
            "0x7ffe4bf01ea0\n",
            "0x7ffe4bf01ea4\n",
            "0x7ffe4bf01ea8\n",
            "0x7ffe4bf01eac\n",
            "0x7ffe4bf01eb0\n",
            "0x7ffe4bf01eb4\n",
            "0x7ffe4bf01eb8\n",
            "0x7ffe4bf01ebc\n",
            "0x7ffe4bf01ec0\n",
            "0x7ffe4bf01ec4\n",
            "0x7ffe4bf01ec8\n",
            "0x7ffe4bf01ecc\n",
            "0x7ffe4bf01ed0\n",
            "0x7ffe4bf01ed4\n",
            "0x7ffe4bf01ed8\n",
            "0x7ffe4bf01edc\n",
            "0x7ffe4bf01ee0\n",
            "0x7ffe4bf01ee4\n",
            "0x7ffe4bf01ee8\n",
            "0x7ffe4bf01eec\n",
            "0x7ffe4bf01ef0\n",
            "0x7ffe4bf01ef4\n",
            "0x7ffe4bf01ef8\n",
            "0x7ffe4bf01efc\n",
            "0x7ffe4bf01f00\n",
            "0x7ffe4bf01f04\n",
            "0x7ffe4bf01f08\n",
            "0x7ffe4bf01f0c\n",
            "0x7ffe4bf01f10\n",
            "0x7ffe4bf01f14\n",
            "0x7ffe4bf01f18\n",
            "0x7ffe4bf01f1c\n",
            "0x7ffe4bf01f20\n",
            "0x7ffe4bf01f24\n",
            "0x7ffe4bf01f28\n",
            "0x7ffe4bf01f2c\n",
            "0x7ffe4bf01f30\n",
            "0x7ffe4bf01f34\n",
            "0x7ffe4bf01f38\n",
            "0x7ffe4bf01f3c\n",
            "0x7ffe4bf01f40\n",
            "0x7ffe4bf01f44\n",
            "0x7ffe4bf01f48\n",
            "0x7ffe4bf01f4c\n",
            "0x7ffe4bf01f50\n",
            "0x7ffe4bf01f54\n",
            "0x7ffe4bf01f58\n",
            "0x7ffe4bf01f5c\n",
            "0x7ffe4bf01f60\n",
            "0x7ffe4bf01f64\n",
            "0x7ffe4bf01f68\n",
            "0x7ffe4bf01f6c\n",
            "0x7ffe4bf01f70\n",
            "0x7ffe4bf01f74\n",
            "0x7ffe4bf01f78\n",
            "0x7ffe4bf01f7c\n",
            "0x7ffe4bf01f80\n",
            "0x7ffe4bf01f84\n",
            "0x7ffe4bf01f88\n",
            "0x7ffe4bf01f8c\n",
            "0x7ffe4bf01f90\n",
            "0x7ffe4bf01f94\n",
            "0x7ffe4bf01f98\n",
            "0x7ffe4bf01f9c\n",
            "0x7ffe4bf01fa0\n",
            "0x7ffe4bf01fa4\n",
            "0x7ffe4bf01fa8\n",
            "0x7ffe4bf01fac\n",
            "0x7ffe4bf01fb0\n",
            "0x7ffe4bf01fb4\n",
            "0x7ffe4bf01fb8\n",
            "0x7ffe4bf01fbc\n",
            "0x7ffe4bf01fc0\n",
            "0x7ffe4bf01fc4\n",
            "0x7ffe4bf01fc8\n",
            "0x7ffe4bf01fcc\n",
            "0x7ffe4bf01fd0\n",
            "0x7ffe4bf01fd4\n",
            "0x7ffe4bf01fd8\n",
            "0x7ffe4bf01fdc\n",
            "0x7ffe4bf01fe0\n",
            "0x7ffe4bf01fe4\n",
            "0x7ffe4bf01fe8\n",
            "0x7ffe4bf01fec\n",
            "0x7ffe4bf01ff0\n",
            "0x7ffe4bf01ff4\n",
            "0x7ffe4bf01ff8\n",
            "0x7ffe4bf01ffc\n",
            "0x7ffe4bf02000\n",
            "0x7ffe4bf02004\n",
            "0x7ffe4bf02008\n",
            "0x7ffe4bf0200c\n",
            "0x7ffe4bf02010\n",
            "0x7ffe4bf02014\n",
            "0x7ffe4bf02018\n",
            "0x7ffe4bf0201c\n"
          ]
        }
      ]
    },
    {
      "cell_type": "markdown",
      "metadata": {
        "id": "RQhSnG1XKd_h"
      },
      "source": [
        "#Listas"
      ]
    },
    {
      "cell_type": "code",
      "metadata": {
        "colab": {
          "base_uri": "https://localhost:8080/"
        },
        "id": "Gu2udjqFKkb_",
        "outputId": "4fd7204e-bd4f-4bc3-aa92-8c05aefd3f8c"
      },
      "source": [
        "%%writefile lista.cpp\n",
        "#include <iostream>\n",
        "#include <string>\n",
        "using namespace std;\n",
        "struct Nodo{\n",
        "    string nombre;\n",
        "    Nodo*siguiente;\n",
        "    Nodo(string nombre=\" \", Nodo*siguiente=nullptr){\n",
        "        this->nombre=nombre;\n",
        "        this->siguiente=siguiente;\n",
        "    }\n",
        "};\n",
        "int main(){\n",
        "    //Creación de los vagones\n",
        "    Nodo* v1=new Nodo(\"Abel\");\n",
        "    Nodo* v2=new Nodo(\"Abelardo\");\n",
        "    Nodo* v3=new Nodo(\"Miguel\");\n",
        "    Nodo* v4=new Nodo(\"Ana\");\n",
        "    Nodo* v5=new Nodo(\"Sofia\");\n",
        "    //enlazamos\n",
        "    v1->siguiente=v2;\n",
        "    v2->siguiente=v3;\n",
        "    v3->siguiente=v4;\n",
        "    v4->siguiente=v5;\n",
        "    //Visualización\n",
        "    cout<<v1->siguiente->siguiente->nombre<<endl;\n",
        "    return 0;\n",
        "}"
      ],
      "execution_count": 12,
      "outputs": [
        {
          "output_type": "stream",
          "name": "stdout",
          "text": [
            "Overwriting lista.cpp\n"
          ]
        }
      ]
    },
    {
      "cell_type": "code",
      "metadata": {
        "colab": {
          "base_uri": "https://localhost:8080/"
        },
        "id": "WqdILAJ3Nrgj",
        "outputId": "fbfcb880-44d9-4a09-dbc5-e9f913711ea2"
      },
      "source": [
        "!g++ lista.cpp && ./a.out"
      ],
      "execution_count": 13,
      "outputs": [
        {
          "output_type": "stream",
          "name": "stdout",
          "text": [
            "Miguel\n"
          ]
        }
      ]
    },
    {
      "cell_type": "code",
      "metadata": {
        "id": "100K5sAkR8AY"
      },
      "source": [
        "%%writefile listav2.cpp\n",
        "#include <iostream>\n",
        "#include <string>\n",
        "using namespace std;\n",
        "struct Vagon{\n",
        "    string nombre;\n",
        "    Vagon*siguiente;\n",
        "    Vagon(string nombre=\" \", Vagon*siguiente=nullptr){\n",
        "        this->nombre=nombre;\n",
        "        this->siguiente=siguiente;\n",
        "    }\n",
        "};\n",
        "struct Tren{\n",
        "    vagon*inicio;\n",
        "    long cantidad;\n",
        "    Tren(){\n",
        "        inicio=nullptr;\n",
        "        cantidad=0;\n",
        "    }\n",
        "    //insertar al final\n",
        "    void agregar(Vagon *v){\n",
        "        //0 elemento\n",
        "        if(inicio==nullptr){\n",
        "            inicio=v;\n",
        "        }\n",
        "        //1 elementos\n",
        "        //else if(inicio->siguiente==nullptr){\n",
        "        //    inicio->siguiente=v;\n",
        "        //}\n",
        "        //1 a n elementos\n",
        "        else{\n",
        "            Vagon*auxiliar=inicio;\n",
        "             while(auxiliar->siguiente!=nullptr){\n",
        "                 auxiliar=auxiliar->siguiente;\n",
        "             }\n",
        "             auxiliar->siguiente=v;\n",
        "        }\n",
        "        cantidad++;\n",
        "    }\n",
        "\n",
        "    //insertar al inicio\n",
        "    void insertarInicio(){}\n",
        "\n",
        "    //Insertar en Posición\n",
        "    void contar(){ //O(n)\n",
        "        if(inicio!=nullptr){\n",
        "            cantidad=1;\n",
        "            Vagon*auxiliar=inicio;\n",
        "            while(auxiliar->siguiente)\n",
        "        }\n",
        "    }\n",
        "    void insertarPos(int p, Vagon*v){\n",
        "      \n",
        "        //0\n",
        "        if(inicio==nullptr){\n",
        "            inicio=v;\n",
        "        }\n",
        "        else if(p>=0 && p<cantidad){\n",
        "            vagon*auxiliar=inicio;\n",
        "            for (size_t i=0; i<p; i++){\n",
        "                auxiliar=auxiliar->siguiente;\n",
        "            }\n",
        "            v->siguiente=auxiliar->siguiente;\n",
        "            auxiliar->siguiente=v;\n",
        "        }\n",
        "        cantidad++;\n",
        "    }\n",
        "    void mostrar(){\n",
        "        Vagon*auxiliar=inicio;\n",
        "        while( auxiliar){\n",
        "            cout<<auxiliar;\n",
        "        }\n",
        "    }\n",
        "    //recuperar, eliminar, buscar, ordenar, invertir, eliminarTodo, etc;\n",
        "\n",
        "};\n",
        "int main(){\n",
        "    //Tren\n",
        "      Tren t1;\n",
        "      t1.insertar(new Vagon(\"Abel\"));\n",
        "      t1.insertar(new Vagon(\"Abelardo\"));\n",
        "      t1.insertar(new Vagon(\"Abel\"));\n",
        "      t1.mostrar();\n",
        "    return 0;\n",
        "}"
      ],
      "execution_count": null,
      "outputs": []
    },
    {
      "cell_type": "code",
      "metadata": {
        "id": "l96QdXBNhISn"
      },
      "source": [
        "%%writefile listav2.cpp\n",
        "\n",
        "#include <iostream>\n",
        "\n",
        "#include <string>\n",
        "\n",
        "using namespace std;\n",
        "\n",
        "struct Vagon{\n",
        "\n",
        "  string nombre;\n",
        "\n",
        "  Vagon* siguiente;  \n",
        "\n",
        "  Vagon(string nombre=\" \",Vagon* siguiente=nullptr){\n",
        "\n",
        "      this->nombre=nombre;\n",
        "\n",
        "      this->siguiente=siguiente;\n",
        "\n",
        "  }\n",
        "\n",
        "};\n",
        "\n",
        "struct Tren{\n",
        "\n",
        "    Vagon* inicio;\n",
        "\n",
        "    long cantidad;\n",
        "\n",
        "    Tren(){\n",
        "\n",
        "        inicio=nullptr;\n",
        "\n",
        "        cantidad=0;\n",
        "\n",
        "    }\n",
        "\n",
        "    void agregar(Vagon* v){\n",
        "\n",
        "        //0 elementos\n",
        "\n",
        "        if(inicio==nullptr)\n",
        "\n",
        "          inicio=v;\n",
        "\n",
        "        //1 a n elementos        \n",
        "\n",
        "        else{\n",
        "\n",
        "            Vagon *auxiliar = inicio;\n",
        "\n",
        "            while(auxiliar->siguiente != nullptr){\n",
        "\n",
        "                auxiliar = auxiliar->siguiente;\n",
        "\n",
        "            }\n",
        "\n",
        "            auxiliar->siguiente = v;\n",
        "\n",
        "        }\n",
        "\n",
        "        cantidad++;        \n",
        "\n",
        "    }\n",
        "\n",
        "    void contar(){//O(n)\n",
        "\n",
        "        if (inicio != nullptr){\n",
        "\n",
        "                cantidad = 1;\n",
        "\n",
        "                Vagon *auxiliar = inicio;\n",
        "\n",
        "                while(auxiliar->siguiente != nullptr){\n",
        "\n",
        "                auxiliar = auxiliar->siguiente;\n",
        "\n",
        "                cantidad++;\n",
        "\n",
        "                }\n",
        "\n",
        "            }\n",
        "\n",
        "    }\n",
        "\n",
        "    void insertarPos(unsigned int p, Vagon *v){\n",
        "\n",
        "        //0\n",
        "\n",
        "        if (inicio == nullptr){\n",
        "\n",
        "            inicio = v;\n",
        "\n",
        "        }\n",
        "\n",
        "        //1 a n\n",
        "\n",
        "        else if (p >= 0 && p < cantidad)\n",
        "\n",
        "        { \n",
        "\n",
        "            Vagon *auxiliar = inicio;\n",
        "\n",
        "            for (size_t i = 0; i < p; ++i){\n",
        "\n",
        "                auxiliar = auxiliar->siguiente;\n",
        "\n",
        "            }\n",
        "\n",
        "           v->siguiente = auxiliar->siguiente;\n",
        "\n",
        "           auxiliar->siguiente = v;\n",
        "\n",
        "        }\n",
        "\n",
        "        cantidad++;\n",
        "\n",
        "    }\n",
        "\n",
        "    void mostrar(){\n",
        "\n",
        "        Vagon *auxiliar = inicio;\n",
        "\n",
        "        while (auxiliar!=nullptr){\n",
        "\n",
        "            cout<<auxiliar->nombre<<\" \";\n",
        "\n",
        "               auxiliar = auxiliar->siguiente;\n",
        "\n",
        "         }       \n",
        "\n",
        "    }\n",
        "\n",
        "\n",
        "\n",
        "    //insertar al final\n",
        "\n",
        "    void insertarInicio(){}//insertar al final\n",
        "\n",
        "        //recuperar, eliminar, buscar, ordenar, invertir,eliminarTodo,etc\n",
        "\n",
        "    \n",
        "\n",
        "};\n",
        "\n",
        "int main(){\n",
        "\n",
        "    //creación de los vagones\n",
        "\n",
        "    Tren t1;\n",
        "\n",
        "    t1.agregar(new Vagon(\"Abel\"));\n",
        "\n",
        "    t1.agregar(new Vagon(\"Abelardo\"));\n",
        "\n",
        "    t1.agregar(new Vagon(\"Miguel\"));\n",
        "\n",
        "    t1.agregar(new Vagon(\"Anan\"));\n",
        "\n",
        "    t1.agregar(new Vagon(\"Sofia\"));\n",
        "\n",
        "    t1.agregar(new Vagon(\"Silvia\"));\n",
        "\n",
        "    t1.mostrar();\n",
        "\n",
        "return 0;\n",
        "\n",
        "}"
      ],
      "execution_count": null,
      "outputs": []
    }
  ]
}