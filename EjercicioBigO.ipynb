{
  "nbformat": 4,
  "nbformat_minor": 0,
  "metadata": {
    "colab": {
      "name": "EjercicioBigO.ipynb",
      "provenance": [],
      "collapsed_sections": [],
      "toc_visible": true,
      "include_colab_link": true
    },
    "kernelspec": {
      "name": "python3",
      "display_name": "Python 3"
    },
    "language_info": {
      "name": "python"
    }
  },
  "cells": [
    {
      "cell_type": "markdown",
      "metadata": {
        "id": "view-in-github",
        "colab_type": "text"
      },
      "source": [
        "<a href=\"https://colab.research.google.com/github/Abel123-afk/Sesion3_2021_2/blob/Sesionmain/EjercicioBigO.ipynb\" target=\"_parent\"><img src=\"https://colab.research.google.com/assets/colab-badge.svg\" alt=\"Open In Colab\"/></a>"
      ]
    },
    {
      "cell_type": "markdown",
      "metadata": {
        "id": "z38jjYVFyEWK"
      },
      "source": [
        "#Estructura de Datos y Algoritmos"
      ]
    },
    {
      "cell_type": "markdown",
      "metadata": {
        "id": "VbYE4LaSySqf"
      },
      "source": [
        "##Ejercicio 1\n",
        "####Suma y Promedio números"
      ]
    },
    {
      "cell_type": "code",
      "metadata": {
        "id": "i-pHTiteyQXP"
      },
      "source": [
        "int s=0; // 1\n",
        "double prom=0; //1\n",
        "for (int i=0; i<n; i++)// 1+n(1+...+2)+1\n",
        "{\n",
        "    s=s+A[i]; // 3\n",
        "    prom=s/(double)n;//3\n",
        "}\n",
        "printf(\"Suma;%d\\nProm:%d\",s,prom);//2\n",
        "-------------------------------------------------\n",
        "//1+1+1+n(1+6+2)+1+2\n",
        "//3+n(9)+3\n",
        "//9n+6\n",
        "//Tiempo detallado: 9n+6\n",
        "//Tiempo asintotico: O(n)"
      ],
      "execution_count": null,
      "outputs": []
    },
    {
      "cell_type": "markdown",
      "metadata": {
        "id": "ZqqCac9fz5Lh"
      },
      "source": [
        "Hallamos el tiempo detallado del ejercicio 1  \n",
        "Tiempo detallado: 9n+6  \n",
        "Tiempo asintótico: O(n)"
      ]
    },
    {
      "cell_type": "markdown",
      "metadata": {
        "id": "PAyBM4mA0Oq3"
      },
      "source": [
        "##Ejercicio 2\n",
        "Suma y Promedio de números"
      ]
    },
    {
      "cell_type": "code",
      "metadata": {
        "id": "ivVpkCnB0Gye"
      },
      "source": [
        "int s = 0; // 1\n",
        "double prom = 0; // 1\n",
        "for (int i = 0; i < n; i++) { // 1+n(1+...+2)+1\n",
        "s = s + A[i]; //3\n",
        "}\n",
        "prom = s / (double)n; // 3\n",
        "printf(\"Suma:%d\\nProm:%d\", s, prom); //2\n",
        "--------------------------------------------\n",
        "//1+1+1+n(1+3+2)+1+5\n",
        "//3+n(6)+6\n",
        "//6n+9"
      ],
      "execution_count": null,
      "outputs": []
    },
    {
      "cell_type": "markdown",
      "metadata": {
        "id": "Nhae0U6s2oA-"
      },
      "source": [
        "Tiempo detallado: 6n +9  \n",
        "Tiempo asintótico: O(n)"
      ]
    },
    {
      "cell_type": "markdown",
      "metadata": {
        "id": "wc2Vcjl624Sm"
      },
      "source": [
        "##Ejercicio 3\n",
        "Ordenamiento de N números del 1 al 100"
      ]
    },
    {
      "cell_type": "code",
      "metadata": {
        "id": "UTtPfFEN3MJO"
      },
      "source": [
        "for (int i = 0; i < n - 1; i++) {//1+ (n-1)(1+...+2)+1\n",
        "  for (int k = i + 1; k < n; k++) {//2+ n(1+...+2)+1\n",
        "    if (vec[i] > vec[k]) { //3+ (MAX IF, MAX ELSE)\n",
        "        int aux = vec[i]; //1+1+1=3\n",
        "        vec[i] = vec[k];//1+1+1=3\n",
        "        vec[k] = aux;//1+1=2\n",
        "      }\n",
        "  }\n",
        "}\n",
        "//Cálculo\n",
        "//1+ (n-1)(1+(2+ n(1+11+2)+1)+2)+1\n",
        "//2+ (n-1)(6+ n(14))\n",
        "//2+6n+14n^2-6-14n\n",
        "//14n^2-14n+6n-6+2\n",
        "//14n^2-8n-4"
      ],
      "execution_count": null,
      "outputs": []
    },
    {
      "cell_type": "markdown",
      "metadata": {
        "id": "mTr-Goe7DSOk"
      },
      "source": [
        "El tiempo detallado: 14n^2 - 8n -4  \n",
        "Tiempo asintótico: O(n^2)"
      ]
    },
    {
      "cell_type": "markdown",
      "metadata": {
        "id": "p1KGJsEJDgiF"
      },
      "source": [
        "##Ejercicio 4\n",
        "Ordenamiento de N números del 1 al 100"
      ]
    },
    {
      "cell_type": "code",
      "metadata": {
        "id": "u6guWM4cDR4d"
      },
      "source": [
        "int frec[101] = {0}; //101\n",
        "for (int i = 0; i < n; i++) {// 1+n(1+Interna+2)+1\n",
        "  frec[vec[i]]++;// frec[vec[i]]=frec[vec[i]]+1; //6\n",
        "}\n",
        "int pos = 0; //1\n",
        "for (int i = 0; i < 101; i++) {//1+(101)(1+Interna+2)+1\n",
        "  for (int k = 0; k < frec[i]; k++) {//asumimos frec[i]=101, 1+(101)(1+...+2)+1\n",
        "    vec[pos] = i;//2;\n",
        "    pos++;//2\n",
        "  }\n",
        "}\n",
        "\n",
        "//Cálculo\n",
        "//101+1+n(9)+1  + 1+1+(101)(1+709+2)+1 \n",
        "//106+9n+71912\n",
        "//9n+72018\n"
      ],
      "execution_count": null,
      "outputs": []
    },
    {
      "cell_type": "markdown",
      "metadata": {
        "id": "ngiyjidcM6po"
      },
      "source": [
        "Tiempo detallado: 9n+72018  \n",
        "Tiempo asintótico: O(n)"
      ]
    },
    {
      "cell_type": "markdown",
      "metadata": {
        "id": "hkUZKLHuNCy6"
      },
      "source": [
        "##Ejercicio 5\n",
        "Algoritmo raro-Infinito"
      ]
    },
    {
      "cell_type": "code",
      "metadata": {
        "id": "k7XvMV42NCNM"
      },
      "source": [
        "int i=0;//1\n",
        "int sum=0;//1\n",
        "while (i < 100) {//100(Interna)+1\n",
        "  if (i % 2 == 0) {//2 +MAX(IF, ELSE);\n",
        "    for (int k = 0; k < n; k++) {//1+n(1+...+2)+1\n",
        "        sum += vec[i];//3\n",
        "      }\n",
        "  }\n",
        "  else {\n",
        "    for (int k=0; k<i; k++) {//1+(100)(1+...+2)+1\n",
        "      sum += vec[i];//3\n",
        "    }\n",
        "  }\n",
        "}\n",
        "\n",
        "//Cálculo\n",
        "\n",
        "//100(2 +1+n(1+3+2)+1)+1+2\n",
        "//100(6n+4)+3\n",
        "//600n+403"
      ],
      "execution_count": null,
      "outputs": []
    },
    {
      "cell_type": "markdown",
      "metadata": {
        "id": "8E1fJ3QdSxxt"
      },
      "source": [
        "Tiempo detallado: 600n +403  \n",
        "Tiempo asintótico: O(n)"
      ]
    },
    {
      "cell_type": "code",
      "metadata": {
        "id": "tetyVl7qRk-o"
      },
      "source": [
        ""
      ],
      "execution_count": null,
      "outputs": []
    },
    {
      "cell_type": "markdown",
      "metadata": {
        "id": "njWJTDPrTCuP"
      },
      "source": [
        "##Ejercio 6\n",
        "Factorial"
      ]
    },
    {
      "cell_type": "code",
      "metadata": {
        "id": "XdalwDPUTjf_"
      },
      "source": [
        "int fact = 1;//1\n",
        "for (int i = 2; i < n; i++) {//1+n(1+Interna+2)+1\n",
        "  fact *= i;//2\n",
        "}\n",
        "printf(\"Factorial: %d\", fact);//1\n",
        "\n",
        "//Cálculo\n",
        "//(n)(1+Interna+2)+4\n",
        "//(n)(5)+4\n",
        "//(n)(5)+4\n",
        "//5n+4"
      ],
      "execution_count": null,
      "outputs": []
    },
    {
      "cell_type": "markdown",
      "metadata": {
        "id": "ZK7cukhuWo1Q"
      },
      "source": [
        "Tiempo detallado: 5n+4  \n",
        "Tiempo asintótico: O(n)"
      ]
    },
    {
      "cell_type": "markdown",
      "metadata": {
        "id": "Pwf6kCd8W5zP"
      },
      "source": [
        "##Ejercicio 7\n",
        "Buscar cadena de máximo 50 carácteres"
      ]
    },
    {
      "cell_type": "code",
      "metadata": {
        "id": "3lfY6-byXRfB"
      },
      "source": [
        "int pos = -1;// 1\n",
        "for (int i = 0; i < n; i++) { // 1+n(1+Interna+2)+1\n",
        "  if (strcmp(vec[i], cadBuscar) == 0) {//3-> (1 de llamado a la función)\n",
        "    pos = i;//1\n",
        "    break;\n",
        "  }\n",
        "}\n",
        "//2+n(7)+1\n",
        "//7n+3"
      ],
      "execution_count": null,
      "outputs": []
    },
    {
      "cell_type": "markdown",
      "metadata": {
        "id": "CXc2HTRFXypQ"
      },
      "source": [
        "Tiempo detallado: 7n +3  \n",
        "Tiempo asintótico: O(n)"
      ]
    },
    {
      "cell_type": "markdown",
      "metadata": {
        "id": "_nNbYUBPYIJW"
      },
      "source": [
        "##Ejercicio 8\n",
        "Buscar el mayor"
      ]
    },
    {
      "cell_type": "code",
      "metadata": {
        "id": "M5LYUA2rYck3"
      },
      "source": [
        "int pos = 0;//1\n",
        "for (int i = 1; i < n; i++) {//1+(n)(1+Interna+2)+1\n",
        "  if (vec[i] > vec[pos])//3\n",
        "    pos = i;//1\n",
        "}\n",
        "printf(\"El mayor es: %d\", vec[pos]);//2\n",
        "//5+n(1+4+2)\n",
        "//7n+5"
      ],
      "execution_count": null,
      "outputs": []
    },
    {
      "cell_type": "code",
      "metadata": {
        "id": "8oRVEaJpZ5PL"
      },
      "source": [
        "Tiempo detallado: 7n+5\n",
        "Tiempo asintótico: O(n)"
      ],
      "execution_count": null,
      "outputs": []
    },
    {
      "cell_type": "markdown",
      "metadata": {
        "id": "FP6d2OiDaBnY"
      },
      "source": [
        "##Ejercicio 9\n",
        "Otro algoritmo raro – El while es válido?"
      ]
    },
    {
      "cell_type": "code",
      "metadata": {
        "id": "LVdXCokAaIzf"
      },
      "source": [
        "int max = 0;//1\n",
        "for (int m = 0; m < n; m++) {//1+n(1+Interna+2)+1\n",
        "  int cont = 0;//1\n",
        "  int k = m + 1;//3\n",
        "  while (vec[m] <= vec[k]) {//5(4)+1\n",
        "    k = k + 1;//2\n",
        "    cont++;//2\n",
        "  }\n",
        "  if (cont > max)//1+(1)\n",
        "    max = cont;\n",
        "}\n",
        "printf(\"Maximo %d\", max);// 1\n",
        "//Cálculo\n",
        "//4+n(1+27+2)\n",
        "//30n+4\n"
      ],
      "execution_count": null,
      "outputs": []
    },
    {
      "cell_type": "markdown",
      "metadata": {
        "id": "tbZxrLVNgt7F"
      },
      "source": [
        "Tiempo detallado: 30n+4  \n",
        "Tiempo asintótico: O(n)"
      ]
    },
    {
      "cell_type": "markdown",
      "metadata": {
        "id": "SL36PkoqfYlo"
      },
      "source": [
        "##Ejercicio 10\n",
        "###Logarítmica"
      ]
    },
    {
      "cell_type": "code",
      "metadata": {
        "id": "wowzQbM4fhwT"
      },
      "source": [
        "int i=1; //1\n",
        "while (i < n) { //log(n)2+3+1\n",
        "  if (vec[i] % 2 == 0) //3\n",
        "      i *= 3;//2\n",
        "  else\n",
        "     i *= 2;//2\n",
        "}\n",
        "//Cálculo\n",
        "//log(n)+6"
      ],
      "execution_count": null,
      "outputs": []
    },
    {
      "cell_type": "markdown",
      "metadata": {
        "id": "1iRXYdVJfy8u"
      },
      "source": [
        "Tiempo detallado:log(n)+6  \n",
        "Tiempo asintótico: O(log(n))"
      ]
    },
    {
      "cell_type": "markdown",
      "metadata": {
        "id": "GiNYnVBBmThJ"
      },
      "source": [
        "##Ejercicio 11\n",
        "###Logaritmica"
      ]
    },
    {
      "cell_type": "code",
      "metadata": {
        "id": "ah60ztggn_nx"
      },
      "source": [
        "int i=1;//1\n",
        "while (i < n) { //log(n)+2\n",
        "  if (vec[i] % 2 == 0) //3\n",
        "    n = n / 3;\n",
        "  else\n",
        "    n = n / 2;\n",
        "}\n",
        "//log(n)+3+1\n",
        "//log(n)+4"
      ],
      "execution_count": null,
      "outputs": []
    },
    {
      "cell_type": "markdown",
      "metadata": {
        "id": "eaaGPh_Trdj_"
      },
      "source": [
        "Tiempo detallado: log(n)+4  \n",
        "Tiempo asintótico: O(log(n))"
      ]
    },
    {
      "cell_type": "markdown",
      "metadata": {
        "id": "dUmdcyhToXfx"
      },
      "source": [
        ""
      ]
    },
    {
      "cell_type": "markdown",
      "metadata": {
        "id": "pK3XSnbeoCiX"
      },
      "source": [
        "##Ejercicio 12\n",
        "###Busqueda Binaria - Arreglo ordenado"
      ]
    },
    {
      "cell_type": "code",
      "metadata": {
        "id": "7qPNYWPeoCNo"
      },
      "source": [
        "int inf = 0;                          //1\n",
        "int sup = n - 1;                      //2\n",
        "int pos = -1;                         //1\n",
        "while ((pos == -1) && (sup >= inf)) { //n(Interna)+3\n",
        "  int medio = (inf + sup) / 2;        //4\n",
        "  if (arreglo[medio] == 80)           //2+ (Interna)\n",
        "       pos = medio;                   //1\n",
        "  else if (arreglo[medio] < 80)       //2\n",
        "      inf = medio + 1;                //2\n",
        "  else\n",
        "      sup = medio - 1;                //2\n",
        "}\n",
        "\n",
        "//2+ (4)+4\n",
        "//10n+3+4\n",
        "//10n+7"
      ],
      "execution_count": null,
      "outputs": []
    },
    {
      "cell_type": "code",
      "metadata": {
        "id": "mDWq8c68BuyT"
      },
      "source": [
        ""
      ],
      "execution_count": null,
      "outputs": []
    }
  ]
}