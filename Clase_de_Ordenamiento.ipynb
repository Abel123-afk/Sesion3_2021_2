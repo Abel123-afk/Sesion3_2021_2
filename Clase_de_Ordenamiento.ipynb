{
  "nbformat": 4,
  "nbformat_minor": 0,
  "metadata": {
    "colab": {
      "name": "Clase de Ordenamiento.ipynb",
      "provenance": [],
      "include_colab_link": true
    },
    "kernelspec": {
      "name": "python3",
      "display_name": "Python 3"
    },
    "language_info": {
      "name": "python"
    }
  },
  "cells": [
    {
      "cell_type": "markdown",
      "metadata": {
        "id": "view-in-github",
        "colab_type": "text"
      },
      "source": [
        "<a href=\"https://colab.research.google.com/github/Abel123-afk/Sesion3_2021_2/blob/Sesionmain/Clase_de_Ordenamiento.ipynb\" target=\"_parent\"><img src=\"https://colab.research.google.com/assets/colab-badge.svg\" alt=\"Open In Colab\"/></a>"
      ]
    },
    {
      "cell_type": "code",
      "metadata": {
        "colab": {
          "base_uri": "https://localhost:8080/"
        },
        "id": "n011qJNlcmgC",
        "outputId": "85bf6254-b140-4f78-c3aa-cc0538a4070f"
      },
      "source": [
        "%%writefile clase1.cpp\n",
        "#include<iostream>\n",
        "#include<vector>\n",
        "#include<functional>\n",
        "using namespace std;\n",
        "template<class T>\n",
        "class Ordenamiento{\n",
        "    T* arr;\n",
        "    uint indice;\n",
        "    public:\n",
        "    Ordenamiento( T* arr=new T[50], uint indice=0 )\n",
        "       : arr(arr), indice(indice)\n",
        "    {\n",
        "        \n",
        "    }\n",
        "    ~Ordenamiento(){}\n",
        "    void swap(T* a, T* b)\n",
        "    {\n",
        "      T aux=*a;\n",
        "      *a=*b;\n",
        "      *b=aux;\n",
        "    }\n",
        "    void bubbleSort(function<bool(T a, T b)> c){\n",
        "      for(size_t i=0;i<indice-1;++i)\n",
        "         for(size_t j=0;j<indice-1-i;++j)\n",
        "           if(c(arr[j], arr[j+1]))\n",
        "              swap(&arr[j],&arr[j+1]);\n",
        "      }\n",
        "    void desconocido(function<bool(T a, T b)> c){\n",
        "        for (size_t i = 0; i < indice-1; i++){\n",
        "      \t\tif (c(arr[i],arr[i+1]))\n",
        "        \t\t{\n",
        "              swap(&arr[i],&arr[i + 1]);}        \t\t\t\n",
        "  \t\t\tif (i == 1) i--;\n",
        "  \t\t\telse i -= 2;\n",
        "       \t}\n",
        "    }\n",
        "\n",
        "    void show(function<void(T)> criterio)\n",
        "    {\n",
        "       for(size_t i=0;i<indice;++i)\n",
        "       {\n",
        "           criterio(arr[i]);\n",
        "       }\n",
        "    }\n",
        "};\n",
        "void test01()\n",
        "{\n",
        "    int *arr=new int[20];\n",
        "    for(size_t i=0; i<20; i++)\n",
        "    {\n",
        "        arr[i]=rand()%200+50;\n",
        "    }\n",
        "    Ordenamiento<int>*obj=new Ordenamiento<int>(arr,20);\n",
        "    obj->show([](int a){cout<<a<<\" \";});\n",
        " cout<<endl;\n",
        "    obj->bubbleSort([](int a, int b){return a>b;});\n",
        "    obj->show([](int a){cout<<a<<\" \";});\n",
        "}\n",
        "struct Persona{\n",
        "  string nombre;\n",
        "  short edad;\n",
        "  double sueldo;\n",
        "};\n",
        "\n",
        "void test02()\n",
        "{\n",
        "    Persona *arr=new Persona[4];\n",
        "    arr[0].nombre=\"Pedro\";\n",
        "    arr[0].edad=25;\n",
        "    arr[0].sueldo=2500.0f;\n",
        "    arr[1].nombre=\"Miguel\";\n",
        "    arr[1].edad=50;\n",
        "    arr[1].sueldo=3500.0f;\n",
        "    arr[2].nombre=\"Sandra\";\n",
        "    arr[2].edad=35;\n",
        "    arr[2].sueldo=2800.0f;\n",
        "    arr[3].nombre=\"Ana\";\n",
        "    arr[3].edad=45;\n",
        "    arr[3].sueldo=1800.0f;\n",
        " \n",
        "    Ordenamiento<Persona>*obj=new Ordenamiento<Persona>(arr,4);\n",
        "    obj->show([](Persona a){cout<<a.nombre<<\" \"<<a.edad<<\" \"<<a.sueldo<<endl;});\n",
        "    cout<<endl;\n",
        "    cout<<\"Ordenando por nombre\"<<endl;\n",
        "    //obj->bubbleSort([](Persona a, Persona b){return a.nombre.compare(b.nombre)>0;});\n",
        "    obj->desconocido([](Persona a, Persona b){return a.nombre.compare(b.nombre)>0;});\n",
        "    obj->show([](Persona a){cout<<a.nombre<<\" \"<<a.edad<<\" \"<<a.sueldo<<endl;});\n",
        " \n",
        "    cout<<\"Ordenando por edades\"<<endl;\n",
        "    obj->bubbleSort([](Persona a, Persona b){return a.edad>b.edad;});\n",
        "    obj->show([](Persona a){cout<<a.nombre<<\" \"<<a.edad<<\" \"<<a.sueldo<<endl;});\n",
        "    cout<<endl;\n",
        " \n",
        "    cout<<\"Ordenando por sueldos\"<<endl;\n",
        "    //obj->bubbleSort([](Persona a, Persona b){return a.sueldo>b.sueldo;});\n",
        "    obj->desconocido([](Persona a, Persona b){return a.sueldo>b.sueldo;});\n",
        "    obj->show([](Persona a){cout<<a.nombre<<\" \"<<a.edad<<\" \"<<a.sueldo<<endl;});\n",
        "}\n",
        "int main()\n",
        "{\n",
        "    test02();\n",
        "    return 0;\n",
        "}"
      ],
      "execution_count": null,
      "outputs": [
        {
          "output_type": "stream",
          "name": "stdout",
          "text": [
            "Overwriting clase1.cpp\n"
          ]
        }
      ]
    },
    {
      "cell_type": "code",
      "metadata": {
        "id": "NsqIrW8KfZIx",
        "colab": {
          "base_uri": "https://localhost:8080/"
        },
        "outputId": "730c8710-5d13-4ce6-9c84-ec2b46564394"
      },
      "source": [
        "!g++ clase1.cpp && ./a.out"
      ],
      "execution_count": null,
      "outputs": [
        {
          "output_type": "stream",
          "name": "stdout",
          "text": [
            "^C\n"
          ]
        }
      ]
    },
    {
      "cell_type": "code",
      "metadata": {
        "id": "5ZkddLO3kH9x"
      },
      "source": [
        "\n",
        "\n",
        "\n",
        "\n",
        "\n",
        "\n",
        "\n",
        "\n",
        "\n",
        "\n",
        "\n",
        "\n",
        "\n",
        "\n",
        "\n",
        "\n",
        "\n",
        "\n",
        "\n",
        "\n",
        "\n",
        "\n",
        "\n",
        "\n"
      ],
      "execution_count": null,
      "outputs": []
    }
  ]
}