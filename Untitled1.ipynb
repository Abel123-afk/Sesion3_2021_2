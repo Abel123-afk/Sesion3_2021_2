{
  "nbformat": 4,
  "nbformat_minor": 0,
  "metadata": {
    "colab": {
      "name": "Untitled1.ipynb",
      "provenance": [],
      "include_colab_link": true
    },
    "kernelspec": {
      "name": "python3",
      "display_name": "Python 3"
    },
    "language_info": {
      "name": "python"
    }
  },
  "cells": [
    {
      "cell_type": "markdown",
      "metadata": {
        "id": "view-in-github",
        "colab_type": "text"
      },
      "source": [
        "<a href=\"https://colab.research.google.com/github/Abel123-afk/Sesion3_2021_2/blob/Sesionmain/Untitled1.ipynb\" target=\"_parent\"><img src=\"https://colab.research.google.com/assets/colab-badge.svg\" alt=\"Open In Colab\"/></a>"
      ]
    },
    {
      "cell_type": "markdown",
      "metadata": {
        "id": "Yy_AQdvVhVwc"
      },
      "source": [
        "#Resolución de ejercicios del geneally\n"
      ]
    },
    {
      "cell_type": "markdown",
      "metadata": {
        "id": "k7OzIkEzhiwe"
      },
      "source": [
        "##Ejercicio 1\n",
        "1.¿Cuáles son las diferencias entre struct y clase?  \n",
        "Una clase tiene atributos y miembros que son privados y públicos. Asimismo, tiene un constructor y un destructor. A diferencia de un struct sus miembros son públicos y por lo tanto es accesible para todos, pero no pueden ser instanciados. Además un struct es una colección de uno o más elementos denominados campos, cada uno de los cuales pueden ser diferentes."
      ]
    },
    {
      "cell_type": "code",
      "metadata": {
        "id": "i-ZHJH3yi4t8"
      },
      "source": [
        "//Ejemplo en Código\n",
        "struct Persona{\n",
        "    int dni;\n",
        "    string nombre;\n",
        "    short edad;\n",
        "    string carrera;\n",
        "};\n",
        "class CPersona{\n",
        "    int edad;\n",
        "    string nombre;\n",
        "    string estadoCivil;\n",
        "    \n",
        "    public:\n",
        "    void setName(string ename){\n",
        "        nombre=ename;\n",
        "    }\n",
        "    string getName(){\n",
        "        return name;\n",
        "    }\n",
        "}"
      ],
      "execution_count": null,
      "outputs": []
    },
    {
      "cell_type": "markdown",
      "metadata": {
        "id": "ezQO08Z1joom"
      },
      "source": [
        "##Ejercicio 2\n",
        "2.¿Qué es la herencia tipo público y protegido?  \n",
        "La herencia permite que se puedan definir nuevas clases basadas de unas ya existentes a fin de reutilizar el código. Los datos y funciones miembros protected son directamente accesibles desde la propia clase y sus derivadas. Tienen visibilidad privada para el resto de los ámbitos. En UML, se especifica con “#”. Por otro lado, en herencia de tipo público, los métodos son accesibles para el uso en las clases derivadas. Es decir puedo acceder desde afuera.\n"
      ]
    },
    {
      "cell_type": "code",
      "metadata": {
        "id": "qLMyj-IIj61t"
      },
      "source": [
        "//Ejemplo en código\n",
        "class CPersona{\n",
        "    //Los atributos son privados por defecto\n",
        "    int edad;\n",
        "    string nombre;\n",
        "    string estadoCivil;\n",
        "    \n",
        "    public: //Los métodos son public, y se hereda de esta forma\n",
        "    CPersona(int edad): edad(edad){}\n",
        "    void setName(string ename){\n",
        "        nombre=ename;\n",
        "    }\n",
        "    string getName(){\n",
        "        return name;\n",
        "    }\n",
        "}\n",
        "//Herencia publico->Se usa los métodos, pero no modificar directo un dato private\n",
        "class CIngeniero : public CPerson{\n",
        "    short anniosWork;\n",
        "    string especialidad;\n",
        "    bool employ;\n",
        "    public:\n",
        "    CIngeniero(int edad): CPersona(edad){\n",
        "        employ=true;\n",
        "    }\n",
        "}\n",
        "//Herencia protected\n",
        "class CPerro{\n",
        "    protected:\n",
        "    int edad;\n",
        "    string nombre;\n",
        "    string dueño;\n",
        "    \n",
        "    public: //Los métodos son public, y se hereda de esta forma\n",
        "    CPerro(int edad): edad(edad){}\n",
        "    void setName(string ename){\n",
        "        nombre=ename;\n",
        "    }\n",
        "    string getName(){\n",
        "        return name;\n",
        "    }\n",
        "}\n",
        "Class CBoxerDog: public CPerro{\n",
        "    string raza;\n",
        "    public:\n",
        "    CBoxerDog(){\n",
        "        edad=10;\n",
        "        nombre=\"Boby\";\n",
        "    }\n",
        "\n",
        "}\n",
        "//Esta herecia protected permite editar los atributos de manera directa\n",
        "//de la clase padre"
      ],
      "execution_count": null,
      "outputs": []
    },
    {
      "cell_type": "markdown",
      "metadata": {
        "id": "WO0yfmjbos8j"
      },
      "source": [
        "##Ejercicio 3\n",
        "3.¿Podemos utilizar una función sobrescrita de la clase base en la clase derivada?  \n",
        "Si se puede utilizar, en el sigueinte ejemplo se evidencia una función que luego es sobreescrita y finalmente es usado por la clase derivada.\n"
      ]
    },
    {
      "cell_type": "code",
      "metadata": {
        "colab": {
          "base_uri": "https://localhost:8080/"
        },
        "id": "OaGR52BBpGMr",
        "outputId": "728ca96b-edf0-4496-f23b-8a78f4562583"
      },
      "source": [
        "%%writefile functionOverride.cpp\n",
        "#include<iostream>\n",
        "using namespace std;\n",
        "class CCar{\n",
        "    protected:\n",
        "    string brand;\n",
        "    short age;\n",
        "    double price;\n",
        "    public:\n",
        "    CCar(short age=0, string brand=\"\", double price=0)\n",
        "      :\n",
        "      age(age), brand(brand), price(price){ \n",
        "    }\n",
        "    //Esta función puede ser sobre escrita en la siguiente clase derivada\n",
        "    virtual void setAge(short eage){}\n",
        "};\n",
        "class CToyota: public CCar{\n",
        "    protected:\n",
        "    string color;\n",
        "    public:\n",
        "    CToyota(): CCar(2019,\"Toyota\",20000)\n",
        "    {\n",
        "        color=\"Rojo\";\n",
        "\n",
        "    }\n",
        "    //Esta es la clase base para la siguiente que lo herede\n",
        "    void setAge(short eage) \n",
        "    {\n",
        "        age=eage;\n",
        "    }\n",
        "};\n",
        "class CToyotaCorolla: public CToyota{\n",
        "    string category;\n",
        "    public:\n",
        "    CToyotaCorolla() : CToyota()\n",
        "    {\n",
        "        category=\"Full\";\n",
        "    }\n",
        "    void show()\n",
        "    {\n",
        "        cout<<color<<endl;\n",
        "        cout<<age<<endl;\n",
        "        cout<<brand<<endl;\n",
        "        cout<<price<<endl;\n",
        "    }\n",
        "};\n",
        "int main()\n",
        "{\n",
        "    CToyotaCorolla carRed;\n",
        "    carRed.show();\n",
        " cout<<\"----------\"<<endl;\n",
        "    carRed.setAge(20);\n",
        "    carRed.show();\n",
        "    return 0;\n",
        "}"
      ],
      "execution_count": null,
      "outputs": [
        {
          "output_type": "stream",
          "text": [
            "Overwriting functionOverride.cpp\n"
          ],
          "name": "stdout"
        }
      ]
    },
    {
      "cell_type": "code",
      "metadata": {
        "colab": {
          "base_uri": "https://localhost:8080/"
        },
        "id": "sy6_G0IEtWUE",
        "outputId": "9e71e2cb-4b09-492f-c2da-e19a9370f52d"
      },
      "source": [
        "!g++ functionOverride.cpp && ./a.out"
      ],
      "execution_count": null,
      "outputs": [
        {
          "output_type": "stream",
          "text": [
            "Rojo\n",
            "2019\n",
            "Toyota\n",
            "20000\n",
            "----------\n",
            "Rojo\n",
            "20\n",
            "Toyota\n",
            "20000\n"
          ],
          "name": "stdout"
        }
      ]
    },
    {
      "cell_type": "markdown",
      "metadata": {
        "id": "VbgBBS4eyo4a"
      },
      "source": [
        "##Ejercicio 4\n",
        "4.¿Cómo se crea una clase abstracta?  \n",
        "Se crea una clase abstracta cuando esta no es implementada en la clase padre, sino será desarrollado en sus clases hijas.\n",
        "\n",
        "\n",
        "Una clase abastracta no se puede instanciar, pero si heredar a sus clases hijas."
      ]
    },
    {
      "cell_type": "code",
      "metadata": {
        "id": "KSudr972zQuU",
        "colab": {
          "base_uri": "https://localhost:8080/"
        },
        "outputId": "de9c4fc4-1dd3-4d94-eb69-86fa3bddf5ae"
      },
      "source": [
        "%%writefile claseabstracta.cpp\n",
        "#include<iostream>\n",
        "using namespace std;\n",
        "//La siguiente manera de dejar vacío los metodos evidencia una clase abstracta\n",
        "class  CBalas{\n",
        "    int tipo;\n",
        "    int direccion;\n",
        "    public:\n",
        "    CBalas(){}\n",
        "    virtual void mover(){}\n",
        "    virtual void disparar(){} \n",
        "};\n",
        "int main(){\n",
        "    \n",
        "    return 0;\n",
        "}"
      ],
      "execution_count": 17,
      "outputs": [
        {
          "output_type": "stream",
          "text": [
            "Overwriting claseabstracta.cpp\n"
          ],
          "name": "stdout"
        }
      ]
    },
    {
      "cell_type": "code",
      "metadata": {
        "id": "TfP8YoeGbMfB"
      },
      "source": [
        "!g++ claseabstracta.cpp && ./a.out"
      ],
      "execution_count": 18,
      "outputs": []
    },
    {
      "cell_type": "markdown",
      "metadata": {
        "id": "ZJZX9rCgMtco"
      },
      "source": [
        "##Ejercicio 5\n",
        "5.¿Qué pasa si creo un objeto de una clase abstracta, muestra un error o compila con éxito?  \n",
        "Una clase abstracta compila pero los métodos al no ser implementado estos no podrán realizar nada. De crear el objeto si lo hace porque toda clase tiene su constructor. Compila con éxito pero sus métodos están no definidos.\n"
      ]
    },
    {
      "cell_type": "code",
      "metadata": {
        "id": "EEZ6Mmt_MxKD",
        "colab": {
          "base_uri": "https://localhost:8080/"
        },
        "outputId": "6993bce0-7c9c-4dc5-f8fb-a63544b73261"
      },
      "source": [
        "%%writefile abstractClass.cpp\n",
        "#include<iostream>\n",
        "using namespace std;\n",
        "class CAnimal{\n",
        "    string name;\n",
        "    short age;\n",
        "    public:\n",
        "    CAnimal(){}\n",
        "    void respirar(){}\n",
        "    string getNombre(){}\n",
        "    void cuidarCrias(){}\n",
        "    void show(){\n",
        "        cout<<\"Soy un perro\";\n",
        "    }\n",
        "};\n",
        "int main(){\n",
        "    CAnimal perrito;\n",
        "    perrito.show();\n",
        "    return 0;    \n",
        "}"
      ],
      "execution_count": 25,
      "outputs": [
        {
          "output_type": "stream",
          "text": [
            "Overwriting abstractClass.cpp\n"
          ],
          "name": "stdout"
        }
      ]
    },
    {
      "cell_type": "code",
      "metadata": {
        "colab": {
          "base_uri": "https://localhost:8080/"
        },
        "id": "f20UN18ciDCC",
        "outputId": "723ea82d-0efe-4abb-8f05-993089d44f9a"
      },
      "source": [
        "!g++ abstractClass.cpp && ./a.out"
      ],
      "execution_count": 26,
      "outputs": [
        {
          "output_type": "stream",
          "text": [
            "Soy un perro"
          ],
          "name": "stdout"
        }
      ]
    },
    {
      "cell_type": "markdown",
      "metadata": {
        "id": "WtKq7wkMM0ot"
      },
      "source": [
        "##Ejercicio 6\n",
        "6.¿Por qué creamos el destructor y qué hay dentro del destructor?  \n",
        "Los destructores son funciones que se invoca automáticamente cuando el objeto sale del ámbito o se destruye explícitamente mediante una llamada a delete. Solo se define un constructor para eliminar y liberarse de los punteros que poseen a memoria dinámica a la que apuntan.\n"
      ]
    },
    {
      "cell_type": "code",
      "metadata": {
        "id": "bMumvBgCM4Me"
      },
      "source": [
        " %%writefile classWithDestructor.cpp\n",
        "  #include<iostream>\n",
        "  using namespace std;\n",
        "  class CArregloPeople{\n",
        "      int n;\n",
        "      CPeople *arr;\n",
        "      public:\n",
        "      CArregloPeople(){\n",
        "         n=0;\n",
        "         arr=new CPeople[n];\n",
        "      }\n",
        "      ~CArregloPeople(){\n",
        "          //Eliminamos a cada objeto dentro de arreglo\n",
        "          for (int i=0; i<n; i++)\n",
        "          {\n",
        "              delete arr[i];\n",
        "          }\n",
        "          //eliminamos el puntero\n",
        "          delete arr;\n",
        "      }\n",
        "  }"
      ],
      "execution_count": null,
      "outputs": []
    },
    {
      "cell_type": "markdown",
      "metadata": {
        "id": "axY7Y57jM4uq"
      },
      "source": [
        "##Ejercicio 7 \n",
        "7.¿Cómo se asigna la memoria en C++?  \n",
        "La memoria en C++ se asigna mediante punteros que están apuntando a una dirección de memoria, esto se hace de forma dinámica y se observa en los arreglos que se crean de forma diseñada o ya listo por los vectores.\n"
      ]
    },
    {
      "cell_type": "code",
      "metadata": {
        "id": "zqTKx-B8M8Al",
        "colab": {
          "base_uri": "https://localhost:8080/"
        },
        "outputId": "8ce69d13-c065-4ad7-a0c9-b46f21c724d9"
      },
      "source": [
        "%%writefile memory.cpp\n",
        "#include<iostream>\n",
        "using namespace std;\n",
        "int main()\n",
        "{\n",
        "    int *num1;\n",
        "    int a=10;\n",
        " cout<<\"El valor de la direccion de la memoria es: \";\n",
        "    cout<<*num1;\n",
        " cout<<endl;\n",
        " cout<<\"La dirección de memoria es: \";\n",
        " cout<<&num1;\n",
        "    return 0;\n",
        "}"
      ],
      "execution_count": 27,
      "outputs": [
        {
          "output_type": "stream",
          "text": [
            "Writing memory.cpp\n"
          ],
          "name": "stdout"
        }
      ]
    },
    {
      "cell_type": "code",
      "metadata": {
        "colab": {
          "base_uri": "https://localhost:8080/"
        },
        "id": "js0UB3f8oYkG",
        "outputId": "356542bd-ec96-43cf-cd48-36ff301120a3"
      },
      "source": [
        "!g++ memory.cpp && ./a.out"
      ],
      "execution_count": 28,
      "outputs": [
        {
          "output_type": "stream",
          "text": [
            "El valor de la direccion de la memoria es: 1\n",
            "La dirección de memoria es: 0x7ffd88b33960"
          ],
          "name": "stdout"
        }
      ]
    },
    {
      "cell_type": "markdown",
      "metadata": {
        "id": "si_vibVNM-wY"
      },
      "source": [
        "##Ejercicio 8\n",
        "8.¿Ha utilizado la sobrecarga de operadores en su proyecto y cómo?  \n",
        "El operador ++ en un principio se utilizaba para aumentar el tamaño de los n elementos de un arreglo al momento de insertar objetos en un arreglo. Sin embargo, luego de aprender vector esto ya no se aplicó.\n"
      ]
    },
    {
      "cell_type": "code",
      "metadata": {
        "id": "dgJsHD_-NJxp"
      },
      "source": [
        "%%writefile sobrecargadeoperadores;\n",
        "class CArreglo{\n",
        "    int n;\n",
        "    bool *vec;\n",
        "    public:\n",
        "    CArreglo(){}\n",
        "    ~CArreglo(){}\n",
        "    void insertar(bool nuevo)\n",
        "    {\n",
        "        bool*aux=new int [n+1];\n",
        "        for (int i=0; i<n; i++)\n",
        "        {\n",
        "            aux[i]=vec[i];\n",
        "        }\n",
        "        aux[n]=nuevo;\n",
        "        vec=aux;\n",
        "        aux=nullptr;\n",
        "        delete aux;\n",
        "        n++;\n",
        "    }\n",
        "};\n",
        "\n",
        "//En este caso la sobrecarga de operadores se observa en el +(suma) y (-) resta\n",
        "//(=) asignación;"
      ],
      "execution_count": null,
      "outputs": []
    },
    {
      "cell_type": "markdown",
      "metadata": {
        "id": "PJDuMDYFNL6L"
      },
      "source": [
        "##Ejercicio 9\n",
        "9.¿DIFERENCIA ENTRE ENCAPSULAMIENTO Y ABSTRACCIÓN?  \n",
        "Encapsulamiento significa que los datos del objeto están protegidos, “ocultos ” dentro del objeto. La abstracción es un concepto muy similar al de la encapsulación, con la diferencia principal de que la abstracción nos permite representar el mundo real de una forma más sencilla. Podríamos definirlo también como la forma de identificar las características y funcionalidades necesarias que un objeto desempeña sin entrar en detalle de lo que estamos haciendo.\n"
      ]
    },
    {
      "cell_type": "code",
      "metadata": {
        "id": "tU2tsJrGNUHP"
      },
      "source": [
        ""
      ],
      "execution_count": null,
      "outputs": []
    },
    {
      "cell_type": "markdown",
      "metadata": {
        "id": "Fd-TFvZXNUg2"
      },
      "source": [
        "##Ejercicio 10\n",
        "10.CUANDO LA MISMA FUNCIÓN EXISTE TANTO EN LA CLASE BASE COMO EN LA CLASE DERIVADA, ¿QUÉ FUNCIÓN ES EJECUTADA?  \n",
        "Se ejecuta la función de la clase derivada, porque si bien es cierto que, el compilador primero verifica el método de la clase base, luego verifica que si también existe el método en la clase derivada, de ser así ejecuta el código de la última. \n"
      ]
    },
    {
      "cell_type": "code",
      "metadata": {
        "id": "4fegH1FBNXTE"
      },
      "source": [
        ""
      ],
      "execution_count": null,
      "outputs": []
    },
    {
      "cell_type": "markdown",
      "metadata": {
        "id": "AS0FOMpRNXtF"
      },
      "source": [
        "##Ejercicio 11 \n",
        "11.¿CÓMO PODEMOS UTILIZAR EL CONSTRUCTOR DE LA CLASE BASE CREANDO UN OBJETO DE LA CLASE DERIVADA?  \n",
        "La podemos usar para poder asignar datos directos a los atributos heredados. Esto lo logramos al enviar los datos como parámetros llamando al constructor de la clase base.\n"
      ]
    },
    {
      "cell_type": "code",
      "metadata": {
        "id": "I-A8uuhsNcrO"
      },
      "source": [
        ""
      ],
      "execution_count": null,
      "outputs": []
    },
    {
      "cell_type": "markdown",
      "metadata": {
        "id": "AXVDyO7MNf6P"
      },
      "source": [
        "##Ejercicio 12\n",
        "12.¿QUÉ ES LA HERENCIA Y CÓMO LO UTILIZÓ EN SU PROYECTO?  \n",
        "Es una propiedad esencial de POO que consiste en la creación de nuevas clases a partir de otras que ya existen. Esta propiedad nos permite reutilizar código y de esta forma el programador ahorra tiempo y dinero.\n"
      ]
    },
    {
      "cell_type": "code",
      "metadata": {
        "id": "o1fpfGamNj8q"
      },
      "source": [
        ""
      ],
      "execution_count": null,
      "outputs": []
    },
    {
      "cell_type": "markdown",
      "metadata": {
        "id": "BrSriASDNkgI"
      },
      "source": [
        "##Ejercicio 13\n",
        "13.¿QUÉ ES NAMESPACE STD?  \n",
        "Es la forma de tener acceso a la librería estándar. En caso no se utilice el using namespace std tendremos que indicar en qué espacio de nombres residen los objetos, clases, etc que se estén utilizando. Para ello se coloca el std:: antes de usar las clases, objetos, etc."
      ]
    },
    {
      "cell_type": "code",
      "metadata": {
        "id": "JLb8s7kJNntm"
      },
      "source": [
        ""
      ],
      "execution_count": null,
      "outputs": []
    },
    {
      "cell_type": "markdown",
      "metadata": {
        "id": "3WwLMQw-Nri4"
      },
      "source": [
        "##Ejercicio 14\n",
        "14.¿POR QUÉ CREAMOS UNA CLASE ABSTRACTA?  \n",
        "Porque queremos usar métodos abstractos que se implementan en cada clase heredada, con esto logramos que un método tenga una función única de cada clase.\n"
      ]
    },
    {
      "cell_type": "code",
      "metadata": {
        "id": "W9vIiJQrNtkW"
      },
      "source": [
        ""
      ],
      "execution_count": null,
      "outputs": []
    },
    {
      "cell_type": "markdown",
      "metadata": {
        "id": "TldgifBDNt9I"
      },
      "source": [
        "##Ejercicio 15\n",
        "15.¿QUÉ ES LA MEMORIA TIPO PILA Y CÓMO FUNCIONA?  \n",
        "Es una estructura de datos en la que el modo de acceso a sus elementos es de tipo LIFO. Tiene dos operaciones básicas : apilar(push), sirve para agregar un objeto a la pila y la operación inversa retirar(pop) que cumple la función de eliminar el último elemento apilado.\n"
      ]
    },
    {
      "cell_type": "code",
      "metadata": {
        "id": "OqJDesBiNz9N"
      },
      "source": [
        ""
      ],
      "execution_count": null,
      "outputs": []
    },
    {
      "cell_type": "markdown",
      "metadata": {
        "id": "H_zNv4NdN0f2"
      },
      "source": [
        "##Ejercicio 16\n",
        "16.¿CÓMO HA UTILIZADO EL POLIMORFISMO EN SU TRABAJO FINAL DE CURSO?   \n",
        " En el trabajo final de programación 2 he utilizado el concepto de polimorfismo cuando tenía subclases Héroe, villano o aliado. Entonces, todas estas subclases son heredadas de la clase Persona, es decir, no importaba si era \n"
      ]
    },
    {
      "cell_type": "code",
      "metadata": {
        "id": "mBBYjnMXN8OU"
      },
      "source": [
        ""
      ],
      "execution_count": null,
      "outputs": []
    },
    {
      "cell_type": "markdown",
      "metadata": {
        "id": "52724xuyN8pK"
      },
      "source": [
        "##Ejercicio 17\n",
        "17.¿QUÉ ES EL RETRASO EN LA VINCULACIÓN (LATE BINDING)?  \n",
        "Significa que la vinculación de la invocación de la función a su definición ocurre en tiempo de ejecución sobre la base del objeto de la llamada. Un ejemplo sería cuando se aplica la función virtual en la clase padre.\n"
      ]
    },
    {
      "cell_type": "code",
      "metadata": {
        "id": "OFRYLpI2N_BE"
      },
      "source": [
        ""
      ],
      "execution_count": null,
      "outputs": []
    },
    {
      "cell_type": "markdown",
      "metadata": {
        "id": "KT1cY2u6OAEf"
      },
      "source": [
        "##Ejercicio 18\n",
        "18.¿QUÉ ESTRUCTURA DE DATOS HA UTILIZADO EN SU TRABAJO FINAL DEL CURSO?  \n",
        "Utilizamos el tipo estructura primitiva como por ejemplo números, caracteres, booleanos y punteros. Además se empleó la estructura no primitiva como los arreglos y vectores. \n"
      ]
    },
    {
      "cell_type": "code",
      "metadata": {
        "id": "8ay7zLwXOCXj"
      },
      "source": [
        ""
      ],
      "execution_count": null,
      "outputs": []
    },
    {
      "cell_type": "markdown",
      "metadata": {
        "id": "v9974Wz-OEpF"
      },
      "source": [
        "##Ejercicio 19\n",
        "19.¿POR QUÉ CERRAR EL ARCHIVO? ¿ES NECESARIO CERRARLO O SE CERRARÁ AUTOMÁTICAMENTE AL SALIR DEL PROGRAMA?  \n",
        " Una vez que hemos acabado nuestro trabajo con un fichero es recomendable cerrarlo. Los ficheros se cierran al finalizar el programa pero el número de estos que pueden estar abiertos es limitado."
      ]
    },
    {
      "cell_type": "code",
      "metadata": {
        "id": "PhknCixvOHLB"
      },
      "source": [
        ""
      ],
      "execution_count": null,
      "outputs": []
    },
    {
      "cell_type": "markdown",
      "metadata": {
        "id": "4AsyJ07AOxdB"
      },
      "source": [
        "##Ejercicio 20\n",
        "20.¿QUÉ ES OBJECT SLICING?  \n",
        "Cuando un objeto Clase derivada se asigna a la clase Base, el contenido de la clase base en el objeto derivado se copia en la clase base dejando atrás el contenido específico de la clase derivada. Esto se conoce como object slicing. Es decir, el objeto de la clase base sólo puede acceder a los miembros de la clase base. Esto también implica que ha ocurrido la separación de los miembros de la clase base de los miembros de la clase derivada.\n"
      ]
    },
    {
      "cell_type": "code",
      "metadata": {
        "id": "Mm8MSOdzOzch"
      },
      "source": [
        ""
      ],
      "execution_count": null,
      "outputs": []
    },
    {
      "cell_type": "markdown",
      "metadata": {
        "id": "QqL0kJ3sOzxh"
      },
      "source": [
        "##Ejercicio 21\n",
        "21.¿QUÉ OBJETOS STL HA UTILIZADO EN SU PROYECTO FINAL Y POR QUÉ?  \n",
        "Se usó la librería vector porque nos permite  almacenar múltiples objetos de un solo tipo en una sola variable como por ejemplo a nuestros aliados, habitantes, agentes, obstáculos y paredes.\n"
      ]
    },
    {
      "cell_type": "code",
      "metadata": {
        "id": "k7g-bn8YO10L"
      },
      "source": [
        ""
      ],
      "execution_count": null,
      "outputs": []
    },
    {
      "cell_type": "markdown",
      "metadata": {
        "id": "nq-CfOYTO2Uy"
      },
      "source": [
        "##Ejercicio 22\n",
        "22.¿POR QUÉ ESCRIBIMOS EL CONSTRUCTOR?  \n",
        "Para asegurar que los objetos inicien con valores válidos o sin basura. \n"
      ]
    },
    {
      "cell_type": "code",
      "metadata": {
        "id": "yFXNP6eJO4Kq"
      },
      "source": [
        ""
      ],
      "execution_count": null,
      "outputs": []
    },
    {
      "cell_type": "markdown",
      "metadata": {
        "id": "gLU1idY1O4hw"
      },
      "source": [
        "##Ejercicio 23\n",
        "23.¿QUÉ PASARÍA SI NO ESCRIBIMOS EL CONSTRUCTOR?  \n",
        "Si no se declara ningún constructor en una clase, el compilador proporciona un inline constructor predeterminado implícito. De optar por un constructor predeterminado deberemos colocar inicializadores.\n"
      ]
    },
    {
      "cell_type": "code",
      "metadata": {
        "id": "r_5ojIC1O83G"
      },
      "source": [
        ""
      ],
      "execution_count": null,
      "outputs": []
    },
    {
      "cell_type": "markdown",
      "metadata": {
        "id": "qwP_zKyVO9X6"
      },
      "source": [
        "##Ejercicio 24\n",
        "24.¿PUEDO SOBRECARGAR EL DESTRUCTOR?, ¿POR QUÉ?  \n",
        "Una función destructora no puede especificar argumentos, no devuelve valor alguno, ni puede ser sobrecargado (homonimia). Un destructor se invoca cuando deja de existir el ámbito del respectivo objeto.\n"
      ]
    },
    {
      "cell_type": "code",
      "metadata": {
        "id": "Tjny30OVO_Yw"
      },
      "source": [
        ""
      ],
      "execution_count": null,
      "outputs": []
    },
    {
      "cell_type": "markdown",
      "metadata": {
        "id": "IhUZn9KOO_4O"
      },
      "source": [
        "##Ejercicio 25\n",
        "25.¿DIFERENCIA ENTRE TUPLA Y VECTOR?  \n",
        "Por un lado, una tupla es un conjunto de objetos de una longitud determinada a su vez estos no pueden ser del mismo tipo. Por otro lado, un vector es un conjunto de elementos del mismo tipo en el cual podemos modificar los valores que este contenga. \n"
      ]
    },
    {
      "cell_type": "code",
      "metadata": {
        "id": "Eg74li6NPBty"
      },
      "source": [
        ""
      ],
      "execution_count": null,
      "outputs": []
    },
    {
      "cell_type": "markdown",
      "metadata": {
        "id": "n17ciM-sPCVY"
      },
      "source": [
        "##Ejercicio 26 \n",
        "26.¿CUÁL ES EL ORDEN DE LLAMADA A LOS CONSTRUCTORES CUANDO SE CREA UN OBJETO DE UNA CLASE DERIVADA?  \n",
        "Primero se llama al constructor o constructores de la clase base para asegurarse que esta se inicialice por completo, luego se procede a la ejecución del constructor derivado. \n"
      ]
    },
    {
      "cell_type": "code",
      "metadata": {
        "id": "tuABtPIiPEfM"
      },
      "source": [
        ""
      ],
      "execution_count": null,
      "outputs": []
    },
    {
      "cell_type": "markdown",
      "metadata": {
        "id": "hPtw6wxnPFXr"
      },
      "source": [
        "##Ejercicio 27\n",
        "27.¿DIFERENCIA LA IMPLEMENTACIÓN DE UNA RELACIÓN COMPOSICIÓN Y AGREGACIÓN?  \n",
        "La agregación implica una relación en la que el hijo puede existir independientemente del padre. Por otro lado, la composición insinúa una relación donde el niño no puede existir independientemente del padre.\n"
      ]
    },
    {
      "cell_type": "code",
      "metadata": {
        "id": "dvuYqLGuPIIi"
      },
      "source": [
        ""
      ],
      "execution_count": null,
      "outputs": []
    },
    {
      "cell_type": "markdown",
      "metadata": {
        "id": "gj4fHByZPIp3"
      },
      "source": [
        "##Ejercicio 28\n",
        "28.¿CÓMO HACER EL MANEJO DE EXCEPCIONES EN C + +?  \n",
        "Las excepciones son cuestiones de procedimiento que surjan durante la ejecución. C ++ excepción se refiere a cuando sucede especial se ejecuta el programa, tales como los intentos de dividir por cero en las operaciones.\n",
        "Los pasos manejar una excepción son:\n",
        "Cuando surgen problemas, el programa emitirá una excepción. Esto se hace mediante el uso de la palabra clave de banda para completar.\n",
        "En la que desea hacer frente al problema, una excepción es atrapada por un manejador de excepciones palabra clave catch se utiliza para capturar las excepciones.\n",
        "Tratar código de bloque identifica se activa una excepción específica. Detrás de ella por lo general es seguido por uno o más bloques catch.\n"
      ]
    },
    {
      "cell_type": "code",
      "metadata": {
        "id": "qpXgLCNmPLx7"
      },
      "source": [
        ""
      ],
      "execution_count": null,
      "outputs": []
    },
    {
      "cell_type": "markdown",
      "metadata": {
        "id": "BbaGUhaPPMQB"
      },
      "source": [
        "##Ejercicio 29\n",
        "29.¿PUEDE EJEMPLIFICAR UNA RELACIÓN DE DEPENDENCIA?  \n",
        "Sucede cuando una clase depende de otra para realizar su funcionamiento.\n",
        "Ejemplo: Clase Impresora - - > Clase Papel\n",
        "En este caso la clase impresora llama a la clase papel, en algún método que esta contenga para realizar alguna tarea.\n"
      ]
    },
    {
      "cell_type": "code",
      "metadata": {
        "id": "BnNRbptTPOor"
      },
      "source": [
        ""
      ],
      "execution_count": null,
      "outputs": []
    },
    {
      "cell_type": "markdown",
      "metadata": {
        "id": "MDGLpF3SPPZM"
      },
      "source": [
        "##Ejercicio 30 \n",
        "30.¿UNA CLASE PUEDE HEREDAR DE 2 CLASES BASE?  \n",
        "La respuesta es sí, pero no en todos los lenguajes de programación, esto es debido a los posibles conflictos que pueden provocarse por los nombres de las funciones, etc. Algunos lenguajes que pueden son los siguientes: C++, Python y Eiffel.  \n",
        "\n",
        "¿PUEDE IDENTIFICAR UNA RELACIÓN DE ASOCIACIÓN?  \n",
        "Por su puesto, una relación de asociación es aquella en donde las clases se relacionan porque trabajan juntas; sin embargo, ambas son independientes entre sí.\n"
      ]
    },
    {
      "cell_type": "code",
      "metadata": {
        "id": "o7j4MaFlPRj-"
      },
      "source": [
        ""
      ],
      "execution_count": null,
      "outputs": []
    }
  ]
}